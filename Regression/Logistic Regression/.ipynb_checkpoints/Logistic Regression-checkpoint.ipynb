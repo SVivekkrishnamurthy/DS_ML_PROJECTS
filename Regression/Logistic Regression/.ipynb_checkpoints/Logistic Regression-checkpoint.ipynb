{
 "cells": [
  {
   "cell_type": "markdown",
   "id": "2d9d00db",
   "metadata": {},
   "source": [
    "## 1. Introduction to Logistic Regression \n",
    "\n",
    "    When data scientists may come across a new classification problem, the first algorithm that may come across their mind \n",
    "    is Logistic Regression. It is a supervised learning classification algorithm which is used to predict observations to \n",
    "    a discrete set of classes. Practically, it is used to classify observations into different categories. Hence,\n",
    "    its output is discrete in nature. Logistic Regression is also called Logit Regression. It is one of the most \n",
    "    simple, straightforward and versatile classification algorithms which is used to solve classification problems."
   ]
  },
  {
   "cell_type": "markdown",
   "id": "b8876147",
   "metadata": {},
   "source": [
    "## 2. Logistic Regression intuition\n",
    "\n",
    "        In statistics, the Logistic Regression model is a widely used statistical model which is primarily \n",
    "        used for classification purposes. It means that given a set of observations, Logistic Regression algorithm \n",
    "        helps us to classify these observations into two or more discrete classes. So, the target variable is \n",
    "        discrete in nature.\n",
    "\n",
    "    The Logistic Regression algorithm works as follows -"
   ]
  },
  {
   "cell_type": "markdown",
   "id": "ea2767db",
   "metadata": {},
   "source": [
    "### Implement linear equation\n",
    "\n",
    "    Logistic Regression algorithm works by implementing a linear equation with independent or explanatory variables \n",
    "    to predict a response value. For example, we consider the example of number of hours studied and probability \n",
    "    of passing the exam. Here, number of hours studied is the explanatory variable and it is denoted by x1. \n",
    "    Probability of passing the exam is the response or target variable and it is denoted by z.\n",
    "\n",
    "    If we have one explanatory variable (x1) and one response variable (z), then the linear equation \n",
    "    would be given mathematically with the following equation-\n",
    "    \n",
    ">#### z = β0 + β1x1\n",
    "\n",
    "    Here, the coefficients β0 and β1 are the parameters of the model.\n",
    "\n",
    "    If there are multiple explanatory variables, then the above equation can be extended to\n",
    "\n",
    ">#### z = β0 + β1x1+ β2x2+……..+ βnxn\n",
    "\n",
    "    Here, the coefficients β0, β1, β2 and βn are the parameters of the model.\n",
    "\n",
    "    So, the predicted response value is given by the above equations and is denoted by z.\n",
    "    \n",
    "#### Sigmoid Function\n",
    "    This predicted response value, denoted by z is then converted into a probability value that lie between 0 and 1. \n",
    "    We use the sigmoid function in order to map predicted values to probability values. This sigmoid function then\n",
    "    maps any real value into a probability value between 0 and 1.\n",
    "\n",
    "    In machine learning, sigmoid function is used to map predictions to probabilities. The sigmoid function has an \n",
    "    S shaped curve. It is also called sigmoid curve.\n",
    "\n",
    "    A Sigmoid function is a special case of the Logistic function. It is given by the following mathematical formula.\n",
    "\n",
    "    Graphically, we can represent sigmoid function with the following graph."
   ]
  },
  {
   "cell_type": "markdown",
   "id": "6870468b",
   "metadata": {},
   "source": [
    "### Decision boundary\n",
    "    The sigmoid function returns a probability value between 0 and 1. This probability value is then mapped to a discrete class which is either “0” or “1”. In order to map this probability value to a discrete class (pass/fail, yes/no, true/false), we select a threshold value. This threshold value is called Decision boundary. Above this threshold value, we will map the probability values into class 1 and below which we will map values into class 0.\n",
    "\n",
    "    Mathematically, it can be expressed as follows:-\n",
    "\n",
    ">#### p ≥ 0.5 => class = 1\n",
    "\n",
    ">#### p < 0.5 => class = 0\n",
    "\n",
    "    Generally, the decision boundary is set to 0.5. So, if the probability value is 0.8 (> 0.5), we will map this \n",
    "    observation to class 1. Similarly, if the probability value is 0.2 (< 0.5), we will map this observation to class 0. \n",
    "    This is represented in the graph below-"
   ]
  },
  {
   "cell_type": "markdown",
   "id": "0db34857",
   "metadata": {},
   "source": [
    "### 3. Assumptions of Logistic Regression\n",
    "\n",
    "        The Logistic Regression model requires several key assumptions. These are as follows:-\n",
    "\n",
    "    1. Logistic Regression model requires the dependent variable to be binary, multinomial or ordinal in nature.\n",
    "    \n",
    "    2. It requires the observations to be independent of each other. So, the observations should not come \n",
    "    from repeated measurements.\n",
    "    \n",
    "    3. Logistic Regression algorithm requires little or no multicollinearity among the independent variables. \n",
    "       It means that the independent variables should not be too highly correlated with each other.\n",
    "    \n",
    "    4. Logistic Regression model assumes linearity of independent variables and log odds.\n",
    "    \n",
    "    5. The success of Logistic Regression model depends on the sample sizes. Typically, it requires a large \n",
    "       sample size to achieve the high accuracy."
   ]
  },
  {
   "cell_type": "markdown",
   "id": "f45dd7d3",
   "metadata": {},
   "source": [
    "### Types of Logistic Regression\n",
    "\n",
    "    Logistic Regression model can be classified into three groups based on the target variable categories. \n",
    "    These three groups are described below:-\n",
    "    \n",
    "#### 1.Binary Logistic Regression\n",
    "      In Binary Logistic Regression, the target variable has two possible categories. \n",
    "      The common examples of categories are yes or no, good or bad, true or false, \n",
    "      spam or no spam and pass or fail.     \n",
    "#### 2. Multinomial Logistic Regression\n",
    "        In Multinomial Logistic Regression, the target variable has three or more categories \n",
    "        which are not in any particular order. So, there are three or more nominal categories. \n",
    "        The examples include the type of categories of fruits - apple, mango, orange and banana.      \n",
    "#### 3. Ordinal Logistic Regression\n",
    "        In Ordinal Logistic Regression, the target variable has three or more ordinal categories. \n",
    "        So, there is intrinsic order involved with the categories. For example, \n",
    "        the student performance can be categorized as poor, average, good and excellent.\n",
    "        "
   ]
  },
  {
   "cell_type": "code",
   "execution_count": 1,
   "id": "a9d0722b",
   "metadata": {},
   "outputs": [
    {
     "name": "stdout",
     "output_type": "stream",
     "text": [
      "['healthcare_dataset.csv']\n"
     ]
    }
   ],
   "source": [
    "# Import libraries \n",
    "\n",
    "import numpy as np # linear algebra\n",
    "import pandas as pd # data processing, CSV file I/O (e.g. pd.read_csv)\n",
    "\n",
    "\n",
    "import matplotlib.pyplot as plt # data visualization\n",
    "import seaborn as sns # statistical data visualization\n",
    "%matplotlib inline\n",
    "\n",
    "\n",
    "import os\n",
    "print(os.listdir(\"C:/Users/vsubramanian/Desktop/Python/Data/ML Projects/Logistic Regression/input\"))\n",
    "# Any results you write to the current directory are saved as output."
   ]
  },
  {
   "cell_type": "code",
   "execution_count": 2,
   "id": "bb8e116b",
   "metadata": {},
   "outputs": [],
   "source": [
    "import warnings\n",
    "\n",
    "warnings.filterwarnings('ignore')"
   ]
  },
  {
   "cell_type": "code",
   "execution_count": 3,
   "id": "84c41abb",
   "metadata": {},
   "outputs": [],
   "source": [
    "Health_df  = pd.read_csv('C:/Users/vsubramanian/Desktop/Python/Data/ML Projects/Logistic Regression/Input/healthcare_dataset.csv')"
   ]
  },
  {
   "cell_type": "code",
   "execution_count": 4,
   "id": "d5876a3f",
   "metadata": {},
   "outputs": [
    {
     "data": {
      "text/html": [
       "<div>\n",
       "<style scoped>\n",
       "    .dataframe tbody tr th:only-of-type {\n",
       "        vertical-align: middle;\n",
       "    }\n",
       "\n",
       "    .dataframe tbody tr th {\n",
       "        vertical-align: top;\n",
       "    }\n",
       "\n",
       "    .dataframe thead th {\n",
       "        text-align: right;\n",
       "    }\n",
       "</style>\n",
       "<table border=\"1\" class=\"dataframe\">\n",
       "  <thead>\n",
       "    <tr style=\"text-align: right;\">\n",
       "      <th></th>\n",
       "      <th>Name</th>\n",
       "      <th>Age</th>\n",
       "      <th>Gender</th>\n",
       "      <th>Blood Type</th>\n",
       "      <th>Medical Condition</th>\n",
       "      <th>Date of Admission</th>\n",
       "      <th>Doctor</th>\n",
       "      <th>Hospital</th>\n",
       "      <th>Insurance Provider</th>\n",
       "      <th>Billing Amount</th>\n",
       "      <th>Room Number</th>\n",
       "      <th>Admission Type</th>\n",
       "      <th>Discharge Date</th>\n",
       "      <th>Medication</th>\n",
       "      <th>Test Results</th>\n",
       "    </tr>\n",
       "  </thead>\n",
       "  <tbody>\n",
       "    <tr>\n",
       "      <th>0</th>\n",
       "      <td>Tiffany Ramirez</td>\n",
       "      <td>81</td>\n",
       "      <td>Female</td>\n",
       "      <td>O-</td>\n",
       "      <td>Diabetes</td>\n",
       "      <td>2022-11-17</td>\n",
       "      <td>Patrick Parker</td>\n",
       "      <td>Wallace-Hamilton</td>\n",
       "      <td>Medicare</td>\n",
       "      <td>37490.983364</td>\n",
       "      <td>146</td>\n",
       "      <td>Elective</td>\n",
       "      <td>2022-12-01</td>\n",
       "      <td>Aspirin</td>\n",
       "      <td>Inconclusive</td>\n",
       "    </tr>\n",
       "    <tr>\n",
       "      <th>1</th>\n",
       "      <td>Ruben Burns</td>\n",
       "      <td>35</td>\n",
       "      <td>Male</td>\n",
       "      <td>O+</td>\n",
       "      <td>Asthma</td>\n",
       "      <td>2023-06-01</td>\n",
       "      <td>Diane Jackson</td>\n",
       "      <td>Burke, Griffin and Cooper</td>\n",
       "      <td>UnitedHealthcare</td>\n",
       "      <td>47304.064845</td>\n",
       "      <td>404</td>\n",
       "      <td>Emergency</td>\n",
       "      <td>2023-06-15</td>\n",
       "      <td>Lipitor</td>\n",
       "      <td>Normal</td>\n",
       "    </tr>\n",
       "    <tr>\n",
       "      <th>2</th>\n",
       "      <td>Chad Byrd</td>\n",
       "      <td>61</td>\n",
       "      <td>Male</td>\n",
       "      <td>B-</td>\n",
       "      <td>Obesity</td>\n",
       "      <td>2019-01-09</td>\n",
       "      <td>Paul Baker</td>\n",
       "      <td>Walton LLC</td>\n",
       "      <td>Medicare</td>\n",
       "      <td>36874.896997</td>\n",
       "      <td>292</td>\n",
       "      <td>Emergency</td>\n",
       "      <td>2019-02-08</td>\n",
       "      <td>Lipitor</td>\n",
       "      <td>Normal</td>\n",
       "    </tr>\n",
       "    <tr>\n",
       "      <th>3</th>\n",
       "      <td>Antonio Frederick</td>\n",
       "      <td>49</td>\n",
       "      <td>Male</td>\n",
       "      <td>B-</td>\n",
       "      <td>Asthma</td>\n",
       "      <td>2020-05-02</td>\n",
       "      <td>Brian Chandler</td>\n",
       "      <td>Garcia Ltd</td>\n",
       "      <td>Medicare</td>\n",
       "      <td>23303.322092</td>\n",
       "      <td>480</td>\n",
       "      <td>Urgent</td>\n",
       "      <td>2020-05-03</td>\n",
       "      <td>Penicillin</td>\n",
       "      <td>Abnormal</td>\n",
       "    </tr>\n",
       "    <tr>\n",
       "      <th>4</th>\n",
       "      <td>Mrs. Brandy Flowers</td>\n",
       "      <td>51</td>\n",
       "      <td>Male</td>\n",
       "      <td>O-</td>\n",
       "      <td>Arthritis</td>\n",
       "      <td>2021-07-09</td>\n",
       "      <td>Dustin Griffin</td>\n",
       "      <td>Jones, Brown and Murray</td>\n",
       "      <td>UnitedHealthcare</td>\n",
       "      <td>18086.344184</td>\n",
       "      <td>477</td>\n",
       "      <td>Urgent</td>\n",
       "      <td>2021-08-02</td>\n",
       "      <td>Paracetamol</td>\n",
       "      <td>Normal</td>\n",
       "    </tr>\n",
       "  </tbody>\n",
       "</table>\n",
       "</div>"
      ],
      "text/plain": [
       "                  Name  Age  Gender Blood Type Medical Condition  \\\n",
       "0      Tiffany Ramirez   81  Female         O-          Diabetes   \n",
       "1          Ruben Burns   35    Male         O+            Asthma   \n",
       "2            Chad Byrd   61    Male         B-           Obesity   \n",
       "3    Antonio Frederick   49    Male         B-            Asthma   \n",
       "4  Mrs. Brandy Flowers   51    Male         O-         Arthritis   \n",
       "\n",
       "  Date of Admission          Doctor                   Hospital  \\\n",
       "0        2022-11-17  Patrick Parker           Wallace-Hamilton   \n",
       "1        2023-06-01   Diane Jackson  Burke, Griffin and Cooper   \n",
       "2        2019-01-09      Paul Baker                 Walton LLC   \n",
       "3        2020-05-02  Brian Chandler                 Garcia Ltd   \n",
       "4        2021-07-09  Dustin Griffin    Jones, Brown and Murray   \n",
       "\n",
       "  Insurance Provider  Billing Amount  Room Number Admission Type  \\\n",
       "0           Medicare    37490.983364          146       Elective   \n",
       "1   UnitedHealthcare    47304.064845          404      Emergency   \n",
       "2           Medicare    36874.896997          292      Emergency   \n",
       "3           Medicare    23303.322092          480         Urgent   \n",
       "4   UnitedHealthcare    18086.344184          477         Urgent   \n",
       "\n",
       "  Discharge Date   Medication  Test Results  \n",
       "0     2022-12-01      Aspirin  Inconclusive  \n",
       "1     2023-06-15      Lipitor        Normal  \n",
       "2     2019-02-08      Lipitor        Normal  \n",
       "3     2020-05-03   Penicillin      Abnormal  \n",
       "4     2021-08-02  Paracetamol        Normal  "
      ]
     },
     "execution_count": 4,
     "metadata": {},
     "output_type": "execute_result"
    }
   ],
   "source": [
    "Health_df.head()"
   ]
  },
  {
   "cell_type": "code",
   "execution_count": 5,
   "id": "feafacf9",
   "metadata": {},
   "outputs": [
    {
     "data": {
      "text/plain": [
       "(10000, 15)"
      ]
     },
     "execution_count": 5,
     "metadata": {},
     "output_type": "execute_result"
    }
   ],
   "source": [
    "Health_df.shape"
   ]
  },
  {
   "cell_type": "code",
   "execution_count": 6,
   "id": "90e2582f",
   "metadata": {},
   "outputs": [
    {
     "data": {
      "text/plain": [
       "Index(['Name', 'Age', 'Gender', 'Blood Type', 'Medical Condition',\n",
       "       'Date of Admission', 'Doctor', 'Hospital', 'Insurance Provider',\n",
       "       'Billing Amount', 'Room Number', 'Admission Type', 'Discharge Date',\n",
       "       'Medication', 'Test Results'],\n",
       "      dtype='object')"
      ]
     },
     "execution_count": 6,
     "metadata": {},
     "output_type": "execute_result"
    }
   ],
   "source": [
    "col_names = Health_df.columns\n",
    "col_names"
   ]
  },
  {
   "cell_type": "code",
   "execution_count": 7,
   "id": "c16ed808",
   "metadata": {},
   "outputs": [
    {
     "data": {
      "text/plain": [
       "<bound method DataFrame.info of                       Name  Age  Gender Blood Type Medical Condition  \\\n",
       "0          Tiffany Ramirez   81  Female         O-          Diabetes   \n",
       "1              Ruben Burns   35    Male         O+            Asthma   \n",
       "2                Chad Byrd   61    Male         B-           Obesity   \n",
       "3        Antonio Frederick   49    Male         B-            Asthma   \n",
       "4      Mrs. Brandy Flowers   51    Male         O-         Arthritis   \n",
       "...                    ...  ...     ...        ...               ...   \n",
       "9995            James Hood   83    Male         A+           Obesity   \n",
       "9996       Stephanie Evans   47  Female        AB+         Arthritis   \n",
       "9997  Christopher Martinez   54    Male         B-         Arthritis   \n",
       "9998           Amanda Duke   84    Male         A+         Arthritis   \n",
       "9999             Eric King   20    Male         B-         Arthritis   \n",
       "\n",
       "     Date of Admission             Doctor                   Hospital  \\\n",
       "0           2022-11-17     Patrick Parker           Wallace-Hamilton   \n",
       "1           2023-06-01      Diane Jackson  Burke, Griffin and Cooper   \n",
       "2           2019-01-09         Paul Baker                 Walton LLC   \n",
       "3           2020-05-02     Brian Chandler                 Garcia Ltd   \n",
       "4           2021-07-09     Dustin Griffin    Jones, Brown and Murray   \n",
       "...                ...                ...                        ...   \n",
       "9995        2022-07-29       Samuel Moody   Wood, Martin and Simmons   \n",
       "9996        2022-01-06  Christopher Yates               Nash-Krueger   \n",
       "9997        2022-07-01   Robert Nicholson            Larson and Sons   \n",
       "9998        2020-02-06        Jamie Lewis               Wilson-Lyons   \n",
       "9999        2023-03-22        Tasha Avila  Torres, Young and Stewart   \n",
       "\n",
       "     Insurance Provider  Billing Amount  Room Number Admission Type  \\\n",
       "0              Medicare    37490.983364          146       Elective   \n",
       "1      UnitedHealthcare    47304.064845          404      Emergency   \n",
       "2              Medicare    36874.896997          292      Emergency   \n",
       "3              Medicare    23303.322092          480         Urgent   \n",
       "4      UnitedHealthcare    18086.344184          477         Urgent   \n",
       "...                 ...             ...          ...            ...   \n",
       "9995   UnitedHealthcare    39606.840083          110       Elective   \n",
       "9996         Blue Cross     5995.717488          244      Emergency   \n",
       "9997         Blue Cross    49559.202905          312       Elective   \n",
       "9998   UnitedHealthcare    25236.344761          420         Urgent   \n",
       "9999              Aetna    37223.965865          290      Emergency   \n",
       "\n",
       "     Discharge Date   Medication  Test Results  \n",
       "0        2022-12-01      Aspirin  Inconclusive  \n",
       "1        2023-06-15      Lipitor        Normal  \n",
       "2        2019-02-08      Lipitor        Normal  \n",
       "3        2020-05-03   Penicillin      Abnormal  \n",
       "4        2021-08-02  Paracetamol        Normal  \n",
       "...             ...          ...           ...  \n",
       "9995     2022-08-02    Ibuprofen      Abnormal  \n",
       "9996     2022-01-29    Ibuprofen        Normal  \n",
       "9997     2022-07-15    Ibuprofen        Normal  \n",
       "9998     2020-02-26   Penicillin        Normal  \n",
       "9999     2023-04-15   Penicillin      Abnormal  \n",
       "\n",
       "[10000 rows x 15 columns]>"
      ]
     },
     "execution_count": 7,
     "metadata": {},
     "output_type": "execute_result"
    }
   ],
   "source": [
    "Health_df.info"
   ]
  },
  {
   "cell_type": "markdown",
   "id": "9d606b74",
   "metadata": {},
   "source": [
    "##### Types of variables\n",
    "    In this section, I segregate the dataset into categorical and numerical variables. There are a mixture of \n",
    "    categorical and numerical variables in the dataset. Categorical variables have data type object. \n",
    "    Numerical variables have data type float64.\n",
    "\n",
    "    First of all, I will find categorical variables."
   ]
  },
  {
   "cell_type": "code",
   "execution_count": 8,
   "id": "491f386d",
   "metadata": {},
   "outputs": [
    {
     "name": "stdout",
     "output_type": "stream",
     "text": [
      "There are 12 categorical variables\n",
      "\n",
      "The categorical variables are : ['Name', 'Gender', 'Blood Type', 'Medical Condition', 'Date of Admission', 'Doctor', 'Hospital', 'Insurance Provider', 'Admission Type', 'Discharge Date', 'Medication', 'Test Results']\n"
     ]
    }
   ],
   "source": [
    "categorical = [var for var in Health_df.columns if Health_df[var].dtype=='O']\n",
    "\n",
    "print('There are {} categorical variables\\n'.format(len(categorical)))\n",
    "\n",
    "print('The categorical variables are :', categorical)"
   ]
  },
  {
   "cell_type": "markdown",
   "id": "0f25cb1d",
   "metadata": {},
   "source": [
    "#### Summary of categorical variables\n",
    "    There is a 2 date variable. It is denoted by Date column.\n",
    "    There are 7 categorical variables. These are given by Gender, BloodType, Medical Condition, Hosipital, \n",
    "    Insurance provider, Admission Type and Medication.\n",
    "    There are two binary categorical variables - Gender\n",
    "    Test Results is the target variable."
   ]
  },
  {
   "cell_type": "code",
   "execution_count": 9,
   "id": "c06435f8",
   "metadata": {},
   "outputs": [
    {
     "data": {
      "text/plain": [
       "Name                  0\n",
       "Gender                0\n",
       "Blood Type            0\n",
       "Medical Condition     0\n",
       "Date of Admission     0\n",
       "Doctor                0\n",
       "Hospital              0\n",
       "Insurance Provider    0\n",
       "Admission Type        0\n",
       "Discharge Date        0\n",
       "Medication            0\n",
       "Test Results          0\n",
       "dtype: int64"
      ]
     },
     "execution_count": 9,
     "metadata": {},
     "output_type": "execute_result"
    }
   ],
   "source": [
    "Health_df[categorical].isnull().sum()"
   ]
  },
  {
   "cell_type": "code",
   "execution_count": 10,
   "id": "76dda64a",
   "metadata": {},
   "outputs": [
    {
     "name": "stdout",
     "output_type": "stream",
     "text": [
      "Series([], dtype: float64)\n"
     ]
    }
   ],
   "source": [
    "# print categorical variables containing missing values\n",
    "\n",
    "cat1 = [var for var in categorical if Health_df[var].isnull().sum()!=0]\n",
    "\n",
    "print(Health_df[cat1].isnull().sum())"
   ]
  },
  {
   "cell_type": "code",
   "execution_count": 11,
   "id": "8b1b1d20",
   "metadata": {},
   "outputs": [
    {
     "name": "stdout",
     "output_type": "stream",
     "text": [
      "Michael Johnson        7\n",
      "James Johnson          6\n",
      "Michael Miller         4\n",
      "Michelle Williams      4\n",
      "Scott Smith            4\n",
      "                      ..\n",
      "Sharon Rose            1\n",
      "Stephanie Knox         1\n",
      "Anthony Jones          1\n",
      "Melissa Perkins DVM    1\n",
      "Eric King              1\n",
      "Name: Name, Length: 9378, dtype: int64\n",
      "Female    5075\n",
      "Male      4925\n",
      "Name: Gender, dtype: int64\n",
      "AB-    1275\n",
      "AB+    1258\n",
      "B-     1252\n",
      "O+     1248\n",
      "O-     1244\n",
      "B+     1244\n",
      "A+     1241\n",
      "A-     1238\n",
      "Name: Blood Type, dtype: int64\n",
      "Asthma          1708\n",
      "Cancer          1703\n",
      "Hypertension    1688\n",
      "Arthritis       1650\n",
      "Obesity         1628\n",
      "Diabetes        1623\n",
      "Name: Medical Condition, dtype: int64\n",
      "2019-04-12    15\n",
      "2022-04-27    15\n",
      "2021-10-23    14\n",
      "2023-03-27    14\n",
      "2022-10-01    14\n",
      "              ..\n",
      "2022-07-16     1\n",
      "2022-06-15     1\n",
      "2022-12-11     1\n",
      "2022-10-28     1\n",
      "2019-09-23     1\n",
      "Name: Date of Admission, Length: 1815, dtype: int64\n",
      "Michael Johnson      7\n",
      "Robert Brown         5\n",
      "Michelle Anderson    5\n",
      "Matthew Smith        5\n",
      "Jennifer Smith       5\n",
      "                    ..\n",
      "Sandra Howard        1\n",
      "Steven Fuller        1\n",
      "Benjamin Lawson      1\n",
      "Allison Woods        1\n",
      "Tasha Avila          1\n",
      "Name: Doctor, Length: 9416, dtype: int64\n",
      "Smith PLC                        19\n",
      "Smith and Sons                   17\n",
      "Smith Ltd                        14\n",
      "Smith Inc                        14\n",
      "Johnson PLC                      13\n",
      "                                 ..\n",
      "Daniel-Benton                     1\n",
      "Franco, Hicks and Anderson        1\n",
      "Berry PLC                         1\n",
      "Martinez, Johnson and Carlson     1\n",
      "Torres, Young and Stewart         1\n",
      "Name: Hospital, Length: 8639, dtype: int64\n",
      "Cigna               2040\n",
      "Blue Cross          2032\n",
      "Aetna               2025\n",
      "UnitedHealthcare    1978\n",
      "Medicare            1925\n",
      "Name: Insurance Provider, dtype: int64\n",
      "Urgent       3391\n",
      "Emergency    3367\n",
      "Elective     3242\n",
      "Name: Admission Type, dtype: int64\n",
      "2021-11-28    14\n",
      "2020-10-08    13\n",
      "2020-10-18    13\n",
      "2022-08-17    13\n",
      "2021-03-23    13\n",
      "              ..\n",
      "2018-11-16     1\n",
      "2019-02-19     1\n",
      "2018-12-27     1\n",
      "2020-12-25     1\n",
      "2023-11-27     1\n",
      "Name: Discharge Date, Length: 1834, dtype: int64\n",
      "Penicillin     2079\n",
      "Lipitor        2015\n",
      "Ibuprofen      1976\n",
      "Aspirin        1968\n",
      "Paracetamol    1962\n",
      "Name: Medication, dtype: int64\n",
      "Abnormal        3456\n",
      "Inconclusive    3277\n",
      "Normal          3267\n",
      "Name: Test Results, dtype: int64\n"
     ]
    }
   ],
   "source": [
    "# view frequency of categorical variables\n",
    "\n",
    "for var in categorical: \n",
    "    \n",
    "    print(Health_df[var].value_counts())"
   ]
  },
  {
   "cell_type": "code",
   "execution_count": 12,
   "id": "3af4d22c",
   "metadata": {},
   "outputs": [
    {
     "name": "stdout",
     "output_type": "stream",
     "text": [
      "Michael Johnson        0.0007\n",
      "James Johnson          0.0006\n",
      "Michael Miller         0.0004\n",
      "Michelle Williams      0.0004\n",
      "Scott Smith            0.0004\n",
      "                        ...  \n",
      "Sharon Rose            0.0001\n",
      "Stephanie Knox         0.0001\n",
      "Anthony Jones          0.0001\n",
      "Melissa Perkins DVM    0.0001\n",
      "Eric King              0.0001\n",
      "Name: Name, Length: 9378, dtype: float64\n",
      "Female    0.5075\n",
      "Male      0.4925\n",
      "Name: Gender, dtype: float64\n",
      "AB-    0.1275\n",
      "AB+    0.1258\n",
      "B-     0.1252\n",
      "O+     0.1248\n",
      "O-     0.1244\n",
      "B+     0.1244\n",
      "A+     0.1241\n",
      "A-     0.1238\n",
      "Name: Blood Type, dtype: float64\n",
      "Asthma          0.1708\n",
      "Cancer          0.1703\n",
      "Hypertension    0.1688\n",
      "Arthritis       0.1650\n",
      "Obesity         0.1628\n",
      "Diabetes        0.1623\n",
      "Name: Medical Condition, dtype: float64\n",
      "2019-04-12    0.0015\n",
      "2022-04-27    0.0015\n",
      "2021-10-23    0.0014\n",
      "2023-03-27    0.0014\n",
      "2022-10-01    0.0014\n",
      "               ...  \n",
      "2022-07-16    0.0001\n",
      "2022-06-15    0.0001\n",
      "2022-12-11    0.0001\n",
      "2022-10-28    0.0001\n",
      "2019-09-23    0.0001\n",
      "Name: Date of Admission, Length: 1815, dtype: float64\n",
      "Michael Johnson      0.0007\n",
      "Robert Brown         0.0005\n",
      "Michelle Anderson    0.0005\n",
      "Matthew Smith        0.0005\n",
      "Jennifer Smith       0.0005\n",
      "                      ...  \n",
      "Sandra Howard        0.0001\n",
      "Steven Fuller        0.0001\n",
      "Benjamin Lawson      0.0001\n",
      "Allison Woods        0.0001\n",
      "Tasha Avila          0.0001\n",
      "Name: Doctor, Length: 9416, dtype: float64\n",
      "Smith PLC                        0.0019\n",
      "Smith and Sons                   0.0017\n",
      "Smith Ltd                        0.0014\n",
      "Smith Inc                        0.0014\n",
      "Johnson PLC                      0.0013\n",
      "                                  ...  \n",
      "Daniel-Benton                    0.0001\n",
      "Franco, Hicks and Anderson       0.0001\n",
      "Berry PLC                        0.0001\n",
      "Martinez, Johnson and Carlson    0.0001\n",
      "Torres, Young and Stewart        0.0001\n",
      "Name: Hospital, Length: 8639, dtype: float64\n",
      "Cigna               0.2040\n",
      "Blue Cross          0.2032\n",
      "Aetna               0.2025\n",
      "UnitedHealthcare    0.1978\n",
      "Medicare            0.1925\n",
      "Name: Insurance Provider, dtype: float64\n",
      "Urgent       0.3391\n",
      "Emergency    0.3367\n",
      "Elective     0.3242\n",
      "Name: Admission Type, dtype: float64\n",
      "2021-11-28    0.0014\n",
      "2020-10-08    0.0013\n",
      "2020-10-18    0.0013\n",
      "2022-08-17    0.0013\n",
      "2021-03-23    0.0013\n",
      "               ...  \n",
      "2018-11-16    0.0001\n",
      "2019-02-19    0.0001\n",
      "2018-12-27    0.0001\n",
      "2020-12-25    0.0001\n",
      "2023-11-27    0.0001\n",
      "Name: Discharge Date, Length: 1834, dtype: float64\n",
      "Penicillin     0.2079\n",
      "Lipitor        0.2015\n",
      "Ibuprofen      0.1976\n",
      "Aspirin        0.1968\n",
      "Paracetamol    0.1962\n",
      "Name: Medication, dtype: float64\n",
      "Abnormal        0.3456\n",
      "Inconclusive    0.3277\n",
      "Normal          0.3267\n",
      "Name: Test Results, dtype: float64\n"
     ]
    }
   ],
   "source": [
    "# view frequency distribution of categorical variables\n",
    "\n",
    "for var in categorical: \n",
    "    \n",
    "    print(Health_df[var].value_counts()/np.int64(len(Health_df)))"
   ]
  },
  {
   "cell_type": "code",
   "execution_count": 13,
   "id": "06a24398",
   "metadata": {},
   "outputs": [
    {
     "name": "stdout",
     "output_type": "stream",
     "text": [
      "Name  contains  9378  labels\n",
      "Gender  contains  2  labels\n",
      "Blood Type  contains  8  labels\n",
      "Medical Condition  contains  6  labels\n",
      "Date of Admission  contains  1815  labels\n",
      "Doctor  contains  9416  labels\n",
      "Hospital  contains  8639  labels\n",
      "Insurance Provider  contains  5  labels\n",
      "Admission Type  contains  3  labels\n",
      "Discharge Date  contains  1834  labels\n",
      "Medication  contains  5  labels\n",
      "Test Results  contains  3  labels\n",
      "*************************\n",
      "We can see that there is a Date variable which needs to be preprocessed.\n",
      "I will do preprocessing in the following section.\n",
      "All the other variables contain relatively smaller number of variables.\n",
      "*************************\n"
     ]
    }
   ],
   "source": [
    "# check for cardinality in categorical variables\n",
    "\n",
    "for var in categorical:\n",
    "    \n",
    "    print(var, ' contains ', len(Health_df[var].unique()), ' labels')\n",
    "    \n",
    "print(\"*\"*25)\n",
    "print(\"We can see that there is a Date variable which needs to be preprocessed.\") \n",
    "print(\"I will do preprocessing in the following section.\")\n",
    "print(\"All the other variables contain relatively smaller number of variables.\")\n",
    "print(\"*\"*25)"
   ]
  },
  {
   "cell_type": "markdown",
   "id": "0fb514f8",
   "metadata": {},
   "source": [
    "#### Feature Engineering of Date Variable"
   ]
  },
  {
   "cell_type": "code",
   "execution_count": 14,
   "id": "cd13e613",
   "metadata": {},
   "outputs": [
    {
     "data": {
      "text/plain": [
       "dtype('O')"
      ]
     },
     "execution_count": 14,
     "metadata": {},
     "output_type": "execute_result"
    }
   ],
   "source": [
    "Health_df['Date of Admission'].dtypes"
   ]
  },
  {
   "cell_type": "code",
   "execution_count": 15,
   "id": "4c76ea85",
   "metadata": {},
   "outputs": [],
   "source": [
    "# parse the dates, currently coded as strings, into datetime format\n",
    "\n",
    "Health_df['Date of Admission'] = pd.to_datetime(Health_df['Date of Admission'])\n",
    "Health_df['Discharge Date'] = pd.to_datetime(Health_df['Discharge Date'])"
   ]
  },
  {
   "cell_type": "code",
   "execution_count": 16,
   "id": "8502a3a8",
   "metadata": {},
   "outputs": [
    {
     "data": {
      "text/plain": [
       "0    2022\n",
       "1    2023\n",
       "2    2019\n",
       "3    2020\n",
       "4    2021\n",
       "Name: Admission_Year, dtype: int64"
      ]
     },
     "execution_count": 16,
     "metadata": {},
     "output_type": "execute_result"
    }
   ],
   "source": [
    "# extract year from date\n",
    "\n",
    "Health_df['Admission_Year'] = Health_df['Date of Admission'].dt.year\n",
    "\n",
    "Health_df['Admission_Year'].head()"
   ]
  },
  {
   "cell_type": "code",
   "execution_count": 17,
   "id": "5261f470",
   "metadata": {},
   "outputs": [
    {
     "data": {
      "text/plain": [
       "0    2022\n",
       "1    2023\n",
       "2    2019\n",
       "3    2020\n",
       "4    2021\n",
       "Name: Discharge_Year, dtype: int64"
      ]
     },
     "execution_count": 17,
     "metadata": {},
     "output_type": "execute_result"
    }
   ],
   "source": [
    "# extract year from date\n",
    "\n",
    "Health_df['Discharge_Year'] = Health_df['Discharge Date'].dt.year\n",
    "\n",
    "Health_df['Discharge_Year'].head()"
   ]
  },
  {
   "cell_type": "code",
   "execution_count": 18,
   "id": "823a54cd",
   "metadata": {},
   "outputs": [
    {
     "data": {
      "text/plain": [
       "0    12\n",
       "1     6\n",
       "2     2\n",
       "3     5\n",
       "4     8\n",
       "Name: Discharge_Month, dtype: int64"
      ]
     },
     "execution_count": 18,
     "metadata": {},
     "output_type": "execute_result"
    }
   ],
   "source": [
    "# extract month from date\n",
    "\n",
    "Health_df['Admission_Month'] = Health_df['Date of Admission'].dt.month\n",
    "Health_df['Discharge_Month'] = Health_df['Discharge Date'].dt.month\n",
    "\n",
    "Health_df['Admission_Month'].head()\n",
    "Health_df['Discharge_Month'].head()"
   ]
  },
  {
   "cell_type": "code",
   "execution_count": 19,
   "id": "2d08d284",
   "metadata": {},
   "outputs": [
    {
     "data": {
      "text/plain": [
       "0     1\n",
       "1    15\n",
       "2     8\n",
       "3     3\n",
       "4     2\n",
       "Name: Discharge_day, dtype: int64"
      ]
     },
     "execution_count": 19,
     "metadata": {},
     "output_type": "execute_result"
    }
   ],
   "source": [
    "# extract day from date\n",
    "\n",
    "Health_df['Admission_day'] = Health_df['Date of Admission'].dt.day\n",
    "Health_df['Discharge_day'] = Health_df['Discharge Date'].dt.day\n",
    "\n",
    "Health_df['Admission_day'].head()\n",
    "Health_df['Discharge_day'].head()"
   ]
  },
  {
   "cell_type": "code",
   "execution_count": 20,
   "id": "af00cc45",
   "metadata": {},
   "outputs": [
    {
     "data": {
      "text/html": [
       "<div>\n",
       "<style scoped>\n",
       "    .dataframe tbody tr th:only-of-type {\n",
       "        vertical-align: middle;\n",
       "    }\n",
       "\n",
       "    .dataframe tbody tr th {\n",
       "        vertical-align: top;\n",
       "    }\n",
       "\n",
       "    .dataframe thead th {\n",
       "        text-align: right;\n",
       "    }\n",
       "</style>\n",
       "<table border=\"1\" class=\"dataframe\">\n",
       "  <thead>\n",
       "    <tr style=\"text-align: right;\">\n",
       "      <th></th>\n",
       "      <th>Name</th>\n",
       "      <th>Age</th>\n",
       "      <th>Gender</th>\n",
       "      <th>Blood Type</th>\n",
       "      <th>Medical Condition</th>\n",
       "      <th>Date of Admission</th>\n",
       "      <th>Doctor</th>\n",
       "      <th>Hospital</th>\n",
       "      <th>Insurance Provider</th>\n",
       "      <th>Billing Amount</th>\n",
       "      <th>...</th>\n",
       "      <th>Admission Type</th>\n",
       "      <th>Discharge Date</th>\n",
       "      <th>Medication</th>\n",
       "      <th>Test Results</th>\n",
       "      <th>Admission_Year</th>\n",
       "      <th>Discharge_Year</th>\n",
       "      <th>Admission_Month</th>\n",
       "      <th>Discharge_Month</th>\n",
       "      <th>Admission_day</th>\n",
       "      <th>Discharge_day</th>\n",
       "    </tr>\n",
       "  </thead>\n",
       "  <tbody>\n",
       "    <tr>\n",
       "      <th>0</th>\n",
       "      <td>Tiffany Ramirez</td>\n",
       "      <td>81</td>\n",
       "      <td>Female</td>\n",
       "      <td>O-</td>\n",
       "      <td>Diabetes</td>\n",
       "      <td>2022-11-17</td>\n",
       "      <td>Patrick Parker</td>\n",
       "      <td>Wallace-Hamilton</td>\n",
       "      <td>Medicare</td>\n",
       "      <td>37490.983364</td>\n",
       "      <td>...</td>\n",
       "      <td>Elective</td>\n",
       "      <td>2022-12-01</td>\n",
       "      <td>Aspirin</td>\n",
       "      <td>Inconclusive</td>\n",
       "      <td>2022</td>\n",
       "      <td>2022</td>\n",
       "      <td>11</td>\n",
       "      <td>12</td>\n",
       "      <td>17</td>\n",
       "      <td>1</td>\n",
       "    </tr>\n",
       "    <tr>\n",
       "      <th>1</th>\n",
       "      <td>Ruben Burns</td>\n",
       "      <td>35</td>\n",
       "      <td>Male</td>\n",
       "      <td>O+</td>\n",
       "      <td>Asthma</td>\n",
       "      <td>2023-06-01</td>\n",
       "      <td>Diane Jackson</td>\n",
       "      <td>Burke, Griffin and Cooper</td>\n",
       "      <td>UnitedHealthcare</td>\n",
       "      <td>47304.064845</td>\n",
       "      <td>...</td>\n",
       "      <td>Emergency</td>\n",
       "      <td>2023-06-15</td>\n",
       "      <td>Lipitor</td>\n",
       "      <td>Normal</td>\n",
       "      <td>2023</td>\n",
       "      <td>2023</td>\n",
       "      <td>6</td>\n",
       "      <td>6</td>\n",
       "      <td>1</td>\n",
       "      <td>15</td>\n",
       "    </tr>\n",
       "    <tr>\n",
       "      <th>2</th>\n",
       "      <td>Chad Byrd</td>\n",
       "      <td>61</td>\n",
       "      <td>Male</td>\n",
       "      <td>B-</td>\n",
       "      <td>Obesity</td>\n",
       "      <td>2019-01-09</td>\n",
       "      <td>Paul Baker</td>\n",
       "      <td>Walton LLC</td>\n",
       "      <td>Medicare</td>\n",
       "      <td>36874.896997</td>\n",
       "      <td>...</td>\n",
       "      <td>Emergency</td>\n",
       "      <td>2019-02-08</td>\n",
       "      <td>Lipitor</td>\n",
       "      <td>Normal</td>\n",
       "      <td>2019</td>\n",
       "      <td>2019</td>\n",
       "      <td>1</td>\n",
       "      <td>2</td>\n",
       "      <td>9</td>\n",
       "      <td>8</td>\n",
       "    </tr>\n",
       "    <tr>\n",
       "      <th>3</th>\n",
       "      <td>Antonio Frederick</td>\n",
       "      <td>49</td>\n",
       "      <td>Male</td>\n",
       "      <td>B-</td>\n",
       "      <td>Asthma</td>\n",
       "      <td>2020-05-02</td>\n",
       "      <td>Brian Chandler</td>\n",
       "      <td>Garcia Ltd</td>\n",
       "      <td>Medicare</td>\n",
       "      <td>23303.322092</td>\n",
       "      <td>...</td>\n",
       "      <td>Urgent</td>\n",
       "      <td>2020-05-03</td>\n",
       "      <td>Penicillin</td>\n",
       "      <td>Abnormal</td>\n",
       "      <td>2020</td>\n",
       "      <td>2020</td>\n",
       "      <td>5</td>\n",
       "      <td>5</td>\n",
       "      <td>2</td>\n",
       "      <td>3</td>\n",
       "    </tr>\n",
       "    <tr>\n",
       "      <th>4</th>\n",
       "      <td>Mrs. Brandy Flowers</td>\n",
       "      <td>51</td>\n",
       "      <td>Male</td>\n",
       "      <td>O-</td>\n",
       "      <td>Arthritis</td>\n",
       "      <td>2021-07-09</td>\n",
       "      <td>Dustin Griffin</td>\n",
       "      <td>Jones, Brown and Murray</td>\n",
       "      <td>UnitedHealthcare</td>\n",
       "      <td>18086.344184</td>\n",
       "      <td>...</td>\n",
       "      <td>Urgent</td>\n",
       "      <td>2021-08-02</td>\n",
       "      <td>Paracetamol</td>\n",
       "      <td>Normal</td>\n",
       "      <td>2021</td>\n",
       "      <td>2021</td>\n",
       "      <td>7</td>\n",
       "      <td>8</td>\n",
       "      <td>9</td>\n",
       "      <td>2</td>\n",
       "    </tr>\n",
       "  </tbody>\n",
       "</table>\n",
       "<p>5 rows × 21 columns</p>\n",
       "</div>"
      ],
      "text/plain": [
       "                  Name  Age  Gender Blood Type Medical Condition  \\\n",
       "0      Tiffany Ramirez   81  Female         O-          Diabetes   \n",
       "1          Ruben Burns   35    Male         O+            Asthma   \n",
       "2            Chad Byrd   61    Male         B-           Obesity   \n",
       "3    Antonio Frederick   49    Male         B-            Asthma   \n",
       "4  Mrs. Brandy Flowers   51    Male         O-         Arthritis   \n",
       "\n",
       "  Date of Admission          Doctor                   Hospital  \\\n",
       "0        2022-11-17  Patrick Parker           Wallace-Hamilton   \n",
       "1        2023-06-01   Diane Jackson  Burke, Griffin and Cooper   \n",
       "2        2019-01-09      Paul Baker                 Walton LLC   \n",
       "3        2020-05-02  Brian Chandler                 Garcia Ltd   \n",
       "4        2021-07-09  Dustin Griffin    Jones, Brown and Murray   \n",
       "\n",
       "  Insurance Provider  Billing Amount  ...  Admission Type Discharge Date  \\\n",
       "0           Medicare    37490.983364  ...        Elective     2022-12-01   \n",
       "1   UnitedHealthcare    47304.064845  ...       Emergency     2023-06-15   \n",
       "2           Medicare    36874.896997  ...       Emergency     2019-02-08   \n",
       "3           Medicare    23303.322092  ...          Urgent     2020-05-03   \n",
       "4   UnitedHealthcare    18086.344184  ...          Urgent     2021-08-02   \n",
       "\n",
       "    Medication  Test Results Admission_Year  Discharge_Year  Admission_Month  \\\n",
       "0      Aspirin  Inconclusive           2022            2022               11   \n",
       "1      Lipitor        Normal           2023            2023                6   \n",
       "2      Lipitor        Normal           2019            2019                1   \n",
       "3   Penicillin      Abnormal           2020            2020                5   \n",
       "4  Paracetamol        Normal           2021            2021                7   \n",
       "\n",
       "   Discharge_Month  Admission_day  Discharge_day  \n",
       "0               12             17              1  \n",
       "1                6              1             15  \n",
       "2                2              9              8  \n",
       "3                5              2              3  \n",
       "4                8              9              2  \n",
       "\n",
       "[5 rows x 21 columns]"
      ]
     },
     "execution_count": 20,
     "metadata": {},
     "output_type": "execute_result"
    }
   ],
   "source": [
    "Health_df.head()"
   ]
  },
  {
   "cell_type": "code",
   "execution_count": 21,
   "id": "93b0da95",
   "metadata": {},
   "outputs": [],
   "source": [
    "# drop the original Date variable\n",
    "\n",
    "Health_df.drop('Date of Admission', axis=1, inplace = True)\n",
    "\n",
    "Health_df.drop('Discharge Date', axis=1, inplace = True)"
   ]
  },
  {
   "cell_type": "code",
   "execution_count": 22,
   "id": "ee640a4c",
   "metadata": {},
   "outputs": [
    {
     "data": {
      "text/html": [
       "<div>\n",
       "<style scoped>\n",
       "    .dataframe tbody tr th:only-of-type {\n",
       "        vertical-align: middle;\n",
       "    }\n",
       "\n",
       "    .dataframe tbody tr th {\n",
       "        vertical-align: top;\n",
       "    }\n",
       "\n",
       "    .dataframe thead th {\n",
       "        text-align: right;\n",
       "    }\n",
       "</style>\n",
       "<table border=\"1\" class=\"dataframe\">\n",
       "  <thead>\n",
       "    <tr style=\"text-align: right;\">\n",
       "      <th></th>\n",
       "      <th>Name</th>\n",
       "      <th>Age</th>\n",
       "      <th>Gender</th>\n",
       "      <th>Blood Type</th>\n",
       "      <th>Medical Condition</th>\n",
       "      <th>Doctor</th>\n",
       "      <th>Hospital</th>\n",
       "      <th>Insurance Provider</th>\n",
       "      <th>Billing Amount</th>\n",
       "      <th>Room Number</th>\n",
       "      <th>Admission Type</th>\n",
       "      <th>Medication</th>\n",
       "      <th>Test Results</th>\n",
       "      <th>Admission_Year</th>\n",
       "      <th>Discharge_Year</th>\n",
       "      <th>Admission_Month</th>\n",
       "      <th>Discharge_Month</th>\n",
       "      <th>Admission_day</th>\n",
       "      <th>Discharge_day</th>\n",
       "    </tr>\n",
       "  </thead>\n",
       "  <tbody>\n",
       "    <tr>\n",
       "      <th>0</th>\n",
       "      <td>Tiffany Ramirez</td>\n",
       "      <td>81</td>\n",
       "      <td>Female</td>\n",
       "      <td>O-</td>\n",
       "      <td>Diabetes</td>\n",
       "      <td>Patrick Parker</td>\n",
       "      <td>Wallace-Hamilton</td>\n",
       "      <td>Medicare</td>\n",
       "      <td>37490.983364</td>\n",
       "      <td>146</td>\n",
       "      <td>Elective</td>\n",
       "      <td>Aspirin</td>\n",
       "      <td>Inconclusive</td>\n",
       "      <td>2022</td>\n",
       "      <td>2022</td>\n",
       "      <td>11</td>\n",
       "      <td>12</td>\n",
       "      <td>17</td>\n",
       "      <td>1</td>\n",
       "    </tr>\n",
       "    <tr>\n",
       "      <th>1</th>\n",
       "      <td>Ruben Burns</td>\n",
       "      <td>35</td>\n",
       "      <td>Male</td>\n",
       "      <td>O+</td>\n",
       "      <td>Asthma</td>\n",
       "      <td>Diane Jackson</td>\n",
       "      <td>Burke, Griffin and Cooper</td>\n",
       "      <td>UnitedHealthcare</td>\n",
       "      <td>47304.064845</td>\n",
       "      <td>404</td>\n",
       "      <td>Emergency</td>\n",
       "      <td>Lipitor</td>\n",
       "      <td>Normal</td>\n",
       "      <td>2023</td>\n",
       "      <td>2023</td>\n",
       "      <td>6</td>\n",
       "      <td>6</td>\n",
       "      <td>1</td>\n",
       "      <td>15</td>\n",
       "    </tr>\n",
       "    <tr>\n",
       "      <th>2</th>\n",
       "      <td>Chad Byrd</td>\n",
       "      <td>61</td>\n",
       "      <td>Male</td>\n",
       "      <td>B-</td>\n",
       "      <td>Obesity</td>\n",
       "      <td>Paul Baker</td>\n",
       "      <td>Walton LLC</td>\n",
       "      <td>Medicare</td>\n",
       "      <td>36874.896997</td>\n",
       "      <td>292</td>\n",
       "      <td>Emergency</td>\n",
       "      <td>Lipitor</td>\n",
       "      <td>Normal</td>\n",
       "      <td>2019</td>\n",
       "      <td>2019</td>\n",
       "      <td>1</td>\n",
       "      <td>2</td>\n",
       "      <td>9</td>\n",
       "      <td>8</td>\n",
       "    </tr>\n",
       "    <tr>\n",
       "      <th>3</th>\n",
       "      <td>Antonio Frederick</td>\n",
       "      <td>49</td>\n",
       "      <td>Male</td>\n",
       "      <td>B-</td>\n",
       "      <td>Asthma</td>\n",
       "      <td>Brian Chandler</td>\n",
       "      <td>Garcia Ltd</td>\n",
       "      <td>Medicare</td>\n",
       "      <td>23303.322092</td>\n",
       "      <td>480</td>\n",
       "      <td>Urgent</td>\n",
       "      <td>Penicillin</td>\n",
       "      <td>Abnormal</td>\n",
       "      <td>2020</td>\n",
       "      <td>2020</td>\n",
       "      <td>5</td>\n",
       "      <td>5</td>\n",
       "      <td>2</td>\n",
       "      <td>3</td>\n",
       "    </tr>\n",
       "    <tr>\n",
       "      <th>4</th>\n",
       "      <td>Mrs. Brandy Flowers</td>\n",
       "      <td>51</td>\n",
       "      <td>Male</td>\n",
       "      <td>O-</td>\n",
       "      <td>Arthritis</td>\n",
       "      <td>Dustin Griffin</td>\n",
       "      <td>Jones, Brown and Murray</td>\n",
       "      <td>UnitedHealthcare</td>\n",
       "      <td>18086.344184</td>\n",
       "      <td>477</td>\n",
       "      <td>Urgent</td>\n",
       "      <td>Paracetamol</td>\n",
       "      <td>Normal</td>\n",
       "      <td>2021</td>\n",
       "      <td>2021</td>\n",
       "      <td>7</td>\n",
       "      <td>8</td>\n",
       "      <td>9</td>\n",
       "      <td>2</td>\n",
       "    </tr>\n",
       "  </tbody>\n",
       "</table>\n",
       "</div>"
      ],
      "text/plain": [
       "                  Name  Age  Gender Blood Type Medical Condition  \\\n",
       "0      Tiffany Ramirez   81  Female         O-          Diabetes   \n",
       "1          Ruben Burns   35    Male         O+            Asthma   \n",
       "2            Chad Byrd   61    Male         B-           Obesity   \n",
       "3    Antonio Frederick   49    Male         B-            Asthma   \n",
       "4  Mrs. Brandy Flowers   51    Male         O-         Arthritis   \n",
       "\n",
       "           Doctor                   Hospital Insurance Provider  \\\n",
       "0  Patrick Parker           Wallace-Hamilton           Medicare   \n",
       "1   Diane Jackson  Burke, Griffin and Cooper   UnitedHealthcare   \n",
       "2      Paul Baker                 Walton LLC           Medicare   \n",
       "3  Brian Chandler                 Garcia Ltd           Medicare   \n",
       "4  Dustin Griffin    Jones, Brown and Murray   UnitedHealthcare   \n",
       "\n",
       "   Billing Amount  Room Number Admission Type   Medication  Test Results  \\\n",
       "0    37490.983364          146       Elective      Aspirin  Inconclusive   \n",
       "1    47304.064845          404      Emergency      Lipitor        Normal   \n",
       "2    36874.896997          292      Emergency      Lipitor        Normal   \n",
       "3    23303.322092          480         Urgent   Penicillin      Abnormal   \n",
       "4    18086.344184          477         Urgent  Paracetamol        Normal   \n",
       "\n",
       "   Admission_Year  Discharge_Year  Admission_Month  Discharge_Month  \\\n",
       "0            2022            2022               11               12   \n",
       "1            2023            2023                6                6   \n",
       "2            2019            2019                1                2   \n",
       "3            2020            2020                5                5   \n",
       "4            2021            2021                7                8   \n",
       "\n",
       "   Admission_day  Discharge_day  \n",
       "0             17              1  \n",
       "1              1             15  \n",
       "2              9              8  \n",
       "3              2              3  \n",
       "4              9              2  "
      ]
     },
     "execution_count": 22,
     "metadata": {},
     "output_type": "execute_result"
    }
   ],
   "source": [
    "Health_df.head()"
   ]
  },
  {
   "cell_type": "markdown",
   "id": "e0d72205",
   "metadata": {},
   "source": [
    "##### Explore Categorical Variables\n",
    "    Now, I will explore the categorical variables one by one."
   ]
  },
  {
   "cell_type": "code",
   "execution_count": 23,
   "id": "71ac4825",
   "metadata": {},
   "outputs": [
    {
     "name": "stdout",
     "output_type": "stream",
     "text": [
      "There are 10 categorical variables\n",
      "\n",
      "The categorical variables are : ['Name', 'Gender', 'Blood Type', 'Medical Condition', 'Doctor', 'Hospital', 'Insurance Provider', 'Admission Type', 'Medication', 'Test Results']\n"
     ]
    }
   ],
   "source": [
    "# find categorical variables\n",
    "\n",
    "categorical = [var for var in Health_df.columns if Health_df[var].dtype=='O']\n",
    "\n",
    "print('There are {} categorical variables\\n'.format(len(categorical)))\n",
    "\n",
    "print('The categorical variables are :', categorical)"
   ]
  },
  {
   "cell_type": "code",
   "execution_count": 24,
   "id": "edbb44da",
   "metadata": {},
   "outputs": [],
   "source": [
    "Health_df.rename(columns = {'Medical Condition':'Medical_Condition'}, inplace = True)\n",
    "Health_df.rename(columns = {'Insurance Provider':'Insurance_Provider'}, inplace = True)\n",
    "Health_df.rename(columns = {'Admission Type':'Admission_Type'}, inplace = True)\n",
    "Health_df.rename(columns = {'Test Results':'Test_Results'}, inplace = True)\n",
    "Health_df.rename(columns = {'Blood Type':'Blood_Type'}, inplace = True)"
   ]
  },
  {
   "cell_type": "code",
   "execution_count": 25,
   "id": "8b91966c",
   "metadata": {},
   "outputs": [
    {
     "name": "stdout",
     "output_type": "stream",
     "text": [
      "Medical Condition 6 labels\n"
     ]
    }
   ],
   "source": [
    "# print number of labels in Medical Condition variable\n",
    "\n",
    "print('Medical Condition', len(Health_df.Medical_Condition.unique()), 'labels')"
   ]
  },
  {
   "cell_type": "code",
   "execution_count": 26,
   "id": "55a598ce",
   "metadata": {},
   "outputs": [
    {
     "data": {
      "text/plain": [
       "array(['Diabetes', 'Asthma', 'Obesity', 'Arthritis', 'Hypertension',\n",
       "       'Cancer'], dtype=object)"
      ]
     },
     "execution_count": 26,
     "metadata": {},
     "output_type": "execute_result"
    }
   ],
   "source": [
    "Health_df.Medical_Condition.unique()"
   ]
  },
  {
   "cell_type": "code",
   "execution_count": 27,
   "id": "16ec736d",
   "metadata": {},
   "outputs": [
    {
     "data": {
      "text/plain": [
       "Asthma          1708\n",
       "Cancer          1703\n",
       "Hypertension    1688\n",
       "Arthritis       1650\n",
       "Obesity         1628\n",
       "Diabetes        1623\n",
       "Name: Medical_Condition, dtype: int64"
      ]
     },
     "execution_count": 27,
     "metadata": {},
     "output_type": "execute_result"
    }
   ],
   "source": [
    "Health_df.Medical_Condition.value_counts()"
   ]
  },
  {
   "cell_type": "code",
   "execution_count": 28,
   "id": "a9cbfe64",
   "metadata": {},
   "outputs": [
    {
     "data": {
      "text/html": [
       "<div>\n",
       "<style scoped>\n",
       "    .dataframe tbody tr th:only-of-type {\n",
       "        vertical-align: middle;\n",
       "    }\n",
       "\n",
       "    .dataframe tbody tr th {\n",
       "        vertical-align: top;\n",
       "    }\n",
       "\n",
       "    .dataframe thead th {\n",
       "        text-align: right;\n",
       "    }\n",
       "</style>\n",
       "<table border=\"1\" class=\"dataframe\">\n",
       "  <thead>\n",
       "    <tr style=\"text-align: right;\">\n",
       "      <th></th>\n",
       "      <th>Asthma</th>\n",
       "      <th>Cancer</th>\n",
       "      <th>Diabetes</th>\n",
       "      <th>Hypertension</th>\n",
       "      <th>Obesity</th>\n",
       "    </tr>\n",
       "  </thead>\n",
       "  <tbody>\n",
       "    <tr>\n",
       "      <th>0</th>\n",
       "      <td>0</td>\n",
       "      <td>0</td>\n",
       "      <td>1</td>\n",
       "      <td>0</td>\n",
       "      <td>0</td>\n",
       "    </tr>\n",
       "    <tr>\n",
       "      <th>1</th>\n",
       "      <td>1</td>\n",
       "      <td>0</td>\n",
       "      <td>0</td>\n",
       "      <td>0</td>\n",
       "      <td>0</td>\n",
       "    </tr>\n",
       "    <tr>\n",
       "      <th>2</th>\n",
       "      <td>0</td>\n",
       "      <td>0</td>\n",
       "      <td>0</td>\n",
       "      <td>0</td>\n",
       "      <td>1</td>\n",
       "    </tr>\n",
       "    <tr>\n",
       "      <th>3</th>\n",
       "      <td>1</td>\n",
       "      <td>0</td>\n",
       "      <td>0</td>\n",
       "      <td>0</td>\n",
       "      <td>0</td>\n",
       "    </tr>\n",
       "    <tr>\n",
       "      <th>4</th>\n",
       "      <td>0</td>\n",
       "      <td>0</td>\n",
       "      <td>0</td>\n",
       "      <td>0</td>\n",
       "      <td>0</td>\n",
       "    </tr>\n",
       "  </tbody>\n",
       "</table>\n",
       "</div>"
      ],
      "text/plain": [
       "   Asthma  Cancer  Diabetes  Hypertension  Obesity\n",
       "0       0       0         1             0        0\n",
       "1       1       0         0             0        0\n",
       "2       0       0         0             0        1\n",
       "3       1       0         0             0        0\n",
       "4       0       0         0             0        0"
      ]
     },
     "execution_count": 28,
     "metadata": {},
     "output_type": "execute_result"
    }
   ],
   "source": [
    "# let's do One Hot Encoding of Location variable\n",
    "# get k-1 dummy variables after One Hot Encoding \n",
    "# preview the dataset with head() method\n",
    "\n",
    "pd.get_dummies(Health_df.Medical_Condition, drop_first=True).head()"
   ]
  },
  {
   "cell_type": "code",
   "execution_count": 29,
   "id": "4d752675",
   "metadata": {},
   "outputs": [
    {
     "name": "stdout",
     "output_type": "stream",
     "text": [
      "Insurance Provider details  5 labels\n"
     ]
    }
   ],
   "source": [
    "print('Insurance Provider details ', len(Health_df.Insurance_Provider.unique()), 'labels')"
   ]
  },
  {
   "cell_type": "code",
   "execution_count": 30,
   "id": "24c0691a",
   "metadata": {},
   "outputs": [
    {
     "data": {
      "text/plain": [
       "array(['Medicare', 'UnitedHealthcare', 'Aetna', 'Cigna', 'Blue Cross'],\n",
       "      dtype=object)"
      ]
     },
     "execution_count": 30,
     "metadata": {},
     "output_type": "execute_result"
    }
   ],
   "source": [
    "# check labels in WindGustDir variable\n",
    "\n",
    "Health_df['Insurance_Provider'].unique()"
   ]
  },
  {
   "cell_type": "code",
   "execution_count": 31,
   "id": "a0463716",
   "metadata": {},
   "outputs": [
    {
     "data": {
      "text/plain": [
       "Cigna               2040\n",
       "Blue Cross          2032\n",
       "Aetna               2025\n",
       "UnitedHealthcare    1978\n",
       "Medicare            1925\n",
       "Name: Insurance_Provider, dtype: int64"
      ]
     },
     "execution_count": 31,
     "metadata": {},
     "output_type": "execute_result"
    }
   ],
   "source": [
    "Health_df.Insurance_Provider.value_counts()"
   ]
  },
  {
   "cell_type": "code",
   "execution_count": 32,
   "id": "74de2dc3",
   "metadata": {},
   "outputs": [
    {
     "data": {
      "text/html": [
       "<div>\n",
       "<style scoped>\n",
       "    .dataframe tbody tr th:only-of-type {\n",
       "        vertical-align: middle;\n",
       "    }\n",
       "\n",
       "    .dataframe tbody tr th {\n",
       "        vertical-align: top;\n",
       "    }\n",
       "\n",
       "    .dataframe thead th {\n",
       "        text-align: right;\n",
       "    }\n",
       "</style>\n",
       "<table border=\"1\" class=\"dataframe\">\n",
       "  <thead>\n",
       "    <tr style=\"text-align: right;\">\n",
       "      <th></th>\n",
       "      <th>Blue Cross</th>\n",
       "      <th>Cigna</th>\n",
       "      <th>Medicare</th>\n",
       "      <th>UnitedHealthcare</th>\n",
       "      <th>NaN</th>\n",
       "    </tr>\n",
       "  </thead>\n",
       "  <tbody>\n",
       "    <tr>\n",
       "      <th>0</th>\n",
       "      <td>0</td>\n",
       "      <td>0</td>\n",
       "      <td>1</td>\n",
       "      <td>0</td>\n",
       "      <td>0</td>\n",
       "    </tr>\n",
       "    <tr>\n",
       "      <th>1</th>\n",
       "      <td>0</td>\n",
       "      <td>0</td>\n",
       "      <td>0</td>\n",
       "      <td>1</td>\n",
       "      <td>0</td>\n",
       "    </tr>\n",
       "    <tr>\n",
       "      <th>2</th>\n",
       "      <td>0</td>\n",
       "      <td>0</td>\n",
       "      <td>1</td>\n",
       "      <td>0</td>\n",
       "      <td>0</td>\n",
       "    </tr>\n",
       "    <tr>\n",
       "      <th>3</th>\n",
       "      <td>0</td>\n",
       "      <td>0</td>\n",
       "      <td>1</td>\n",
       "      <td>0</td>\n",
       "      <td>0</td>\n",
       "    </tr>\n",
       "    <tr>\n",
       "      <th>4</th>\n",
       "      <td>0</td>\n",
       "      <td>0</td>\n",
       "      <td>0</td>\n",
       "      <td>1</td>\n",
       "      <td>0</td>\n",
       "    </tr>\n",
       "  </tbody>\n",
       "</table>\n",
       "</div>"
      ],
      "text/plain": [
       "   Blue Cross  Cigna  Medicare  UnitedHealthcare  NaN\n",
       "0           0      0         1                 0    0\n",
       "1           0      0         0                 1    0\n",
       "2           0      0         1                 0    0\n",
       "3           0      0         1                 0    0\n",
       "4           0      0         0                 1    0"
      ]
     },
     "execution_count": 32,
     "metadata": {},
     "output_type": "execute_result"
    }
   ],
   "source": [
    "# let's do One Hot Encoding of WindGustDir variable\n",
    "# get k-1 dummy variables after One Hot Encoding \n",
    "# also add an additional dummy variable to indicate there was missing data\n",
    "# preview the dataset with head() method\n",
    "\n",
    "pd.get_dummies(Health_df.Insurance_Provider, drop_first=True, dummy_na=True).head()"
   ]
  },
  {
   "cell_type": "code",
   "execution_count": 33,
   "id": "2b6a8e7c",
   "metadata": {},
   "outputs": [
    {
     "data": {
      "text/plain": [
       "Blue Cross          2032\n",
       "Cigna               2040\n",
       "Medicare            1925\n",
       "UnitedHealthcare    1978\n",
       "NaN                    0\n",
       "dtype: int64"
      ]
     },
     "execution_count": 33,
     "metadata": {},
     "output_type": "execute_result"
    }
   ],
   "source": [
    "# sum the number of 1s per boolean variable over the rows of the dataset\n",
    "# it will tell us how many observations we have for each category\n",
    "\n",
    "pd.get_dummies(Health_df.Insurance_Provider, drop_first=True, dummy_na=True).sum(axis=0)"
   ]
  },
  {
   "cell_type": "code",
   "execution_count": 34,
   "id": "735a706f",
   "metadata": {},
   "outputs": [
    {
     "data": {
      "text/plain": [
       "array(['Aspirin', 'Lipitor', 'Penicillin', 'Paracetamol', 'Ibuprofen'],\n",
       "      dtype=object)"
      ]
     },
     "execution_count": 34,
     "metadata": {},
     "output_type": "execute_result"
    }
   ],
   "source": [
    "Health_df['Medication'].unique()"
   ]
  },
  {
   "cell_type": "code",
   "execution_count": 35,
   "id": "4d97dc64",
   "metadata": {},
   "outputs": [
    {
     "data": {
      "text/plain": [
       "array(['Elective', 'Emergency', 'Urgent'], dtype=object)"
      ]
     },
     "execution_count": 35,
     "metadata": {},
     "output_type": "execute_result"
    }
   ],
   "source": [
    "Health_df['Admission_Type'].unique()"
   ]
  },
  {
   "cell_type": "code",
   "execution_count": 36,
   "id": "65cfed39",
   "metadata": {},
   "outputs": [
    {
     "data": {
      "text/plain": [
       "array(['O-', 'O+', 'B-', 'AB+', 'A+', 'AB-', 'A-', 'B+'], dtype=object)"
      ]
     },
     "execution_count": 36,
     "metadata": {},
     "output_type": "execute_result"
    }
   ],
   "source": [
    "Health_df['Blood_Type'].unique()"
   ]
  },
  {
   "cell_type": "code",
   "execution_count": 37,
   "id": "99cb25a6",
   "metadata": {},
   "outputs": [
    {
     "name": "stdout",
     "output_type": "stream",
     "text": [
      "There are 9 numerical variables\n",
      "\n",
      "The numerical variables are : ['Age', 'Billing Amount', 'Room Number', 'Admission_Year', 'Discharge_Year', 'Admission_Month', 'Discharge_Month', 'Admission_day', 'Discharge_day']\n"
     ]
    }
   ],
   "source": [
    "# find numerical variables\n",
    "\n",
    "numerical = [var for var in Health_df.columns if Health_df[var].dtype!='O']\n",
    "\n",
    "print('There are {} numerical variables\\n'.format(len(numerical)))\n",
    "\n",
    "print('The numerical variables are :', numerical)"
   ]
  },
  {
   "cell_type": "code",
   "execution_count": 38,
   "id": "304ac64d",
   "metadata": {},
   "outputs": [
    {
     "data": {
      "text/html": [
       "<div>\n",
       "<style scoped>\n",
       "    .dataframe tbody tr th:only-of-type {\n",
       "        vertical-align: middle;\n",
       "    }\n",
       "\n",
       "    .dataframe tbody tr th {\n",
       "        vertical-align: top;\n",
       "    }\n",
       "\n",
       "    .dataframe thead th {\n",
       "        text-align: right;\n",
       "    }\n",
       "</style>\n",
       "<table border=\"1\" class=\"dataframe\">\n",
       "  <thead>\n",
       "    <tr style=\"text-align: right;\">\n",
       "      <th></th>\n",
       "      <th>Age</th>\n",
       "      <th>Billing Amount</th>\n",
       "      <th>Room Number</th>\n",
       "      <th>Admission_Year</th>\n",
       "      <th>Discharge_Year</th>\n",
       "      <th>Admission_Month</th>\n",
       "      <th>Discharge_Month</th>\n",
       "      <th>Admission_day</th>\n",
       "      <th>Discharge_day</th>\n",
       "    </tr>\n",
       "  </thead>\n",
       "  <tbody>\n",
       "    <tr>\n",
       "      <th>0</th>\n",
       "      <td>81</td>\n",
       "      <td>37490.983364</td>\n",
       "      <td>146</td>\n",
       "      <td>2022</td>\n",
       "      <td>2022</td>\n",
       "      <td>11</td>\n",
       "      <td>12</td>\n",
       "      <td>17</td>\n",
       "      <td>1</td>\n",
       "    </tr>\n",
       "    <tr>\n",
       "      <th>1</th>\n",
       "      <td>35</td>\n",
       "      <td>47304.064845</td>\n",
       "      <td>404</td>\n",
       "      <td>2023</td>\n",
       "      <td>2023</td>\n",
       "      <td>6</td>\n",
       "      <td>6</td>\n",
       "      <td>1</td>\n",
       "      <td>15</td>\n",
       "    </tr>\n",
       "    <tr>\n",
       "      <th>2</th>\n",
       "      <td>61</td>\n",
       "      <td>36874.896997</td>\n",
       "      <td>292</td>\n",
       "      <td>2019</td>\n",
       "      <td>2019</td>\n",
       "      <td>1</td>\n",
       "      <td>2</td>\n",
       "      <td>9</td>\n",
       "      <td>8</td>\n",
       "    </tr>\n",
       "    <tr>\n",
       "      <th>3</th>\n",
       "      <td>49</td>\n",
       "      <td>23303.322092</td>\n",
       "      <td>480</td>\n",
       "      <td>2020</td>\n",
       "      <td>2020</td>\n",
       "      <td>5</td>\n",
       "      <td>5</td>\n",
       "      <td>2</td>\n",
       "      <td>3</td>\n",
       "    </tr>\n",
       "    <tr>\n",
       "      <th>4</th>\n",
       "      <td>51</td>\n",
       "      <td>18086.344184</td>\n",
       "      <td>477</td>\n",
       "      <td>2021</td>\n",
       "      <td>2021</td>\n",
       "      <td>7</td>\n",
       "      <td>8</td>\n",
       "      <td>9</td>\n",
       "      <td>2</td>\n",
       "    </tr>\n",
       "  </tbody>\n",
       "</table>\n",
       "</div>"
      ],
      "text/plain": [
       "   Age  Billing Amount  Room Number  Admission_Year  Discharge_Year  \\\n",
       "0   81    37490.983364          146            2022            2022   \n",
       "1   35    47304.064845          404            2023            2023   \n",
       "2   61    36874.896997          292            2019            2019   \n",
       "3   49    23303.322092          480            2020            2020   \n",
       "4   51    18086.344184          477            2021            2021   \n",
       "\n",
       "   Admission_Month  Discharge_Month  Admission_day  Discharge_day  \n",
       "0               11               12             17              1  \n",
       "1                6                6              1             15  \n",
       "2                1                2              9              8  \n",
       "3                5                5              2              3  \n",
       "4                7                8              9              2  "
      ]
     },
     "execution_count": 38,
     "metadata": {},
     "output_type": "execute_result"
    }
   ],
   "source": [
    "# view the numerical variables\n",
    "\n",
    "Health_df[numerical].head()"
   ]
  },
  {
   "cell_type": "code",
   "execution_count": 39,
   "id": "b74110f5",
   "metadata": {},
   "outputs": [
    {
     "name": "stdout",
     "output_type": "stream",
     "text": [
      "           Age  Billing Amount  Room Number  Admission_Year  Discharge_Year  \\\n",
      "count  10000.0         10000.0      10000.0         10000.0         10000.0   \n",
      "mean      51.0         25517.0        300.0          2021.0          2021.0   \n",
      "std       20.0         14067.0        116.0             1.0             1.0   \n",
      "min       18.0          1000.0        101.0          2018.0          2018.0   \n",
      "25%       35.0         13507.0        199.0          2020.0          2020.0   \n",
      "50%       52.0         25258.0        299.0          2021.0          2021.0   \n",
      "75%       68.0         37734.0        400.0          2022.0          2022.0   \n",
      "max       85.0         49996.0        500.0          2023.0          2023.0   \n",
      "\n",
      "       Admission_Month  Discharge_Month  Admission_day  Discharge_day  \n",
      "count          10000.0          10000.0        10000.0        10000.0  \n",
      "mean               7.0              7.0           16.0           16.0  \n",
      "std                3.0              3.0            9.0            9.0  \n",
      "min                1.0              1.0            1.0            1.0  \n",
      "25%                4.0              4.0            8.0            8.0  \n",
      "50%                7.0              7.0           16.0           15.0  \n",
      "75%               10.0             10.0           24.0           23.0  \n",
      "max               12.0             12.0           31.0           31.0   2\n"
     ]
    }
   ],
   "source": [
    "# view summary statistics in numerical variables\n",
    "\n",
    "print(round(Health_df[numerical].describe()),2)"
   ]
  },
  {
   "cell_type": "code",
   "execution_count": 40,
   "id": "f6ca9e13",
   "metadata": {},
   "outputs": [
    {
     "data": {
      "text/plain": [
       "Text(0, 0.5, 'Billing Amount')"
      ]
     },
     "execution_count": 40,
     "metadata": {},
     "output_type": "execute_result"
    },
    {
     "data": {
      "image/png": "[encoded data removed]",
      "text/plain": [
       "<Figure size 1500x1000 with 4 Axes>"
      ]
     },
     "metadata": {},
     "output_type": "display_data"
    }
   ],
   "source": [
    "# draw boxplots to visualize outliers\n",
    "\n",
    "plt.figure(figsize=(15,10))\n",
    "\n",
    "\n",
    "plt.subplot(2, 2, 1)\n",
    "fig = Health_df.boxplot(column='Admission_Year')\n",
    "fig.set_title('')\n",
    "fig.set_ylabel('Admission_Year')\n",
    "\n",
    "\n",
    "plt.subplot(2, 2, 2)\n",
    "fig = Health_df.boxplot(column='Discharge_Year')\n",
    "fig.set_title('')\n",
    "fig.set_ylabel('Discharge_Year')\n",
    "\n",
    "\n",
    "plt.subplot(2, 2, 3)\n",
    "fig = Health_df.boxplot(column='Age')\n",
    "fig.set_title('')\n",
    "fig.set_ylabel('Age')\n",
    "\n",
    "\n",
    "plt.subplot(2, 2, 4)\n",
    "fig = Health_df.boxplot(column='Billing Amount')\n",
    "fig.set_title('')\n",
    "fig.set_ylabel('Billing Amount')"
   ]
  },
  {
   "cell_type": "code",
   "execution_count": 41,
   "id": "262399d6",
   "metadata": {},
   "outputs": [
    {
     "data": {
      "text/plain": [
       "Text(0, 0.5, 'Test_Results')"
      ]
     },
     "execution_count": 41,
     "metadata": {},
     "output_type": "execute_result"
    },
    {
     "data": {
      "image/png": "[encoded data removed]",
      "text/plain": [
       "<Figure size 1500x1000 with 3 Axes>"
      ]
     },
     "metadata": {},
     "output_type": "display_data"
    }
   ],
   "source": [
    "# plot histogram to check distribution\n",
    "\n",
    "plt.figure(figsize=(15,10))\n",
    "\n",
    "\n",
    "plt.subplot(2, 2, 1)\n",
    "fig = Health_df.Admission_Year.hist(bins=10)\n",
    "fig.set_xlabel('Admission_Year')\n",
    "fig.set_ylabel('Gender')\n",
    "\n",
    "plt.subplot(2, 2, 2)\n",
    "fig = Health_df.Discharge_Year.hist(bins=10)\n",
    "fig.set_xlabel('Discharge_Year')\n",
    "fig.set_ylabel('Gender')\n",
    "\n",
    "\n",
    "plt.subplot(2, 2, 3)\n",
    "fig = Health_df.Age.hist(bins=10)\n",
    "fig.set_xlabel('Age')\n",
    "fig.set_ylabel('Test_Results')"
   ]
  },
  {
   "cell_type": "code",
   "execution_count": 42,
   "id": "e8725eb7",
   "metadata": {},
   "outputs": [
    {
     "name": "stdout",
     "output_type": "stream",
     "text": [
      "Age outliers are values < -64.0 or > 167.0\n"
     ]
    }
   ],
   "source": [
    "# find outliers for variable\n",
    "\n",
    "IQR = Health_df.Age.quantile(0.75) - Health_df.Age.quantile(0.25)\n",
    "Lower_fence = Health_df.Age.quantile(0.25) - (IQR * 3)\n",
    "Upper_fence = Health_df.Age.quantile(0.75) + (IQR * 3)\n",
    "print('Age outliers are values < {lowerboundary} or > {upperboundary}'.format(lowerboundary=Lower_fence, upperboundary=Upper_fence))"
   ]
  },
  {
   "cell_type": "code",
   "execution_count": 43,
   "id": "8dc8a402",
   "metadata": {},
   "outputs": [
    {
     "name": "stdout",
     "output_type": "stream",
     "text": [
      "Percent of missing \"Age\" records is 0.00%\n"
     ]
    }
   ],
   "source": [
    "# percent of missing \"Age\" \n",
    "print('Percent of missing \"Age\" records is %.2f%%' %((Health_df['Age'].isnull().sum()/Health_df.shape[0])*100))"
   ]
  },
  {
   "cell_type": "code",
   "execution_count": 44,
   "id": "230ed69c",
   "metadata": {},
   "outputs": [
    {
     "data": {
      "image/png": "[encoded data removed]",
      "text/plain": [
       "<Figure size 640x480 with 1 Axes>"
      ]
     },
     "metadata": {},
     "output_type": "display_data"
    }
   ],
   "source": [
    "ax = Health_df[\"Age\"].hist(bins=15, density=True, stacked=True, color='teal', alpha=0.6)\n",
    "Health_df[\"Age\"].plot(kind='density', color='teal')\n",
    "ax.set(xlabel='Age')\n",
    "plt.xlim(-10,85)\n",
    "plt.show()"
   ]
  },
  {
   "cell_type": "code",
   "execution_count": 45,
   "id": "ff4861ed",
   "metadata": {},
   "outputs": [
    {
     "name": "stdout",
     "output_type": "stream",
     "text": [
      "The mean of \"Age\" is 51.45\n"
     ]
    }
   ],
   "source": [
    "print('The mean of \"Age\" is %.2f' %(Health_df[\"Age\"].mean(skipna=True)))"
   ]
  },
  {
   "cell_type": "code",
   "execution_count": 46,
   "id": "f170f19e",
   "metadata": {},
   "outputs": [
    {
     "name": "stdout",
     "output_type": "stream",
     "text": [
      "The mean of \"Age\" is 52.00\n"
     ]
    }
   ],
   "source": [
    "print('The mean of \"Age\" is %.2f' %(Health_df[\"Age\"].median(skipna=True)))"
   ]
  },
  {
   "cell_type": "markdown",
   "id": "46624dd5",
   "metadata": {},
   "source": [
    "## Split data into separate training and test set"
   ]
  },
  {
   "cell_type": "code",
   "execution_count": 47,
   "id": "bf08e2ad",
   "metadata": {},
   "outputs": [
    {
     "name": "stdout",
     "output_type": "stream",
     "text": [
      "Patients grouped by Blood group (O-, O+, B-, AB+, A+, AB-, A-, B+):\n",
      "AB-    1275\n",
      "AB+    1258\n",
      "B-     1252\n",
      "O+     1248\n",
      "O-     1244\n",
      "B+     1244\n",
      "A+     1241\n",
      "A-     1238\n",
      "Name: Blood_Type, dtype: int64\n"
     ]
    },
    {
     "data": {
      "image/png": "[encoded data removed]",
      "text/plain": [
       "<Figure size 640x480 with 1 Axes>"
      ]
     },
     "metadata": {},
     "output_type": "display_data"
    }
   ],
   "source": [
    "print('Patients grouped by Blood group (O-, O+, B-, AB+, A+, AB-, A-, B+):')\n",
    "print(Health_df['Blood_Type'].value_counts())\n",
    "sns.countplot(x='Blood_Type', data=Health_df, palette='Set2')\n",
    "plt.show()"
   ]
  },
  {
   "cell_type": "code",
   "execution_count": 48,
   "id": "f7cb995a",
   "metadata": {},
   "outputs": [
    {
     "name": "stdout",
     "output_type": "stream",
     "text": [
      "Patients grouped by Medical Condition (Diabetes, Asthma, Obesity, Arthritis, Hypertension, Cancer):\n",
      "Asthma          1708\n",
      "Cancer          1703\n",
      "Hypertension    1688\n",
      "Arthritis       1650\n",
      "Obesity         1628\n",
      "Diabetes        1623\n",
      "Name: Medical_Condition, dtype: int64\n"
     ]
    },
    {
     "data": {
      "image/png": "[encoded data removed]",
      "text/plain": [
       "<Figure size 640x480 with 1 Axes>"
      ]
     },
     "metadata": {},
     "output_type": "display_data"
    }
   ],
   "source": [
    "print('Patients grouped by Medical Condition (Diabetes, Asthma, Obesity, Arthritis, Hypertension, Cancer):')\n",
    "print(Health_df['Medical_Condition'].value_counts())\n",
    "sns.countplot(x='Medical_Condition', data=Health_df, palette='Set3')\n",
    "plt.show()"
   ]
  },
  {
   "cell_type": "code",
   "execution_count": 49,
   "id": "1aaf2227",
   "metadata": {},
   "outputs": [
    {
     "name": "stdout",
     "output_type": "stream",
     "text": [
      "The most common Blood_Type is AB-.\n"
     ]
    }
   ],
   "source": [
    "print('The most common Blood_Type is %s.' %Health_df['Blood_Type'].value_counts().idxmax())"
   ]
  },
  {
   "cell_type": "code",
   "execution_count": 50,
   "id": "52f8d525",
   "metadata": {},
   "outputs": [],
   "source": [
    "health_data = Health_df.copy()\n",
    "health_data[\"Age\"].fillna(Health_df[\"Age\"].median(skipna=True), inplace=True)\n",
    "health_data[\"Gender\"].fillna(Health_df['Gender'].value_counts().idxmax(), inplace=True)\n",
    "#train_data.drop('Cabin', axis=1, inplace=True)"
   ]
  },
  {
   "cell_type": "code",
   "execution_count": 51,
   "id": "503959a6",
   "metadata": {},
   "outputs": [
    {
     "data": {
      "text/plain": [
       "Name                  0\n",
       "Age                   0\n",
       "Gender                0\n",
       "Blood_Type            0\n",
       "Medical_Condition     0\n",
       "Doctor                0\n",
       "Hospital              0\n",
       "Insurance_Provider    0\n",
       "Billing Amount        0\n",
       "Room Number           0\n",
       "Admission_Type        0\n",
       "Medication            0\n",
       "Test_Results          0\n",
       "Admission_Year        0\n",
       "Discharge_Year        0\n",
       "Admission_Month       0\n",
       "Discharge_Month       0\n",
       "Admission_day         0\n",
       "Discharge_day         0\n",
       "dtype: int64"
      ]
     },
     "execution_count": 51,
     "metadata": {},
     "output_type": "execute_result"
    }
   ],
   "source": [
    "health_data.isnull().sum()"
   ]
  },
  {
   "cell_type": "code",
   "execution_count": 52,
   "id": "bc34fc2c",
   "metadata": {},
   "outputs": [
    {
     "data": {
      "text/html": [
       "<div>\n",
       "<style scoped>\n",
       "    .dataframe tbody tr th:only-of-type {\n",
       "        vertical-align: middle;\n",
       "    }\n",
       "\n",
       "    .dataframe tbody tr th {\n",
       "        vertical-align: top;\n",
       "    }\n",
       "\n",
       "    .dataframe thead th {\n",
       "        text-align: right;\n",
       "    }\n",
       "</style>\n",
       "<table border=\"1\" class=\"dataframe\">\n",
       "  <thead>\n",
       "    <tr style=\"text-align: right;\">\n",
       "      <th></th>\n",
       "      <th>Name</th>\n",
       "      <th>Age</th>\n",
       "      <th>Gender</th>\n",
       "      <th>Blood_Type</th>\n",
       "      <th>Medical_Condition</th>\n",
       "      <th>Doctor</th>\n",
       "      <th>Hospital</th>\n",
       "      <th>Insurance_Provider</th>\n",
       "      <th>Billing Amount</th>\n",
       "      <th>Room Number</th>\n",
       "      <th>Admission_Type</th>\n",
       "      <th>Medication</th>\n",
       "      <th>Test_Results</th>\n",
       "      <th>Admission_Year</th>\n",
       "      <th>Discharge_Year</th>\n",
       "      <th>Admission_Month</th>\n",
       "      <th>Discharge_Month</th>\n",
       "      <th>Admission_day</th>\n",
       "      <th>Discharge_day</th>\n",
       "    </tr>\n",
       "  </thead>\n",
       "  <tbody>\n",
       "    <tr>\n",
       "      <th>0</th>\n",
       "      <td>Tiffany Ramirez</td>\n",
       "      <td>81</td>\n",
       "      <td>Female</td>\n",
       "      <td>O-</td>\n",
       "      <td>Diabetes</td>\n",
       "      <td>Patrick Parker</td>\n",
       "      <td>Wallace-Hamilton</td>\n",
       "      <td>Medicare</td>\n",
       "      <td>37490.983364</td>\n",
       "      <td>146</td>\n",
       "      <td>Elective</td>\n",
       "      <td>Aspirin</td>\n",
       "      <td>Inconclusive</td>\n",
       "      <td>2022</td>\n",
       "      <td>2022</td>\n",
       "      <td>11</td>\n",
       "      <td>12</td>\n",
       "      <td>17</td>\n",
       "      <td>1</td>\n",
       "    </tr>\n",
       "    <tr>\n",
       "      <th>1</th>\n",
       "      <td>Ruben Burns</td>\n",
       "      <td>35</td>\n",
       "      <td>Male</td>\n",
       "      <td>O+</td>\n",
       "      <td>Asthma</td>\n",
       "      <td>Diane Jackson</td>\n",
       "      <td>Burke, Griffin and Cooper</td>\n",
       "      <td>UnitedHealthcare</td>\n",
       "      <td>47304.064845</td>\n",
       "      <td>404</td>\n",
       "      <td>Emergency</td>\n",
       "      <td>Lipitor</td>\n",
       "      <td>Normal</td>\n",
       "      <td>2023</td>\n",
       "      <td>2023</td>\n",
       "      <td>6</td>\n",
       "      <td>6</td>\n",
       "      <td>1</td>\n",
       "      <td>15</td>\n",
       "    </tr>\n",
       "    <tr>\n",
       "      <th>2</th>\n",
       "      <td>Chad Byrd</td>\n",
       "      <td>61</td>\n",
       "      <td>Male</td>\n",
       "      <td>B-</td>\n",
       "      <td>Obesity</td>\n",
       "      <td>Paul Baker</td>\n",
       "      <td>Walton LLC</td>\n",
       "      <td>Medicare</td>\n",
       "      <td>36874.896997</td>\n",
       "      <td>292</td>\n",
       "      <td>Emergency</td>\n",
       "      <td>Lipitor</td>\n",
       "      <td>Normal</td>\n",
       "      <td>2019</td>\n",
       "      <td>2019</td>\n",
       "      <td>1</td>\n",
       "      <td>2</td>\n",
       "      <td>9</td>\n",
       "      <td>8</td>\n",
       "    </tr>\n",
       "    <tr>\n",
       "      <th>3</th>\n",
       "      <td>Antonio Frederick</td>\n",
       "      <td>49</td>\n",
       "      <td>Male</td>\n",
       "      <td>B-</td>\n",
       "      <td>Asthma</td>\n",
       "      <td>Brian Chandler</td>\n",
       "      <td>Garcia Ltd</td>\n",
       "      <td>Medicare</td>\n",
       "      <td>23303.322092</td>\n",
       "      <td>480</td>\n",
       "      <td>Urgent</td>\n",
       "      <td>Penicillin</td>\n",
       "      <td>Abnormal</td>\n",
       "      <td>2020</td>\n",
       "      <td>2020</td>\n",
       "      <td>5</td>\n",
       "      <td>5</td>\n",
       "      <td>2</td>\n",
       "      <td>3</td>\n",
       "    </tr>\n",
       "    <tr>\n",
       "      <th>4</th>\n",
       "      <td>Mrs. Brandy Flowers</td>\n",
       "      <td>51</td>\n",
       "      <td>Male</td>\n",
       "      <td>O-</td>\n",
       "      <td>Arthritis</td>\n",
       "      <td>Dustin Griffin</td>\n",
       "      <td>Jones, Brown and Murray</td>\n",
       "      <td>UnitedHealthcare</td>\n",
       "      <td>18086.344184</td>\n",
       "      <td>477</td>\n",
       "      <td>Urgent</td>\n",
       "      <td>Paracetamol</td>\n",
       "      <td>Normal</td>\n",
       "      <td>2021</td>\n",
       "      <td>2021</td>\n",
       "      <td>7</td>\n",
       "      <td>8</td>\n",
       "      <td>9</td>\n",
       "      <td>2</td>\n",
       "    </tr>\n",
       "  </tbody>\n",
       "</table>\n",
       "</div>"
      ],
      "text/plain": [
       "                  Name  Age  Gender Blood_Type Medical_Condition  \\\n",
       "0      Tiffany Ramirez   81  Female         O-          Diabetes   \n",
       "1          Ruben Burns   35    Male         O+            Asthma   \n",
       "2            Chad Byrd   61    Male         B-           Obesity   \n",
       "3    Antonio Frederick   49    Male         B-            Asthma   \n",
       "4  Mrs. Brandy Flowers   51    Male         O-         Arthritis   \n",
       "\n",
       "           Doctor                   Hospital Insurance_Provider  \\\n",
       "0  Patrick Parker           Wallace-Hamilton           Medicare   \n",
       "1   Diane Jackson  Burke, Griffin and Cooper   UnitedHealthcare   \n",
       "2      Paul Baker                 Walton LLC           Medicare   \n",
       "3  Brian Chandler                 Garcia Ltd           Medicare   \n",
       "4  Dustin Griffin    Jones, Brown and Murray   UnitedHealthcare   \n",
       "\n",
       "   Billing Amount  Room Number Admission_Type   Medication  Test_Results  \\\n",
       "0    37490.983364          146       Elective      Aspirin  Inconclusive   \n",
       "1    47304.064845          404      Emergency      Lipitor        Normal   \n",
       "2    36874.896997          292      Emergency      Lipitor        Normal   \n",
       "3    23303.322092          480         Urgent   Penicillin      Abnormal   \n",
       "4    18086.344184          477         Urgent  Paracetamol        Normal   \n",
       "\n",
       "   Admission_Year  Discharge_Year  Admission_Month  Discharge_Month  \\\n",
       "0            2022            2022               11               12   \n",
       "1            2023            2023                6                6   \n",
       "2            2019            2019                1                2   \n",
       "3            2020            2020                5                5   \n",
       "4            2021            2021                7                8   \n",
       "\n",
       "   Admission_day  Discharge_day  \n",
       "0             17              1  \n",
       "1              1             15  \n",
       "2              9              8  \n",
       "3              2              3  \n",
       "4              9              2  "
      ]
     },
     "execution_count": 52,
     "metadata": {},
     "output_type": "execute_result"
    }
   ],
   "source": [
    "health_data.head()"
   ]
  },
  {
   "cell_type": "code",
   "execution_count": 53,
   "id": "20e69ac0",
   "metadata": {},
   "outputs": [
    {
     "data": {
      "image/png": "[encoded data removed]",
      "text/plain": [
       "<Figure size 1500x800 with 1 Axes>"
      ]
     },
     "metadata": {},
     "output_type": "display_data"
    }
   ],
   "source": [
    "plt.figure(figsize=(15,8))\n",
    "ax = Health_df[\"Age\"].hist(bins=15, density=True, stacked=True, color='teal', alpha=0.6)\n",
    "Health_df[\"Age\"].plot(kind='density', color='teal')\n",
    "ax = health_data[\"Age\"].hist(bins=15, density=True, stacked=True, color='orange', alpha=0.5)\n",
    "health_data[\"Age\"].plot(kind='density', color='orange')\n",
    "ax.legend(['Age', 'Gender'])\n",
    "ax.set(xlabel='Age')\n",
    "plt.xlim(-10,85)\n",
    "plt.show()"
   ]
  },
  {
   "cell_type": "code",
   "execution_count": 54,
   "id": "daa18726",
   "metadata": {},
   "outputs": [
    {
     "data": {
      "text/html": [
       "<div>\n",
       "<style scoped>\n",
       "    .dataframe tbody tr th:only-of-type {\n",
       "        vertical-align: middle;\n",
       "    }\n",
       "\n",
       "    .dataframe tbody tr th {\n",
       "        vertical-align: top;\n",
       "    }\n",
       "\n",
       "    .dataframe thead th {\n",
       "        text-align: right;\n",
       "    }\n",
       "</style>\n",
       "<table border=\"1\" class=\"dataframe\">\n",
       "  <thead>\n",
       "    <tr style=\"text-align: right;\">\n",
       "      <th></th>\n",
       "      <th>Name</th>\n",
       "      <th>Age</th>\n",
       "      <th>Doctor</th>\n",
       "      <th>Hospital</th>\n",
       "      <th>Insurance_Provider</th>\n",
       "      <th>Billing Amount</th>\n",
       "      <th>Room Number</th>\n",
       "      <th>Admission_Type</th>\n",
       "      <th>Medication</th>\n",
       "      <th>Test_Results</th>\n",
       "      <th>...</th>\n",
       "      <th>Blood_Type_A+</th>\n",
       "      <th>Blood_Type_A-</th>\n",
       "      <th>Blood_Type_AB+</th>\n",
       "      <th>Blood_Type_AB-</th>\n",
       "      <th>Blood_Type_B+</th>\n",
       "      <th>Blood_Type_B-</th>\n",
       "      <th>Blood_Type_O+</th>\n",
       "      <th>Blood_Type_O-</th>\n",
       "      <th>Gender_Female</th>\n",
       "      <th>Gender_Male</th>\n",
       "    </tr>\n",
       "  </thead>\n",
       "  <tbody>\n",
       "    <tr>\n",
       "      <th>0</th>\n",
       "      <td>Tiffany Ramirez</td>\n",
       "      <td>81</td>\n",
       "      <td>Patrick Parker</td>\n",
       "      <td>Wallace-Hamilton</td>\n",
       "      <td>Medicare</td>\n",
       "      <td>37490.983364</td>\n",
       "      <td>146</td>\n",
       "      <td>Elective</td>\n",
       "      <td>Aspirin</td>\n",
       "      <td>Inconclusive</td>\n",
       "      <td>...</td>\n",
       "      <td>0</td>\n",
       "      <td>0</td>\n",
       "      <td>0</td>\n",
       "      <td>0</td>\n",
       "      <td>0</td>\n",
       "      <td>0</td>\n",
       "      <td>0</td>\n",
       "      <td>1</td>\n",
       "      <td>1</td>\n",
       "      <td>0</td>\n",
       "    </tr>\n",
       "    <tr>\n",
       "      <th>1</th>\n",
       "      <td>Ruben Burns</td>\n",
       "      <td>35</td>\n",
       "      <td>Diane Jackson</td>\n",
       "      <td>Burke, Griffin and Cooper</td>\n",
       "      <td>UnitedHealthcare</td>\n",
       "      <td>47304.064845</td>\n",
       "      <td>404</td>\n",
       "      <td>Emergency</td>\n",
       "      <td>Lipitor</td>\n",
       "      <td>Normal</td>\n",
       "      <td>...</td>\n",
       "      <td>0</td>\n",
       "      <td>0</td>\n",
       "      <td>0</td>\n",
       "      <td>0</td>\n",
       "      <td>0</td>\n",
       "      <td>0</td>\n",
       "      <td>1</td>\n",
       "      <td>0</td>\n",
       "      <td>0</td>\n",
       "      <td>1</td>\n",
       "    </tr>\n",
       "    <tr>\n",
       "      <th>2</th>\n",
       "      <td>Chad Byrd</td>\n",
       "      <td>61</td>\n",
       "      <td>Paul Baker</td>\n",
       "      <td>Walton LLC</td>\n",
       "      <td>Medicare</td>\n",
       "      <td>36874.896997</td>\n",
       "      <td>292</td>\n",
       "      <td>Emergency</td>\n",
       "      <td>Lipitor</td>\n",
       "      <td>Normal</td>\n",
       "      <td>...</td>\n",
       "      <td>0</td>\n",
       "      <td>0</td>\n",
       "      <td>0</td>\n",
       "      <td>0</td>\n",
       "      <td>0</td>\n",
       "      <td>1</td>\n",
       "      <td>0</td>\n",
       "      <td>0</td>\n",
       "      <td>0</td>\n",
       "      <td>1</td>\n",
       "    </tr>\n",
       "    <tr>\n",
       "      <th>3</th>\n",
       "      <td>Antonio Frederick</td>\n",
       "      <td>49</td>\n",
       "      <td>Brian Chandler</td>\n",
       "      <td>Garcia Ltd</td>\n",
       "      <td>Medicare</td>\n",
       "      <td>23303.322092</td>\n",
       "      <td>480</td>\n",
       "      <td>Urgent</td>\n",
       "      <td>Penicillin</td>\n",
       "      <td>Abnormal</td>\n",
       "      <td>...</td>\n",
       "      <td>0</td>\n",
       "      <td>0</td>\n",
       "      <td>0</td>\n",
       "      <td>0</td>\n",
       "      <td>0</td>\n",
       "      <td>1</td>\n",
       "      <td>0</td>\n",
       "      <td>0</td>\n",
       "      <td>0</td>\n",
       "      <td>1</td>\n",
       "    </tr>\n",
       "    <tr>\n",
       "      <th>4</th>\n",
       "      <td>Mrs. Brandy Flowers</td>\n",
       "      <td>51</td>\n",
       "      <td>Dustin Griffin</td>\n",
       "      <td>Jones, Brown and Murray</td>\n",
       "      <td>UnitedHealthcare</td>\n",
       "      <td>18086.344184</td>\n",
       "      <td>477</td>\n",
       "      <td>Urgent</td>\n",
       "      <td>Paracetamol</td>\n",
       "      <td>Normal</td>\n",
       "      <td>...</td>\n",
       "      <td>0</td>\n",
       "      <td>0</td>\n",
       "      <td>0</td>\n",
       "      <td>0</td>\n",
       "      <td>0</td>\n",
       "      <td>0</td>\n",
       "      <td>0</td>\n",
       "      <td>1</td>\n",
       "      <td>0</td>\n",
       "      <td>1</td>\n",
       "    </tr>\n",
       "  </tbody>\n",
       "</table>\n",
       "<p>5 rows × 32 columns</p>\n",
       "</div>"
      ],
      "text/plain": [
       "                  Name  Age          Doctor                   Hospital  \\\n",
       "0      Tiffany Ramirez   81  Patrick Parker           Wallace-Hamilton   \n",
       "1          Ruben Burns   35   Diane Jackson  Burke, Griffin and Cooper   \n",
       "2            Chad Byrd   61      Paul Baker                 Walton LLC   \n",
       "3    Antonio Frederick   49  Brian Chandler                 Garcia Ltd   \n",
       "4  Mrs. Brandy Flowers   51  Dustin Griffin    Jones, Brown and Murray   \n",
       "\n",
       "  Insurance_Provider  Billing Amount  Room Number Admission_Type   Medication  \\\n",
       "0           Medicare    37490.983364          146       Elective      Aspirin   \n",
       "1   UnitedHealthcare    47304.064845          404      Emergency      Lipitor   \n",
       "2           Medicare    36874.896997          292      Emergency      Lipitor   \n",
       "3           Medicare    23303.322092          480         Urgent   Penicillin   \n",
       "4   UnitedHealthcare    18086.344184          477         Urgent  Paracetamol   \n",
       "\n",
       "   Test_Results  ...  Blood_Type_A+  Blood_Type_A-  Blood_Type_AB+  \\\n",
       "0  Inconclusive  ...              0              0               0   \n",
       "1        Normal  ...              0              0               0   \n",
       "2        Normal  ...              0              0               0   \n",
       "3      Abnormal  ...              0              0               0   \n",
       "4        Normal  ...              0              0               0   \n",
       "\n",
       "   Blood_Type_AB-  Blood_Type_B+  Blood_Type_B-  Blood_Type_O+  Blood_Type_O-  \\\n",
       "0               0              0              0              0              1   \n",
       "1               0              0              0              1              0   \n",
       "2               0              0              1              0              0   \n",
       "3               0              0              1              0              0   \n",
       "4               0              0              0              0              1   \n",
       "\n",
       "   Gender_Female  Gender_Male  \n",
       "0              1            0  \n",
       "1              0            1  \n",
       "2              0            1  \n",
       "3              0            1  \n",
       "4              0            1  \n",
       "\n",
       "[5 rows x 32 columns]"
      ]
     },
     "execution_count": 54,
     "metadata": {},
     "output_type": "execute_result"
    }
   ],
   "source": [
    "Health=pd.get_dummies(health_data, columns=[\"Medical_Condition\",\"Blood_Type\",\"Gender\"])\n",
    "final_health = Health\n",
    "final_health.head()\n",
    "                        "
   ]
  },
  {
   "cell_type": "code",
   "execution_count": 55,
   "id": "699cbbc8",
   "metadata": {},
   "outputs": [
    {
     "data": {
      "image/png": "[encoded data removed]",
      "text/plain": [
       "<Figure size 1500x800 with 1 Axes>"
      ]
     },
     "metadata": {},
     "output_type": "display_data"
    }
   ],
   "source": [
    "plt.figure(figsize=(15,8))\n",
    "ax = sns.kdeplot(final_health[\"Age\"][final_health.Admission_Type == 'Urgent'], color=\"darkturquoise\", shade=True)\n",
    "sns.kdeplot(final_health[\"Age\"][final_health.Admission_Type == 'Emergency'], color=\"lightcoral\", shade=True)\n",
    "plt.legend(['Urgent', 'Emergency'])\n",
    "plt.title('Plot of Age based on  Admission_Type')\n",
    "ax.set(xlabel='Age')\n",
    "plt.xlim(-10,85)\n",
    "plt.show()"
   ]
  },
  {
   "cell_type": "code",
   "execution_count": 56,
   "id": "7cdfa565",
   "metadata": {},
   "outputs": [
    {
     "data": {
      "image/png": "[encoded data removed]",
      "text/plain": [
       "<Figure size 1500x800 with 1 Axes>"
      ]
     },
     "metadata": {},
     "output_type": "display_data"
    }
   ],
   "source": [
    "plt.figure(figsize=(15,8))\n",
    "ax = sns.kdeplot(final_health[\"Age\"][final_health.Test_Results == 'Normal'], color=\"darkturquoise\", shade=True)\n",
    "sns.kdeplot(final_health[\"Age\"][final_health.Test_Results == 'Abnormal'], color=\"lightcoral\", shade=True)\n",
    "plt.legend(['Normal', 'Abnormal'])\n",
    "plt.title('Plot of Age based on  Test Results')\n",
    "ax.set(xlabel='Age')\n",
    "plt.xlim(-10,85)\n",
    "plt.show()"
   ]
  },
  {
   "cell_type": "code",
   "execution_count": 58,
   "id": "ad7336b3",
   "metadata": {},
   "outputs": [
    {
     "data": {
      "image/png": "[encoded data removed]",
      "text/plain": [
       "<Figure size 2000x800 with 1 Axes>"
      ]
     },
     "metadata": {},
     "output_type": "display_data"
    }
   ],
   "source": [
    "plt.figure(figsize=(20,8))\n",
    "avg_Insurance_bymale = final_health[[\"Insurance_Provider\", \"Gender_Male\"]].groupby(['Insurance_Provider'], as_index=False).mean()\n",
    "g = sns.barplot(x='Insurance_Provider', y='Gender_Male', data=avg_Insurance_bymale, color=\"LightSeaGreen\")\n",
    "plt.show()"
   ]
  },
  {
   "cell_type": "code",
   "execution_count": 59,
   "id": "83e3f006",
   "metadata": {},
   "outputs": [
    {
     "data": {
      "image/png": "[encoded data removed]",
      "text/plain": [
       "<Figure size 2000x800 with 1 Axes>"
      ]
     },
     "metadata": {},
     "output_type": "display_data"
    }
   ],
   "source": [
    "plt.figure(figsize=(20,8))\n",
    "avg_Insurance_byfemale = final_health[[\"Insurance_Provider\", \"Gender_Female\"]].groupby(['Insurance_Provider'], as_index=False).mean()\n",
    "g = sns.barplot(x='Insurance_Provider', y='Gender_Female', data=avg_Insurance_byfemale, color=\"LightSeaGreen\")\n",
    "plt.show()"
   ]
  },
  {
   "cell_type": "code",
   "execution_count": 60,
   "id": "684ea61c",
   "metadata": {},
   "outputs": [
    {
     "data": {
      "image/png": "[encoded data removed]",
      "text/plain": [
       "<Figure size 1500x800 with 1 Axes>"
      ]
     },
     "metadata": {},
     "output_type": "display_data"
    }
   ],
   "source": [
    "plt.figure(figsize=(15,8))\n",
    "ax = sns.kdeplot(final_health[\"Billing Amount\"][final_health.Admission_Type == 'Urgent'], color=\"darkturquoise\", shade=False)\n",
    "sns.kdeplot(final_health[\"Billing Amount\"][final_health.Admission_Type == 'Emergency'], color=\"lightcoral\", shade=True)\n",
    "plt.legend(['Urgent', 'Emergency'])\n",
    "plt.title('Plot of Billing Amount based on  Admission_Type')\n",
    "ax.set(xlabel='Billing Amount')\n",
    "plt.xlim(-20,200)\n",
    "plt.show()"
   ]
  },
  {
   "cell_type": "code",
   "execution_count": 61,
   "id": "e9536754",
   "metadata": {},
   "outputs": [
    {
     "ename": "TypeError",
     "evalue": "barplot() got multiple values for argument 'data'",
     "output_type": "error",
     "traceback": [
      "\u001b[1;31m---------------------------------------------------------------------------\u001b[0m",
      "\u001b[1;31mTypeError\u001b[0m                                 Traceback (most recent call last)",
      "Cell \u001b[1;32mIn[61], line 1\u001b[0m\n\u001b[1;32m----> 1\u001b[0m \u001b[43msns\u001b[49m\u001b[38;5;241;43m.\u001b[39;49m\u001b[43mbarplot\u001b[49m\u001b[43m(\u001b[49m\u001b[38;5;124;43m'\u001b[39;49m\u001b[38;5;124;43mGender_Male\u001b[39;49m\u001b[38;5;124;43m'\u001b[39;49m\u001b[43m,\u001b[49m\u001b[43m \u001b[49m\u001b[38;5;124;43m'\u001b[39;49m\u001b[38;5;124;43mBlood_Type_A+\u001b[39;49m\u001b[38;5;124;43m'\u001b[39;49m\u001b[43m,\u001b[49m\u001b[43m \u001b[49m\u001b[43mdata\u001b[49m\u001b[38;5;241;43m=\u001b[39;49m\u001b[43mfinal_health\u001b[49m\u001b[43m,\u001b[49m\u001b[43m \u001b[49m\u001b[43mcolor\u001b[49m\u001b[38;5;241;43m=\u001b[39;49m\u001b[38;5;124;43m\"\u001b[39;49m\u001b[38;5;124;43mdarkturquoise\u001b[39;49m\u001b[38;5;124;43m\"\u001b[39;49m\u001b[43m)\u001b[49m\n\u001b[0;32m      2\u001b[0m plt\u001b[38;5;241m.\u001b[39mshow()\n",
      "\u001b[1;31mTypeError\u001b[0m: barplot() got multiple values for argument 'data'"
     ]
    }
   ],
   "source": [
    "sns.barplot('Gender_Male', 'Blood_Type_A+', data=final_health, color=\"darkturquoise\")\n",
    "plt.show()"
   ]
  },
  {
   "cell_type": "markdown",
   "id": "63405cef",
   "metadata": {},
   "source": [
    "### 4. Logistic Regression and Results\n",
    "\n",
    "#### 1.Recursive feature elimination\n",
    "    Given an external estimator that assigns weights to features, recursive feature elimination (RFE) is to \n",
    "    select features by recursively considering smaller and smaller sets of features. First, the estimator \n",
    "    is trained on the initial set of features and the importance of each feature is obtained either \n",
    "    through a coef_ attribute or through a feature_importances_ attribute. Then, the least important \n",
    "    features are pruned from current set of features.That procedure is recursively repeated on the \n",
    "    pruned set until the desired number of features to select is eventually reached.\n",
    "\n",
    "    References:\n",
    "    http://scikit-learn.org/stable/modules/feature_selection.html\n"
   ]
  },
  {
   "cell_type": "code",
   "execution_count": 62,
   "id": "6bf7a58b",
   "metadata": {},
   "outputs": [],
   "source": [
    "from sklearn.linear_model import LogisticRegression\n",
    "from sklearn.feature_selection import RFE\n",
    "\n",
    "cols = [\"Age\",\"Billing Amount\",\"Blood_Type_A+\",\"Blood_Type_A-\",\"Blood_Type_AB+\", \"Blood_Type_AB-\",\"Blood_Type_B+\",\"Blood_Type_B-\",\"Blood_Type_O+\",\"Blood_Type_O-\",\"Gender_Female\",\"Gender_Male\"]\n",
    "X = final_health[cols]\n",
    "y = final_health['Test_Results']"
   ]
  },
  {
   "cell_type": "code",
   "execution_count": 63,
   "id": "310edfc0",
   "metadata": {},
   "outputs": [],
   "source": [
    "# Build a logreg and compute the feature importances\n",
    "model = LogisticRegression()"
   ]
  },
  {
   "cell_type": "code",
   "execution_count": 64,
   "id": "750b0e74",
   "metadata": {},
   "outputs": [
    {
     "name": "stdout",
     "output_type": "stream",
     "text": [
      "Selected features: ['Age', 'Billing Amount', 'Blood_Type_A-', 'Blood_Type_B-', 'Blood_Type_O-', 'Gender_Male']\n"
     ]
    }
   ],
   "source": [
    "# create the RFE model and select 8 attributes\n",
    "rfe = RFE(model, step = 20)\n",
    "rfe = rfe.fit(X, y)\n",
    "# summarize the selection of the attributes\n",
    "print('Selected features: %s' % list(X.columns[rfe.support_]))"
   ]
  },
  {
   "cell_type": "markdown",
   "id": "d330efe9",
   "metadata": {},
   "source": [
    "#### Feature ranking with recursive feature elimination and cross-validation\n",
    "    RFECV performs RFE in a cross-validation loop to find the optimal number or the best number of features. \n",
    "    Hereafter a recursive feature elimination applied on logistic regression with automatic tuning of the \n",
    "    number of features selected with cross-validation."
   ]
  },
  {
   "cell_type": "code",
   "execution_count": 65,
   "id": "5ba58a5d",
   "metadata": {},
   "outputs": [
    {
     "data": {
      "text/html": [
       "<style>#sk-container-id-1 {color: black;}#sk-container-id-1 pre{padding: 0;}#sk-container-id-1 div.sk-toggleable {background-color: white;}#sk-container-id-1 label.sk-toggleable__label {cursor: pointer;display: block;width: 100%;margin-bottom: 0;padding: 0.3em;box-sizing: border-box;text-align: center;}#sk-container-id-1 label.sk-toggleable__label-arrow:before {content: \"▸\";float: left;margin-right: 0.25em;color: #696969;}#sk-container-id-1 label.sk-toggleable__label-arrow:hover:before {color: black;}#sk-container-id-1 div.sk-estimator:hover label.sk-toggleable__label-arrow:before {color: black;}#sk-container-id-1 div.sk-toggleable__content {max-height: 0;max-width: 0;overflow: hidden;text-align: left;background-color: #f0f8ff;}#sk-container-id-1 div.sk-toggleable__content pre {margin: 0.2em;color: black;border-radius: 0.25em;background-color: #f0f8ff;}#sk-container-id-1 input.sk-toggleable__control:checked~div.sk-toggleable__content {max-height: 200px;max-width: 100%;overflow: auto;}#sk-container-id-1 input.sk-toggleable__control:checked~label.sk-toggleable__label-arrow:before {content: \"▾\";}#sk-container-id-1 div.sk-estimator input.sk-toggleable__control:checked~label.sk-toggleable__label {background-color: #d4ebff;}#sk-container-id-1 div.sk-label input.sk-toggleable__control:checked~label.sk-toggleable__label {background-color: #d4ebff;}#sk-container-id-1 input.sk-hidden--visually {border: 0;clip: rect(1px 1px 1px 1px);clip: rect(1px, 1px, 1px, 1px);height: 1px;margin: -1px;overflow: hidden;padding: 0;position: absolute;width: 1px;}#sk-container-id-1 div.sk-estimator {font-family: monospace;background-color: #f0f8ff;border: 1px dotted black;border-radius: 0.25em;box-sizing: border-box;margin-bottom: 0.5em;}#sk-container-id-1 div.sk-estimator:hover {background-color: #d4ebff;}#sk-container-id-1 div.sk-parallel-item::after {content: \"\";width: 100%;border-bottom: 1px solid gray;flex-grow: 1;}#sk-container-id-1 div.sk-label:hover label.sk-toggleable__label {background-color: #d4ebff;}#sk-container-id-1 div.sk-serial::before {content: \"\";position: absolute;border-left: 1px solid gray;box-sizing: border-box;top: 0;bottom: 0;left: 50%;z-index: 0;}#sk-container-id-1 div.sk-serial {display: flex;flex-direction: column;align-items: center;background-color: white;padding-right: 0.2em;padding-left: 0.2em;position: relative;}#sk-container-id-1 div.sk-item {position: relative;z-index: 1;}#sk-container-id-1 div.sk-parallel {display: flex;align-items: stretch;justify-content: center;background-color: white;position: relative;}#sk-container-id-1 div.sk-item::before, #sk-container-id-1 div.sk-parallel-item::before {content: \"\";position: absolute;border-left: 1px solid gray;box-sizing: border-box;top: 0;bottom: 0;left: 50%;z-index: -1;}#sk-container-id-1 div.sk-parallel-item {display: flex;flex-direction: column;z-index: 1;position: relative;background-color: white;}#sk-container-id-1 div.sk-parallel-item:first-child::after {align-self: flex-end;width: 50%;}#sk-container-id-1 div.sk-parallel-item:last-child::after {align-self: flex-start;width: 50%;}#sk-container-id-1 div.sk-parallel-item:only-child::after {width: 0;}#sk-container-id-1 div.sk-dashed-wrapped {border: 1px dashed gray;margin: 0 0.4em 0.5em 0.4em;box-sizing: border-box;padding-bottom: 0.4em;background-color: white;}#sk-container-id-1 div.sk-label label {font-family: monospace;font-weight: bold;display: inline-block;line-height: 1.2em;}#sk-container-id-1 div.sk-label-container {text-align: center;}#sk-container-id-1 div.sk-container {/* jupyter's `normalize.less` sets `[hidden] { display: none; }` but bootstrap.min.css set `[hidden] { display: none !important; }` so we also need the `!important` here to be able to override the default hidden behavior on the sphinx rendered scikit-learn.org. See: https://github.com/scikit-learn/scikit-learn/issues/21755 */display: inline-block !important;position: relative;}#sk-container-id-1 div.sk-text-repr-fallback {display: none;}</style><div id=\"sk-container-id-1\" class=\"sk-top-container\"><div class=\"sk-text-repr-fallback\"><pre>RFECV(cv=20, estimator=LogisticRegression(), scoring=&#x27;accuracy&#x27;)</pre><b>In a Jupyter environment, please rerun this cell to show the HTML representation or trust the notebook. <br />On GitHub, the HTML representation is unable to render, please try loading this page with nbviewer.org.</b></div><div class=\"sk-container\" hidden><div class=\"sk-item sk-dashed-wrapped\"><div class=\"sk-label-container\"><div class=\"sk-label sk-toggleable\"><input class=\"sk-toggleable__control sk-hidden--visually\" id=\"sk-estimator-id-1\" type=\"checkbox\" ><label for=\"sk-estimator-id-1\" class=\"sk-toggleable__label sk-toggleable__label-arrow\">RFECV</label><div class=\"sk-toggleable__content\"><pre>RFECV(cv=20, estimator=LogisticRegression(), scoring=&#x27;accuracy&#x27;)</pre></div></div></div><div class=\"sk-parallel\"><div class=\"sk-parallel-item\"><div class=\"sk-item\"><div class=\"sk-label-container\"><div class=\"sk-label sk-toggleable\"><input class=\"sk-toggleable__control sk-hidden--visually\" id=\"sk-estimator-id-2\" type=\"checkbox\" ><label for=\"sk-estimator-id-2\" class=\"sk-toggleable__label sk-toggleable__label-arrow\">estimator: LogisticRegression</label><div class=\"sk-toggleable__content\"><pre>LogisticRegression()</pre></div></div></div><div class=\"sk-serial\"><div class=\"sk-item\"><div class=\"sk-estimator sk-toggleable\"><input class=\"sk-toggleable__control sk-hidden--visually\" id=\"sk-estimator-id-3\" type=\"checkbox\" ><label for=\"sk-estimator-id-3\" class=\"sk-toggleable__label sk-toggleable__label-arrow\">LogisticRegression</label><div class=\"sk-toggleable__content\"><pre>LogisticRegression()</pre></div></div></div></div></div></div></div></div></div></div>"
      ],
      "text/plain": [
       "RFECV(cv=20, estimator=LogisticRegression(), scoring='accuracy')"
      ]
     },
     "execution_count": 65,
     "metadata": {},
     "output_type": "execute_result"
    }
   ],
   "source": [
    "from sklearn.feature_selection import RFECV\n",
    "# Create the RFE object and compute a cross-validated score.\n",
    "# The \"accuracy\" scoring is proportional to the number of correct classifications\n",
    "rfecv = RFECV(estimator=LogisticRegression(), step=1, cv=20, scoring='accuracy')\n",
    "rfecv.fit(X, y)\n",
    "\n"
   ]
  },
  {
   "cell_type": "code",
   "execution_count": 66,
   "id": "c02c7b96",
   "metadata": {},
   "outputs": [
    {
     "name": "stdout",
     "output_type": "stream",
     "text": [
      "Optimal number of features: 1\n",
      "Selected features: ['Billing Amount']\n"
     ]
    }
   ],
   "source": [
    "print(\"Optimal number of features: %d\" % rfecv.n_features_)\n",
    "print('Selected features: %s' % list(X.columns[rfecv.support_]))"
   ]
  },
  {
   "cell_type": "code",
   "execution_count": null,
   "id": "7549db93",
   "metadata": {},
   "outputs": [],
   "source": [
    "pip uninstall scikit-learn"
   ]
  },
  {
   "cell_type": "code",
   "execution_count": 68,
   "id": "264d85e3",
   "metadata": {},
   "outputs": [
    {
     "name": "stdout",
     "output_type": "stream",
     "text": [
      "Collecting scikit-learn==1.1.3Note: you may need to restart the kernel to use updated packages.\n",
      "\n",
      "  Downloading scikit_learn-1.1.3-cp311-cp311-win_amd64.whl (7.5 MB)\n",
      "                                              0.0/7.5 MB ? eta -:--:--\n",
      "                                              0.0/7.5 MB ? eta -:--:--\n",
      "                                              0.0/7.5 MB 495.5 kB/s eta 0:00:16\n",
      "                                              0.2/7.5 MB 1.5 MB/s eta 0:00:05\n",
      "     --                                       0.5/7.5 MB 3.3 MB/s eta 0:00:03\n",
      "     -----                                    0.9/7.5 MB 5.0 MB/s eta 0:00:02\n",
      "     ------                                   1.3/7.5 MB 5.8 MB/s eta 0:00:02\n",
      "     ---------                                1.7/7.5 MB 6.5 MB/s eta 0:00:01\n",
      "     -----------                              2.2/7.5 MB 7.0 MB/s eta 0:00:01\n",
      "     --------------                           2.7/7.5 MB 7.9 MB/s eta 0:00:01\n",
      "     ----------------                         3.2/7.5 MB 8.1 MB/s eta 0:00:01\n",
      "     -------------------                      3.7/7.5 MB 8.4 MB/s eta 0:00:01\n",
      "     ----------------------                   4.2/7.5 MB 8.6 MB/s eta 0:00:01\n",
      "     -------------------------                4.8/7.5 MB 9.4 MB/s eta 0:00:01\n",
      "     ----------------------------             5.4/7.5 MB 9.2 MB/s eta 0:00:01\n",
      "     --------------------------------         6.1/7.5 MB 9.8 MB/s eta 0:00:01\n",
      "     -----------------------------------      6.7/7.5 MB 10.3 MB/s eta 0:00:01\n",
      "     ---------------------------------------  7.3/7.5 MB 10.4 MB/s eta 0:00:01\n",
      "     ---------------------------------------  7.5/7.5 MB 10.4 MB/s eta 0:00:01\n",
      "     ---------------------------------------- 7.5/7.5 MB 9.8 MB/s eta 0:00:00\n",
      "Requirement already satisfied: numpy>=1.17.3 in c:\\anaconda3\\envs\\datascience\\lib\\site-packages (from scikit-learn==1.1.3) (1.25.0)\n",
      "Requirement already satisfied: scipy>=1.3.2 in c:\\anaconda3\\envs\\datascience\\lib\\site-packages (from scikit-learn==1.1.3) (1.11.1)\n",
      "Requirement already satisfied: joblib>=1.0.0 in c:\\anaconda3\\envs\\datascience\\lib\\site-packages (from scikit-learn==1.1.3) (1.3.2)\n",
      "Requirement already satisfied: threadpoolctl>=2.0.0 in c:\\anaconda3\\envs\\datascience\\lib\\site-packages (from scikit-learn==1.1.3) (3.2.0)\n",
      "Installing collected packages: scikit-learn\n",
      "  Attempting uninstall: scikit-learn\n",
      "    Found existing installation: scikit-learn 1.3.2\n",
      "    Uninstalling scikit-learn-1.3.2:\n",
      "      Successfully uninstalled scikit-learn-1.3.2\n"
     ]
    },
    {
     "name": "stderr",
     "output_type": "stream",
     "text": [
      "ERROR: Could not install packages due to an OSError: [WinError 5] Access is denied: 'C:\\\\anaconda3\\\\envs\\\\DataScience\\\\Lib\\\\site-packages\\\\~-learn\\\\.libs\\\\msvcp140.dll'\n",
      "Consider using the `--user` option or check the permissions.\n",
      "\n",
      "\n",
      "[notice] A new release of pip is available: 23.1.2 -> 23.3.1\n",
      "[notice] To update, run: python.exe -m pip install --upgrade pip\n"
     ]
    }
   ],
   "source": [
    "pip install scikit-learn==1.1.3"
   ]
  },
  {
   "cell_type": "code",
   "execution_count": 69,
   "id": "7a8e0435",
   "metadata": {},
   "outputs": [
    {
     "ename": "AttributeError",
     "evalue": "'RFECV' object has no attribute 'grid_scores_'",
     "output_type": "error",
     "traceback": [
      "\u001b[1;31m---------------------------------------------------------------------------\u001b[0m",
      "\u001b[1;31mAttributeError\u001b[0m                            Traceback (most recent call last)",
      "Cell \u001b[1;32mIn[69], line 5\u001b[0m\n\u001b[0;32m      3\u001b[0m plt\u001b[38;5;241m.\u001b[39mxlabel(\u001b[38;5;124m\"\u001b[39m\u001b[38;5;124mNumber of features selected\u001b[39m\u001b[38;5;124m\"\u001b[39m)\n\u001b[0;32m      4\u001b[0m plt\u001b[38;5;241m.\u001b[39mylabel(\u001b[38;5;124m\"\u001b[39m\u001b[38;5;124mCross validation score (nb of correct classifications)\u001b[39m\u001b[38;5;124m\"\u001b[39m)\n\u001b[1;32m----> 5\u001b[0m plt\u001b[38;5;241m.\u001b[39mplot(\u001b[38;5;28mrange\u001b[39m(\u001b[38;5;241m1\u001b[39m, \u001b[38;5;28mlen\u001b[39m(\u001b[43mrfecv\u001b[49m\u001b[38;5;241;43m.\u001b[39;49m\u001b[43mgrid_scores_\u001b[49m) \u001b[38;5;241m+\u001b[39m \u001b[38;5;241m1\u001b[39m), rfecv\u001b[38;5;241m.\u001b[39mgrid_scores_)\n\u001b[0;32m      6\u001b[0m plt\u001b[38;5;241m.\u001b[39mshow()\n",
      "\u001b[1;31mAttributeError\u001b[0m: 'RFECV' object has no attribute 'grid_scores_'"
     ]
    },
    {
     "data": {
      "image/png": "[encoded data removed]",
      "text/plain": [
       "<Figure size 1000x600 with 1 Axes>"
      ]
     },
     "metadata": {},
     "output_type": "display_data"
    }
   ],
   "source": [
    "# Plot number of features VS. cross-validation scores\n",
    "plt.figure(figsize=(10,6))\n",
    "plt.xlabel(\"Number of features selected\")\n",
    "plt.ylabel(\"Cross validation score (nb of correct classifications)\")\n",
    "plt.plot(range(1, len(rfecv.grid_scores_) + 1), rfecv.grid_scores_)\n",
    "plt.show()"
   ]
  },
  {
   "cell_type": "code",
   "execution_count": null,
   "id": "9b2d41e4",
   "metadata": {},
   "outputs": [],
   "source": []
  }
 ],
 "metadata": {
  "kernelspec": {
   "display_name": "DataScience",
   "language": "python",
   "name": "datascience"
  },
  "language_info": {
   "codemirror_mode": {
    "name": "ipython",
    "version": 3
   },
   "file_extension": ".py",
   "mimetype": "text/x-python",
   "name": "python",
   "nbconvert_exporter": "python",
   "pygments_lexer": "ipython3",
   "version": "3.11.4"
  }
 },
 "nbformat": 4,
 "nbformat_minor": 5
}
