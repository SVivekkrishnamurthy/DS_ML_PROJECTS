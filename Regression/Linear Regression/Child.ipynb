{
 "cells": [
  {
   "cell_type": "code",
   "execution_count": 1,
   "id": "79cc4610-c09d-4c9d-ad46-e26ee536a451",
   "metadata": {},
   "outputs": [],
   "source": [
    "import pandas as pd"
   ]
  },
  {
   "cell_type": "code",
   "execution_count": 3,
   "id": "56217bd6-48b8-439b-885d-411739eb9f10",
   "metadata": {},
   "outputs": [],
   "source": [
    "names1880 = pd.read_csv('input/names/yob1880.txt',names=['name','sex','births'])"
   ]
  },
  {
   "cell_type": "code",
   "execution_count": 4,
   "id": "25c82a2e-48a7-4985-886b-3be0c0a7bb48",
   "metadata": {},
   "outputs": [
    {
     "data": {
      "text/html": [
       "<div>\n",
       "<style scoped>\n",
       "    .dataframe tbody tr th:only-of-type {\n",
       "        vertical-align: middle;\n",
       "    }\n",
       "\n",
       "    .dataframe tbody tr th {\n",
       "        vertical-align: top;\n",
       "    }\n",
       "\n",
       "    .dataframe thead th {\n",
       "        text-align: right;\n",
       "    }\n",
       "</style>\n",
       "<table border=\"1\" class=\"dataframe\">\n",
       "  <thead>\n",
       "    <tr style=\"text-align: right;\">\n",
       "      <th></th>\n",
       "      <th>name</th>\n",
       "      <th>sex</th>\n",
       "      <th>births</th>\n",
       "    </tr>\n",
       "  </thead>\n",
       "  <tbody>\n",
       "    <tr>\n",
       "      <th>0</th>\n",
       "      <td>Mary</td>\n",
       "      <td>F</td>\n",
       "      <td>7065</td>\n",
       "    </tr>\n",
       "    <tr>\n",
       "      <th>1</th>\n",
       "      <td>Anna</td>\n",
       "      <td>F</td>\n",
       "      <td>2604</td>\n",
       "    </tr>\n",
       "    <tr>\n",
       "      <th>2</th>\n",
       "      <td>Emma</td>\n",
       "      <td>F</td>\n",
       "      <td>2003</td>\n",
       "    </tr>\n",
       "    <tr>\n",
       "      <th>3</th>\n",
       "      <td>Elizabeth</td>\n",
       "      <td>F</td>\n",
       "      <td>1939</td>\n",
       "    </tr>\n",
       "    <tr>\n",
       "      <th>4</th>\n",
       "      <td>Minnie</td>\n",
       "      <td>F</td>\n",
       "      <td>1746</td>\n",
       "    </tr>\n",
       "    <tr>\n",
       "      <th>...</th>\n",
       "      <td>...</td>\n",
       "      <td>...</td>\n",
       "      <td>...</td>\n",
       "    </tr>\n",
       "    <tr>\n",
       "      <th>1995</th>\n",
       "      <td>Woodie</td>\n",
       "      <td>M</td>\n",
       "      <td>5</td>\n",
       "    </tr>\n",
       "    <tr>\n",
       "      <th>1996</th>\n",
       "      <td>Worthy</td>\n",
       "      <td>M</td>\n",
       "      <td>5</td>\n",
       "    </tr>\n",
       "    <tr>\n",
       "      <th>1997</th>\n",
       "      <td>Wright</td>\n",
       "      <td>M</td>\n",
       "      <td>5</td>\n",
       "    </tr>\n",
       "    <tr>\n",
       "      <th>1998</th>\n",
       "      <td>York</td>\n",
       "      <td>M</td>\n",
       "      <td>5</td>\n",
       "    </tr>\n",
       "    <tr>\n",
       "      <th>1999</th>\n",
       "      <td>Zachariah</td>\n",
       "      <td>M</td>\n",
       "      <td>5</td>\n",
       "    </tr>\n",
       "  </tbody>\n",
       "</table>\n",
       "<p>2000 rows × 3 columns</p>\n",
       "</div>"
      ],
      "text/plain": [
       "           name sex  births\n",
       "0          Mary   F    7065\n",
       "1          Anna   F    2604\n",
       "2          Emma   F    2003\n",
       "3     Elizabeth   F    1939\n",
       "4        Minnie   F    1746\n",
       "...         ...  ..     ...\n",
       "1995     Woodie   M       5\n",
       "1996     Worthy   M       5\n",
       "1997     Wright   M       5\n",
       "1998       York   M       5\n",
       "1999  Zachariah   M       5\n",
       "\n",
       "[2000 rows x 3 columns]"
      ]
     },
     "execution_count": 4,
     "metadata": {},
     "output_type": "execute_result"
    }
   ],
   "source": [
    "names1880"
   ]
  },
  {
   "cell_type": "code",
   "execution_count": 5,
   "id": "3e3b560c-57e0-4a0d-9eff-901d22144fec",
   "metadata": {},
   "outputs": [
    {
     "data": {
      "text/plain": [
       "sex\n",
       "F     90994\n",
       "M    110490\n",
       "Name: births, dtype: int64"
      ]
     },
     "execution_count": 5,
     "metadata": {},
     "output_type": "execute_result"
    }
   ],
   "source": [
    "names1880.groupby('sex').births.sum()"
   ]
  },
  {
   "cell_type": "code",
   "execution_count": 6,
   "id": "374b8b32-bbde-46c5-8551-20b27873cb16",
   "metadata": {},
   "outputs": [],
   "source": [
    "# data split by year\n",
    "# so assemble data into single DataFrame and add year field\n",
    "# use %d string formatter to iterate through the years\n",
    "# add 'year' column\n",
    "# append pieces together\n",
    "# .concat merges by row and do not preserve original row numbers\n",
    "\n",
    "pieces = []"
   ]
  },
  {
   "cell_type": "code",
   "execution_count": 7,
   "id": "969064c8-bfb9-4ab9-8f0f-43323b5a1944",
   "metadata": {},
   "outputs": [],
   "source": [
    "columns = ['name', 'sex', 'births']"
   ]
  },
  {
   "cell_type": "code",
   "execution_count": 8,
   "id": "4f60df70-55c9-4780-b98e-92bc67a3f182",
   "metadata": {},
   "outputs": [],
   "source": [
    "years = range(1880, 2023)"
   ]
  },
  {
   "cell_type": "code",
   "execution_count": 11,
   "id": "52b0fc43-74aa-4f46-af10-fad7430e1631",
   "metadata": {},
   "outputs": [],
   "source": [
    "for year in years:\n",
    "    path = 'input/names/yob%d.txt' % year\n",
    "    frame = pd.read_csv(path, names=columns)\n",
    "    frame['year'] = year\n",
    "    pieces.append(frame)\n",
    "    names = pd.concat(pieces, ignore_index=True)\n"
   ]
  },
  {
   "cell_type": "code",
   "execution_count": 16,
   "id": "55ce39d0-784e-453d-9f3c-85e608288a33",
   "metadata": {},
   "outputs": [
    {
     "data": {
      "text/html": [
       "<div>\n",
       "<style scoped>\n",
       "    .dataframe tbody tr th:only-of-type {\n",
       "        vertical-align: middle;\n",
       "    }\n",
       "\n",
       "    .dataframe tbody tr th {\n",
       "        vertical-align: top;\n",
       "    }\n",
       "\n",
       "    .dataframe thead th {\n",
       "        text-align: right;\n",
       "    }\n",
       "</style>\n",
       "<table border=\"1\" class=\"dataframe\">\n",
       "  <thead>\n",
       "    <tr style=\"text-align: right;\">\n",
       "      <th></th>\n",
       "      <th>name</th>\n",
       "      <th>sex</th>\n",
       "      <th>births</th>\n",
       "      <th>year</th>\n",
       "    </tr>\n",
       "  </thead>\n",
       "  <tbody>\n",
       "    <tr>\n",
       "      <th>0</th>\n",
       "      <td>Mary</td>\n",
       "      <td>F</td>\n",
       "      <td>7065</td>\n",
       "      <td>1880</td>\n",
       "    </tr>\n",
       "    <tr>\n",
       "      <th>1</th>\n",
       "      <td>Anna</td>\n",
       "      <td>F</td>\n",
       "      <td>2604</td>\n",
       "      <td>1880</td>\n",
       "    </tr>\n",
       "    <tr>\n",
       "      <th>2</th>\n",
       "      <td>Emma</td>\n",
       "      <td>F</td>\n",
       "      <td>2003</td>\n",
       "      <td>1880</td>\n",
       "    </tr>\n",
       "    <tr>\n",
       "      <th>3</th>\n",
       "      <td>Elizabeth</td>\n",
       "      <td>F</td>\n",
       "      <td>1939</td>\n",
       "      <td>1880</td>\n",
       "    </tr>\n",
       "    <tr>\n",
       "      <th>4</th>\n",
       "      <td>Minnie</td>\n",
       "      <td>F</td>\n",
       "      <td>1746</td>\n",
       "      <td>1880</td>\n",
       "    </tr>\n",
       "    <tr>\n",
       "      <th>...</th>\n",
       "      <td>...</td>\n",
       "      <td>...</td>\n",
       "      <td>...</td>\n",
       "      <td>...</td>\n",
       "    </tr>\n",
       "    <tr>\n",
       "      <th>2085153</th>\n",
       "      <td>Zuberi</td>\n",
       "      <td>M</td>\n",
       "      <td>5</td>\n",
       "      <td>2022</td>\n",
       "    </tr>\n",
       "    <tr>\n",
       "      <th>2085154</th>\n",
       "      <td>Zydn</td>\n",
       "      <td>M</td>\n",
       "      <td>5</td>\n",
       "      <td>2022</td>\n",
       "    </tr>\n",
       "    <tr>\n",
       "      <th>2085155</th>\n",
       "      <td>Zylon</td>\n",
       "      <td>M</td>\n",
       "      <td>5</td>\n",
       "      <td>2022</td>\n",
       "    </tr>\n",
       "    <tr>\n",
       "      <th>2085156</th>\n",
       "      <td>Zymeer</td>\n",
       "      <td>M</td>\n",
       "      <td>5</td>\n",
       "      <td>2022</td>\n",
       "    </tr>\n",
       "    <tr>\n",
       "      <th>2085157</th>\n",
       "      <td>Zymeire</td>\n",
       "      <td>M</td>\n",
       "      <td>5</td>\n",
       "      <td>2022</td>\n",
       "    </tr>\n",
       "  </tbody>\n",
       "</table>\n",
       "<p>2085158 rows × 4 columns</p>\n",
       "</div>"
      ],
      "text/plain": [
       "              name sex  births  year\n",
       "0             Mary   F    7065  1880\n",
       "1             Anna   F    2604  1880\n",
       "2             Emma   F    2003  1880\n",
       "3        Elizabeth   F    1939  1880\n",
       "4           Minnie   F    1746  1880\n",
       "...            ...  ..     ...   ...\n",
       "2085153     Zuberi   M       5  2022\n",
       "2085154       Zydn   M       5  2022\n",
       "2085155      Zylon   M       5  2022\n",
       "2085156     Zymeer   M       5  2022\n",
       "2085157    Zymeire   M       5  2022\n",
       "\n",
       "[2085158 rows x 4 columns]"
      ]
     },
     "execution_count": 16,
     "metadata": {},
     "output_type": "execute_result"
    }
   ],
   "source": [
    "names"
   ]
  },
  {
   "cell_type": "code",
   "execution_count": 17,
   "id": "db2d5dae-07e6-431e-9e00-6cb15b3b7401",
   "metadata": {},
   "outputs": [],
   "source": [
    "total_births = names.pivot_table('births', index='year', columns='sex', aggfunc=sum)"
   ]
  },
  {
   "cell_type": "code",
   "execution_count": 18,
   "id": "61a55690-432f-4c18-ba66-69fa706f7d30",
   "metadata": {},
   "outputs": [
    {
     "data": {
      "text/html": [
       "<div>\n",
       "<style scoped>\n",
       "    .dataframe tbody tr th:only-of-type {\n",
       "        vertical-align: middle;\n",
       "    }\n",
       "\n",
       "    .dataframe tbody tr th {\n",
       "        vertical-align: top;\n",
       "    }\n",
       "\n",
       "    .dataframe thead th {\n",
       "        text-align: right;\n",
       "    }\n",
       "</style>\n",
       "<table border=\"1\" class=\"dataframe\">\n",
       "  <thead>\n",
       "    <tr style=\"text-align: right;\">\n",
       "      <th>sex</th>\n",
       "      <th>F</th>\n",
       "      <th>M</th>\n",
       "    </tr>\n",
       "    <tr>\n",
       "      <th>year</th>\n",
       "      <th></th>\n",
       "      <th></th>\n",
       "    </tr>\n",
       "  </thead>\n",
       "  <tbody>\n",
       "    <tr>\n",
       "      <th>2018</th>\n",
       "      <td>1698373</td>\n",
       "      <td>1813377</td>\n",
       "    </tr>\n",
       "    <tr>\n",
       "      <th>2019</th>\n",
       "      <td>1675139</td>\n",
       "      <td>1790682</td>\n",
       "    </tr>\n",
       "    <tr>\n",
       "      <th>2020</th>\n",
       "      <td>1612393</td>\n",
       "      <td>1721588</td>\n",
       "    </tr>\n",
       "    <tr>\n",
       "      <th>2021</th>\n",
       "      <td>1635800</td>\n",
       "      <td>1743913</td>\n",
       "    </tr>\n",
       "    <tr>\n",
       "      <th>2022</th>\n",
       "      <td>1628730</td>\n",
       "      <td>1733166</td>\n",
       "    </tr>\n",
       "  </tbody>\n",
       "</table>\n",
       "</div>"
      ],
      "text/plain": [
       "sex         F        M\n",
       "year                  \n",
       "2018  1698373  1813377\n",
       "2019  1675139  1790682\n",
       "2020  1612393  1721588\n",
       "2021  1635800  1743913\n",
       "2022  1628730  1733166"
      ]
     },
     "execution_count": 18,
     "metadata": {},
     "output_type": "execute_result"
    }
   ],
   "source": [
    "total_births.tail()"
   ]
  },
  {
   "cell_type": "code",
   "execution_count": 19,
   "id": "7066f245-868a-440d-818b-5c011ec18685",
   "metadata": {},
   "outputs": [
    {
     "data": {
      "text/plain": [
       "<Axes: title={'center': 'Total Births by sex and year'}, xlabel='year'>"
      ]
     },
     "execution_count": 19,
     "metadata": {},
     "output_type": "execute_result"
    },
    {
     "data": {
      "image/png": "[encoded data removed]",
      "text/plain": [
       "<Figure size 640x480 with 1 Axes>"
      ]
     },
     "metadata": {},
     "output_type": "display_data"
    }
   ],
   "source": [
    "total_births.plot(title='Total Births by sex and year')"
   ]
  },
  {
   "cell_type": "code",
   "execution_count": 20,
   "id": "88e157b2-5bdd-426d-9617-e7c9eb68cbe7",
   "metadata": {},
   "outputs": [],
   "source": [
    "def add_prop(group):\n",
    "    # integer division floors\n",
    "    births = group.births.astype(float)\n",
    "    group['prop'] = births / births.sum()\n",
    "    return group"
   ]
  },
  {
   "cell_type": "code",
   "execution_count": 21,
   "id": "56d0401a-df3d-442b-bcb3-fc52a535d442",
   "metadata": {},
   "outputs": [
    {
     "name": "stderr",
     "output_type": "stream",
     "text": [
      "C:\\Users\\vsubramanian\\AppData\\Local\\Temp\\ipykernel_24500\\242111530.py:1: FutureWarning: Not prepending group keys to the result index of transform-like apply. In the future, the group keys will be included in the index, regardless of whether the applied function returns a like-indexed object.\n",
      "To preserve the previous behavior, use\n",
      "\n",
      "\t>>> .groupby(..., group_keys=False)\n",
      "\n",
      "To adopt the future behavior and silence this warning, use \n",
      "\n",
      "\t>>> .groupby(..., group_keys=True)\n",
      "  names = names.groupby(['year','sex']).apply(add_prop)\n"
     ]
    }
   ],
   "source": [
    "names = names.groupby(['year','sex']).apply(add_prop)"
   ]
  },
  {
   "cell_type": "code",
   "execution_count": 22,
   "id": "9a034768-2ae2-41d6-a58c-e8a92d833d62",
   "metadata": {},
   "outputs": [
    {
     "data": {
      "text/html": [
       "<div>\n",
       "<style scoped>\n",
       "    .dataframe tbody tr th:only-of-type {\n",
       "        vertical-align: middle;\n",
       "    }\n",
       "\n",
       "    .dataframe tbody tr th {\n",
       "        vertical-align: top;\n",
       "    }\n",
       "\n",
       "    .dataframe thead th {\n",
       "        text-align: right;\n",
       "    }\n",
       "</style>\n",
       "<table border=\"1\" class=\"dataframe\">\n",
       "  <thead>\n",
       "    <tr style=\"text-align: right;\">\n",
       "      <th></th>\n",
       "      <th>name</th>\n",
       "      <th>sex</th>\n",
       "      <th>births</th>\n",
       "      <th>year</th>\n",
       "      <th>prop</th>\n",
       "    </tr>\n",
       "  </thead>\n",
       "  <tbody>\n",
       "    <tr>\n",
       "      <th>0</th>\n",
       "      <td>Mary</td>\n",
       "      <td>F</td>\n",
       "      <td>7065</td>\n",
       "      <td>1880</td>\n",
       "      <td>0.077642</td>\n",
       "    </tr>\n",
       "    <tr>\n",
       "      <th>1</th>\n",
       "      <td>Anna</td>\n",
       "      <td>F</td>\n",
       "      <td>2604</td>\n",
       "      <td>1880</td>\n",
       "      <td>0.028617</td>\n",
       "    </tr>\n",
       "    <tr>\n",
       "      <th>2</th>\n",
       "      <td>Emma</td>\n",
       "      <td>F</td>\n",
       "      <td>2003</td>\n",
       "      <td>1880</td>\n",
       "      <td>0.022012</td>\n",
       "    </tr>\n",
       "    <tr>\n",
       "      <th>3</th>\n",
       "      <td>Elizabeth</td>\n",
       "      <td>F</td>\n",
       "      <td>1939</td>\n",
       "      <td>1880</td>\n",
       "      <td>0.021309</td>\n",
       "    </tr>\n",
       "    <tr>\n",
       "      <th>4</th>\n",
       "      <td>Minnie</td>\n",
       "      <td>F</td>\n",
       "      <td>1746</td>\n",
       "      <td>1880</td>\n",
       "      <td>0.019188</td>\n",
       "    </tr>\n",
       "    <tr>\n",
       "      <th>...</th>\n",
       "      <td>...</td>\n",
       "      <td>...</td>\n",
       "      <td>...</td>\n",
       "      <td>...</td>\n",
       "      <td>...</td>\n",
       "    </tr>\n",
       "    <tr>\n",
       "      <th>2085153</th>\n",
       "      <td>Zuberi</td>\n",
       "      <td>M</td>\n",
       "      <td>5</td>\n",
       "      <td>2022</td>\n",
       "      <td>0.000003</td>\n",
       "    </tr>\n",
       "    <tr>\n",
       "      <th>2085154</th>\n",
       "      <td>Zydn</td>\n",
       "      <td>M</td>\n",
       "      <td>5</td>\n",
       "      <td>2022</td>\n",
       "      <td>0.000003</td>\n",
       "    </tr>\n",
       "    <tr>\n",
       "      <th>2085155</th>\n",
       "      <td>Zylon</td>\n",
       "      <td>M</td>\n",
       "      <td>5</td>\n",
       "      <td>2022</td>\n",
       "      <td>0.000003</td>\n",
       "    </tr>\n",
       "    <tr>\n",
       "      <th>2085156</th>\n",
       "      <td>Zymeer</td>\n",
       "      <td>M</td>\n",
       "      <td>5</td>\n",
       "      <td>2022</td>\n",
       "      <td>0.000003</td>\n",
       "    </tr>\n",
       "    <tr>\n",
       "      <th>2085157</th>\n",
       "      <td>Zymeire</td>\n",
       "      <td>M</td>\n",
       "      <td>5</td>\n",
       "      <td>2022</td>\n",
       "      <td>0.000003</td>\n",
       "    </tr>\n",
       "  </tbody>\n",
       "</table>\n",
       "<p>2085158 rows × 5 columns</p>\n",
       "</div>"
      ],
      "text/plain": [
       "              name sex  births  year      prop\n",
       "0             Mary   F    7065  1880  0.077642\n",
       "1             Anna   F    2604  1880  0.028617\n",
       "2             Emma   F    2003  1880  0.022012\n",
       "3        Elizabeth   F    1939  1880  0.021309\n",
       "4           Minnie   F    1746  1880  0.019188\n",
       "...            ...  ..     ...   ...       ...\n",
       "2085153     Zuberi   M       5  2022  0.000003\n",
       "2085154       Zydn   M       5  2022  0.000003\n",
       "2085155      Zylon   M       5  2022  0.000003\n",
       "2085156     Zymeer   M       5  2022  0.000003\n",
       "2085157    Zymeire   M       5  2022  0.000003\n",
       "\n",
       "[2085158 rows x 5 columns]"
      ]
     },
     "execution_count": 22,
     "metadata": {},
     "output_type": "execute_result"
    }
   ],
   "source": [
    "names"
   ]
  },
  {
   "cell_type": "code",
   "execution_count": 23,
   "id": "3af126bc-b998-4f5c-8e12-b3c460a45024",
   "metadata": {},
   "outputs": [],
   "source": [
    "import numpy as np"
   ]
  },
  {
   "cell_type": "code",
   "execution_count": 24,
   "id": "09b3f3e7-cfa3-45bd-b784-f483e99a30a4",
   "metadata": {},
   "outputs": [
    {
     "data": {
      "text/plain": [
       "True"
      ]
     },
     "execution_count": 24,
     "metadata": {},
     "output_type": "execute_result"
    }
   ],
   "source": [
    " np.allclose(names.groupby(['year','sex']).prop.sum(),1)"
   ]
  },
  {
   "cell_type": "code",
   "execution_count": 25,
   "id": "4b18e1f3-bddb-479c-b9f9-c1afa8724d83",
   "metadata": {},
   "outputs": [],
   "source": [
    "def get_top1000(group):\n",
    "    return group.sort_index(by='births', ascending=False)[:1000]"
   ]
  },
  {
   "cell_type": "code",
   "execution_count": 26,
   "id": "505f7b12-5952-4519-97a2-95975d684459",
   "metadata": {},
   "outputs": [],
   "source": [
    "grouped = names.groupby(['year','sex'])"
   ]
  },
  {
   "cell_type": "code",
   "execution_count": 55,
   "id": "e7607e19-bd5a-4de8-a2d4-51c23beb167e",
   "metadata": {},
   "outputs": [],
   "source": [
    "top1000 = names.sort_values(by='births', ascending=False)[:1000]"
   ]
  },
  {
   "cell_type": "code",
   "execution_count": 56,
   "id": "69e6817a-1217-4668-95fd-03675cdebddc",
   "metadata": {},
   "outputs": [
    {
     "data": {
      "text/html": [
       "<div>\n",
       "<style scoped>\n",
       "    .dataframe tbody tr th:only-of-type {\n",
       "        vertical-align: middle;\n",
       "    }\n",
       "\n",
       "    .dataframe tbody tr th {\n",
       "        vertical-align: top;\n",
       "    }\n",
       "\n",
       "    .dataframe thead th {\n",
       "        text-align: right;\n",
       "    }\n",
       "</style>\n",
       "<table border=\"1\" class=\"dataframe\">\n",
       "  <thead>\n",
       "    <tr style=\"text-align: right;\">\n",
       "      <th></th>\n",
       "      <th>name</th>\n",
       "      <th>sex</th>\n",
       "      <th>births</th>\n",
       "      <th>year</th>\n",
       "      <th>prop</th>\n",
       "    </tr>\n",
       "  </thead>\n",
       "  <tbody>\n",
       "    <tr>\n",
       "      <th>431063</th>\n",
       "      <td>Linda</td>\n",
       "      <td>F</td>\n",
       "      <td>99693</td>\n",
       "      <td>1947</td>\n",
       "      <td>0.056237</td>\n",
       "    </tr>\n",
       "    <tr>\n",
       "      <th>441434</th>\n",
       "      <td>Linda</td>\n",
       "      <td>F</td>\n",
       "      <td>96215</td>\n",
       "      <td>1948</td>\n",
       "      <td>0.056668</td>\n",
       "    </tr>\n",
       "    <tr>\n",
       "      <th>437167</th>\n",
       "      <td>James</td>\n",
       "      <td>M</td>\n",
       "      <td>94758</td>\n",
       "      <td>1947</td>\n",
       "      <td>0.051795</td>\n",
       "    </tr>\n",
       "    <tr>\n",
       "      <th>544672</th>\n",
       "      <td>Michael</td>\n",
       "      <td>M</td>\n",
       "      <td>92785</td>\n",
       "      <td>1957</td>\n",
       "      <td>0.043005</td>\n",
       "    </tr>\n",
       "    <tr>\n",
       "      <th>437168</th>\n",
       "      <td>Robert</td>\n",
       "      <td>M</td>\n",
       "      <td>91650</td>\n",
       "      <td>1947</td>\n",
       "      <td>0.050096</td>\n",
       "    </tr>\n",
       "    <tr>\n",
       "      <th>...</th>\n",
       "      <td>...</td>\n",
       "      <td>...</td>\n",
       "      <td>...</td>\n",
       "      <td>...</td>\n",
       "      <td>...</td>\n",
       "    </tr>\n",
       "    <tr>\n",
       "      <th>1060665</th>\n",
       "      <td>Joseph</td>\n",
       "      <td>M</td>\n",
       "      <td>29880</td>\n",
       "      <td>1989</td>\n",
       "      <td>0.014934</td>\n",
       "    </tr>\n",
       "    <tr>\n",
       "      <th>493371</th>\n",
       "      <td>Karen</td>\n",
       "      <td>F</td>\n",
       "      <td>29857</td>\n",
       "      <td>1953</td>\n",
       "      <td>0.015870</td>\n",
       "    </tr>\n",
       "    <tr>\n",
       "      <th>1060666</th>\n",
       "      <td>John</td>\n",
       "      <td>M</td>\n",
       "      <td>29854</td>\n",
       "      <td>1989</td>\n",
       "      <td>0.014921</td>\n",
       "    </tr>\n",
       "    <tr>\n",
       "      <th>526322</th>\n",
       "      <td>Donna</td>\n",
       "      <td>F</td>\n",
       "      <td>29852</td>\n",
       "      <td>1956</td>\n",
       "      <td>0.014868</td>\n",
       "    </tr>\n",
       "    <tr>\n",
       "      <th>1110077</th>\n",
       "      <td>Joseph</td>\n",
       "      <td>M</td>\n",
       "      <td>29835</td>\n",
       "      <td>1991</td>\n",
       "      <td>0.014769</td>\n",
       "    </tr>\n",
       "  </tbody>\n",
       "</table>\n",
       "<p>1000 rows × 5 columns</p>\n",
       "</div>"
      ],
      "text/plain": [
       "            name sex  births  year      prop\n",
       "431063     Linda   F   99693  1947  0.056237\n",
       "441434     Linda   F   96215  1948  0.056668\n",
       "437167     James   M   94758  1947  0.051795\n",
       "544672   Michael   M   92785  1957  0.043005\n",
       "437168    Robert   M   91650  1947  0.050096\n",
       "...          ...  ..     ...   ...       ...\n",
       "1060665   Joseph   M   29880  1989  0.014934\n",
       "493371     Karen   F   29857  1953  0.015870\n",
       "1060666     John   M   29854  1989  0.014921\n",
       "526322     Donna   F   29852  1956  0.014868\n",
       "1110077   Joseph   M   29835  1991  0.014769\n",
       "\n",
       "[1000 rows x 5 columns]"
      ]
     },
     "execution_count": 56,
     "metadata": {},
     "output_type": "execute_result"
    }
   ],
   "source": [
    "top1000"
   ]
  },
  {
   "cell_type": "code",
   "execution_count": 65,
   "id": "f38886ec-87b5-4055-a22d-0457b9e4d647",
   "metadata": {},
   "outputs": [],
   "source": [
    "pieces = []\n",
    "for year, group in names.groupby(['year', 'sex']):\n",
    "    pieces.append(group.sort_index(ascending=False)[:1000])\n",
    "    top1000 = pd.concat(pieces, ignore_index=True)"
   ]
  },
  {
   "cell_type": "code",
   "execution_count": 66,
   "id": "0a8305be-f9f7-4e06-a0de-36e0e78a3256",
   "metadata": {},
   "outputs": [
    {
     "data": {
      "text/html": [
       "<div>\n",
       "<style scoped>\n",
       "    .dataframe tbody tr th:only-of-type {\n",
       "        vertical-align: middle;\n",
       "    }\n",
       "\n",
       "    .dataframe tbody tr th {\n",
       "        vertical-align: top;\n",
       "    }\n",
       "\n",
       "    .dataframe thead th {\n",
       "        text-align: right;\n",
       "    }\n",
       "</style>\n",
       "<table border=\"1\" class=\"dataframe\">\n",
       "  <thead>\n",
       "    <tr style=\"text-align: right;\">\n",
       "      <th></th>\n",
       "      <th>name</th>\n",
       "      <th>sex</th>\n",
       "      <th>births</th>\n",
       "      <th>year</th>\n",
       "      <th>prop</th>\n",
       "    </tr>\n",
       "  </thead>\n",
       "  <tbody>\n",
       "    <tr>\n",
       "      <th>0</th>\n",
       "      <td>Wilma</td>\n",
       "      <td>F</td>\n",
       "      <td>5</td>\n",
       "      <td>1880</td>\n",
       "      <td>0.000055</td>\n",
       "    </tr>\n",
       "    <tr>\n",
       "      <th>1</th>\n",
       "      <td>Vertie</td>\n",
       "      <td>F</td>\n",
       "      <td>5</td>\n",
       "      <td>1880</td>\n",
       "      <td>0.000055</td>\n",
       "    </tr>\n",
       "    <tr>\n",
       "      <th>2</th>\n",
       "      <td>Verona</td>\n",
       "      <td>F</td>\n",
       "      <td>5</td>\n",
       "      <td>1880</td>\n",
       "      <td>0.000055</td>\n",
       "    </tr>\n",
       "    <tr>\n",
       "      <th>3</th>\n",
       "      <td>Vannie</td>\n",
       "      <td>F</td>\n",
       "      <td>5</td>\n",
       "      <td>1880</td>\n",
       "      <td>0.000055</td>\n",
       "    </tr>\n",
       "    <tr>\n",
       "      <th>4</th>\n",
       "      <td>Ula</td>\n",
       "      <td>F</td>\n",
       "      <td>5</td>\n",
       "      <td>1880</td>\n",
       "      <td>0.000055</td>\n",
       "    </tr>\n",
       "    <tr>\n",
       "      <th>...</th>\n",
       "      <td>...</td>\n",
       "      <td>...</td>\n",
       "      <td>...</td>\n",
       "      <td>...</td>\n",
       "      <td>...</td>\n",
       "    </tr>\n",
       "    <tr>\n",
       "      <th>285871</th>\n",
       "      <td>Kaynin</td>\n",
       "      <td>M</td>\n",
       "      <td>5</td>\n",
       "      <td>2022</td>\n",
       "      <td>0.000003</td>\n",
       "    </tr>\n",
       "    <tr>\n",
       "      <th>285872</th>\n",
       "      <td>Kaymon</td>\n",
       "      <td>M</td>\n",
       "      <td>5</td>\n",
       "      <td>2022</td>\n",
       "      <td>0.000003</td>\n",
       "    </tr>\n",
       "    <tr>\n",
       "      <th>285873</th>\n",
       "      <td>Kaymari</td>\n",
       "      <td>M</td>\n",
       "      <td>5</td>\n",
       "      <td>2022</td>\n",
       "      <td>0.000003</td>\n",
       "    </tr>\n",
       "    <tr>\n",
       "      <th>285874</th>\n",
       "      <td>Kaylyn</td>\n",
       "      <td>M</td>\n",
       "      <td>5</td>\n",
       "      <td>2022</td>\n",
       "      <td>0.000003</td>\n",
       "    </tr>\n",
       "    <tr>\n",
       "      <th>285875</th>\n",
       "      <td>Kayl</td>\n",
       "      <td>M</td>\n",
       "      <td>5</td>\n",
       "      <td>2022</td>\n",
       "      <td>0.000003</td>\n",
       "    </tr>\n",
       "  </tbody>\n",
       "</table>\n",
       "<p>285876 rows × 5 columns</p>\n",
       "</div>"
      ],
      "text/plain": [
       "           name sex  births  year      prop\n",
       "0         Wilma   F       5  1880  0.000055\n",
       "1        Vertie   F       5  1880  0.000055\n",
       "2        Verona   F       5  1880  0.000055\n",
       "3        Vannie   F       5  1880  0.000055\n",
       "4           Ula   F       5  1880  0.000055\n",
       "...         ...  ..     ...   ...       ...\n",
       "285871   Kaynin   M       5  2022  0.000003\n",
       "285872   Kaymon   M       5  2022  0.000003\n",
       "285873  Kaymari   M       5  2022  0.000003\n",
       "285874   Kaylyn   M       5  2022  0.000003\n",
       "285875     Kayl   M       5  2022  0.000003\n",
       "\n",
       "[285876 rows x 5 columns]"
      ]
     },
     "execution_count": 66,
     "metadata": {},
     "output_type": "execute_result"
    }
   ],
   "source": [
    "top1000"
   ]
  },
  {
   "cell_type": "markdown",
   "id": "51a3a1de-d4f7-4556-80eb-5d85e4f1daf6",
   "metadata": {},
   "source": [
    "# Analyzing Naming Trends"
   ]
  },
  {
   "cell_type": "code",
   "execution_count": 67,
   "id": "6e62bcea-8acd-4374-a86f-9fd87a58906c",
   "metadata": {},
   "outputs": [],
   "source": [
    "boys = top1000[top1000.sex == 'M']"
   ]
  },
  {
   "cell_type": "code",
   "execution_count": 68,
   "id": "bea571b5-145e-4b21-9bd7-1b0370efb15f",
   "metadata": {},
   "outputs": [],
   "source": [
    "girls = top1000[top1000.sex == 'F']"
   ]
  },
  {
   "cell_type": "code",
   "execution_count": 69,
   "id": "20090ae4-be23-4ef0-92b9-a90ac6372802",
   "metadata": {},
   "outputs": [],
   "source": [
    "total_births = top1000.pivot_table('births', index='year', columns='name', aggfunc=sum)"
   ]
  },
  {
   "cell_type": "code",
   "execution_count": 70,
   "id": "adb6cc64-9e14-47f5-81cf-b3ed3374cf3c",
   "metadata": {},
   "outputs": [
    {
     "data": {
      "text/html": [
       "<div>\n",
       "<style scoped>\n",
       "    .dataframe tbody tr th:only-of-type {\n",
       "        vertical-align: middle;\n",
       "    }\n",
       "\n",
       "    .dataframe tbody tr th {\n",
       "        vertical-align: top;\n",
       "    }\n",
       "\n",
       "    .dataframe thead th {\n",
       "        text-align: right;\n",
       "    }\n",
       "</style>\n",
       "<table border=\"1\" class=\"dataframe\">\n",
       "  <thead>\n",
       "    <tr style=\"text-align: right;\">\n",
       "      <th>name</th>\n",
       "      <th>Aagot</th>\n",
       "      <th>Aalon</th>\n",
       "      <th>Aaran</th>\n",
       "      <th>Aaraon</th>\n",
       "      <th>Aaric</th>\n",
       "      <th>Aarin</th>\n",
       "      <th>Aarne</th>\n",
       "      <th>Aaron</th>\n",
       "      <th>Aaronlee</th>\n",
       "      <th>Aarron</th>\n",
       "      <th>...</th>\n",
       "      <th>Zysean</th>\n",
       "      <th>Zyshaun</th>\n",
       "      <th>Zyshawn</th>\n",
       "      <th>Zyshon</th>\n",
       "      <th>Zytaevius</th>\n",
       "      <th>Zytavion</th>\n",
       "      <th>Zytavious</th>\n",
       "      <th>Zyus</th>\n",
       "      <th>Zyvion</th>\n",
       "      <th>Zzyzx</th>\n",
       "    </tr>\n",
       "    <tr>\n",
       "      <th>year</th>\n",
       "      <th></th>\n",
       "      <th></th>\n",
       "      <th></th>\n",
       "      <th></th>\n",
       "      <th></th>\n",
       "      <th></th>\n",
       "      <th></th>\n",
       "      <th></th>\n",
       "      <th></th>\n",
       "      <th></th>\n",
       "      <th></th>\n",
       "      <th></th>\n",
       "      <th></th>\n",
       "      <th></th>\n",
       "      <th></th>\n",
       "      <th></th>\n",
       "      <th></th>\n",
       "      <th></th>\n",
       "      <th></th>\n",
       "      <th></th>\n",
       "      <th></th>\n",
       "    </tr>\n",
       "  </thead>\n",
       "  <tbody>\n",
       "    <tr>\n",
       "      <th>1880</th>\n",
       "      <td>NaN</td>\n",
       "      <td>NaN</td>\n",
       "      <td>NaN</td>\n",
       "      <td>NaN</td>\n",
       "      <td>NaN</td>\n",
       "      <td>NaN</td>\n",
       "      <td>NaN</td>\n",
       "      <td>102.0</td>\n",
       "      <td>NaN</td>\n",
       "      <td>NaN</td>\n",
       "      <td>...</td>\n",
       "      <td>NaN</td>\n",
       "      <td>NaN</td>\n",
       "      <td>NaN</td>\n",
       "      <td>NaN</td>\n",
       "      <td>NaN</td>\n",
       "      <td>NaN</td>\n",
       "      <td>NaN</td>\n",
       "      <td>NaN</td>\n",
       "      <td>NaN</td>\n",
       "      <td>NaN</td>\n",
       "    </tr>\n",
       "    <tr>\n",
       "      <th>1881</th>\n",
       "      <td>NaN</td>\n",
       "      <td>NaN</td>\n",
       "      <td>NaN</td>\n",
       "      <td>NaN</td>\n",
       "      <td>NaN</td>\n",
       "      <td>NaN</td>\n",
       "      <td>NaN</td>\n",
       "      <td>94.0</td>\n",
       "      <td>NaN</td>\n",
       "      <td>NaN</td>\n",
       "      <td>...</td>\n",
       "      <td>NaN</td>\n",
       "      <td>NaN</td>\n",
       "      <td>NaN</td>\n",
       "      <td>NaN</td>\n",
       "      <td>NaN</td>\n",
       "      <td>NaN</td>\n",
       "      <td>NaN</td>\n",
       "      <td>NaN</td>\n",
       "      <td>NaN</td>\n",
       "      <td>NaN</td>\n",
       "    </tr>\n",
       "    <tr>\n",
       "      <th>1882</th>\n",
       "      <td>NaN</td>\n",
       "      <td>NaN</td>\n",
       "      <td>NaN</td>\n",
       "      <td>NaN</td>\n",
       "      <td>NaN</td>\n",
       "      <td>NaN</td>\n",
       "      <td>NaN</td>\n",
       "      <td>85.0</td>\n",
       "      <td>NaN</td>\n",
       "      <td>NaN</td>\n",
       "      <td>...</td>\n",
       "      <td>NaN</td>\n",
       "      <td>NaN</td>\n",
       "      <td>NaN</td>\n",
       "      <td>NaN</td>\n",
       "      <td>NaN</td>\n",
       "      <td>NaN</td>\n",
       "      <td>NaN</td>\n",
       "      <td>NaN</td>\n",
       "      <td>NaN</td>\n",
       "      <td>NaN</td>\n",
       "    </tr>\n",
       "    <tr>\n",
       "      <th>1883</th>\n",
       "      <td>NaN</td>\n",
       "      <td>NaN</td>\n",
       "      <td>NaN</td>\n",
       "      <td>NaN</td>\n",
       "      <td>NaN</td>\n",
       "      <td>NaN</td>\n",
       "      <td>NaN</td>\n",
       "      <td>105.0</td>\n",
       "      <td>NaN</td>\n",
       "      <td>NaN</td>\n",
       "      <td>...</td>\n",
       "      <td>NaN</td>\n",
       "      <td>NaN</td>\n",
       "      <td>NaN</td>\n",
       "      <td>NaN</td>\n",
       "      <td>NaN</td>\n",
       "      <td>NaN</td>\n",
       "      <td>NaN</td>\n",
       "      <td>NaN</td>\n",
       "      <td>NaN</td>\n",
       "      <td>NaN</td>\n",
       "    </tr>\n",
       "    <tr>\n",
       "      <th>1884</th>\n",
       "      <td>NaN</td>\n",
       "      <td>NaN</td>\n",
       "      <td>NaN</td>\n",
       "      <td>NaN</td>\n",
       "      <td>NaN</td>\n",
       "      <td>NaN</td>\n",
       "      <td>NaN</td>\n",
       "      <td>97.0</td>\n",
       "      <td>NaN</td>\n",
       "      <td>NaN</td>\n",
       "      <td>...</td>\n",
       "      <td>NaN</td>\n",
       "      <td>NaN</td>\n",
       "      <td>NaN</td>\n",
       "      <td>NaN</td>\n",
       "      <td>NaN</td>\n",
       "      <td>NaN</td>\n",
       "      <td>NaN</td>\n",
       "      <td>NaN</td>\n",
       "      <td>NaN</td>\n",
       "      <td>NaN</td>\n",
       "    </tr>\n",
       "    <tr>\n",
       "      <th>...</th>\n",
       "      <td>...</td>\n",
       "      <td>...</td>\n",
       "      <td>...</td>\n",
       "      <td>...</td>\n",
       "      <td>...</td>\n",
       "      <td>...</td>\n",
       "      <td>...</td>\n",
       "      <td>...</td>\n",
       "      <td>...</td>\n",
       "      <td>...</td>\n",
       "      <td>...</td>\n",
       "      <td>...</td>\n",
       "      <td>...</td>\n",
       "      <td>...</td>\n",
       "      <td>...</td>\n",
       "      <td>...</td>\n",
       "      <td>...</td>\n",
       "      <td>...</td>\n",
       "      <td>...</td>\n",
       "      <td>...</td>\n",
       "      <td>...</td>\n",
       "    </tr>\n",
       "    <tr>\n",
       "      <th>2018</th>\n",
       "      <td>NaN</td>\n",
       "      <td>NaN</td>\n",
       "      <td>NaN</td>\n",
       "      <td>NaN</td>\n",
       "      <td>NaN</td>\n",
       "      <td>NaN</td>\n",
       "      <td>NaN</td>\n",
       "      <td>NaN</td>\n",
       "      <td>NaN</td>\n",
       "      <td>NaN</td>\n",
       "      <td>...</td>\n",
       "      <td>NaN</td>\n",
       "      <td>NaN</td>\n",
       "      <td>NaN</td>\n",
       "      <td>NaN</td>\n",
       "      <td>NaN</td>\n",
       "      <td>NaN</td>\n",
       "      <td>NaN</td>\n",
       "      <td>NaN</td>\n",
       "      <td>NaN</td>\n",
       "      <td>5.0</td>\n",
       "    </tr>\n",
       "    <tr>\n",
       "      <th>2019</th>\n",
       "      <td>NaN</td>\n",
       "      <td>NaN</td>\n",
       "      <td>NaN</td>\n",
       "      <td>NaN</td>\n",
       "      <td>NaN</td>\n",
       "      <td>NaN</td>\n",
       "      <td>NaN</td>\n",
       "      <td>NaN</td>\n",
       "      <td>NaN</td>\n",
       "      <td>NaN</td>\n",
       "      <td>...</td>\n",
       "      <td>NaN</td>\n",
       "      <td>NaN</td>\n",
       "      <td>NaN</td>\n",
       "      <td>NaN</td>\n",
       "      <td>NaN</td>\n",
       "      <td>NaN</td>\n",
       "      <td>NaN</td>\n",
       "      <td>NaN</td>\n",
       "      <td>NaN</td>\n",
       "      <td>NaN</td>\n",
       "    </tr>\n",
       "    <tr>\n",
       "      <th>2020</th>\n",
       "      <td>NaN</td>\n",
       "      <td>NaN</td>\n",
       "      <td>NaN</td>\n",
       "      <td>NaN</td>\n",
       "      <td>NaN</td>\n",
       "      <td>NaN</td>\n",
       "      <td>NaN</td>\n",
       "      <td>NaN</td>\n",
       "      <td>NaN</td>\n",
       "      <td>NaN</td>\n",
       "      <td>...</td>\n",
       "      <td>NaN</td>\n",
       "      <td>NaN</td>\n",
       "      <td>NaN</td>\n",
       "      <td>NaN</td>\n",
       "      <td>NaN</td>\n",
       "      <td>NaN</td>\n",
       "      <td>NaN</td>\n",
       "      <td>NaN</td>\n",
       "      <td>NaN</td>\n",
       "      <td>NaN</td>\n",
       "    </tr>\n",
       "    <tr>\n",
       "      <th>2021</th>\n",
       "      <td>NaN</td>\n",
       "      <td>NaN</td>\n",
       "      <td>NaN</td>\n",
       "      <td>NaN</td>\n",
       "      <td>NaN</td>\n",
       "      <td>NaN</td>\n",
       "      <td>NaN</td>\n",
       "      <td>NaN</td>\n",
       "      <td>NaN</td>\n",
       "      <td>NaN</td>\n",
       "      <td>...</td>\n",
       "      <td>NaN</td>\n",
       "      <td>NaN</td>\n",
       "      <td>NaN</td>\n",
       "      <td>NaN</td>\n",
       "      <td>NaN</td>\n",
       "      <td>NaN</td>\n",
       "      <td>NaN</td>\n",
       "      <td>NaN</td>\n",
       "      <td>NaN</td>\n",
       "      <td>NaN</td>\n",
       "    </tr>\n",
       "    <tr>\n",
       "      <th>2022</th>\n",
       "      <td>NaN</td>\n",
       "      <td>NaN</td>\n",
       "      <td>NaN</td>\n",
       "      <td>NaN</td>\n",
       "      <td>NaN</td>\n",
       "      <td>NaN</td>\n",
       "      <td>NaN</td>\n",
       "      <td>NaN</td>\n",
       "      <td>NaN</td>\n",
       "      <td>NaN</td>\n",
       "      <td>...</td>\n",
       "      <td>NaN</td>\n",
       "      <td>NaN</td>\n",
       "      <td>NaN</td>\n",
       "      <td>NaN</td>\n",
       "      <td>NaN</td>\n",
       "      <td>NaN</td>\n",
       "      <td>NaN</td>\n",
       "      <td>NaN</td>\n",
       "      <td>NaN</td>\n",
       "      <td>NaN</td>\n",
       "    </tr>\n",
       "  </tbody>\n",
       "</table>\n",
       "<p>143 rows × 60120 columns</p>\n",
       "</div>"
      ],
      "text/plain": [
       "name  Aagot  Aalon  Aaran  Aaraon  Aaric  Aarin  Aarne  Aaron  Aaronlee  \\\n",
       "year                                                                      \n",
       "1880    NaN    NaN    NaN     NaN    NaN    NaN    NaN  102.0       NaN   \n",
       "1881    NaN    NaN    NaN     NaN    NaN    NaN    NaN   94.0       NaN   \n",
       "1882    NaN    NaN    NaN     NaN    NaN    NaN    NaN   85.0       NaN   \n",
       "1883    NaN    NaN    NaN     NaN    NaN    NaN    NaN  105.0       NaN   \n",
       "1884    NaN    NaN    NaN     NaN    NaN    NaN    NaN   97.0       NaN   \n",
       "...     ...    ...    ...     ...    ...    ...    ...    ...       ...   \n",
       "2018    NaN    NaN    NaN     NaN    NaN    NaN    NaN    NaN       NaN   \n",
       "2019    NaN    NaN    NaN     NaN    NaN    NaN    NaN    NaN       NaN   \n",
       "2020    NaN    NaN    NaN     NaN    NaN    NaN    NaN    NaN       NaN   \n",
       "2021    NaN    NaN    NaN     NaN    NaN    NaN    NaN    NaN       NaN   \n",
       "2022    NaN    NaN    NaN     NaN    NaN    NaN    NaN    NaN       NaN   \n",
       "\n",
       "name  Aarron  ...  Zysean  Zyshaun  Zyshawn  Zyshon  Zytaevius  Zytavion  \\\n",
       "year          ...                                                          \n",
       "1880     NaN  ...     NaN      NaN      NaN     NaN        NaN       NaN   \n",
       "1881     NaN  ...     NaN      NaN      NaN     NaN        NaN       NaN   \n",
       "1882     NaN  ...     NaN      NaN      NaN     NaN        NaN       NaN   \n",
       "1883     NaN  ...     NaN      NaN      NaN     NaN        NaN       NaN   \n",
       "1884     NaN  ...     NaN      NaN      NaN     NaN        NaN       NaN   \n",
       "...      ...  ...     ...      ...      ...     ...        ...       ...   \n",
       "2018     NaN  ...     NaN      NaN      NaN     NaN        NaN       NaN   \n",
       "2019     NaN  ...     NaN      NaN      NaN     NaN        NaN       NaN   \n",
       "2020     NaN  ...     NaN      NaN      NaN     NaN        NaN       NaN   \n",
       "2021     NaN  ...     NaN      NaN      NaN     NaN        NaN       NaN   \n",
       "2022     NaN  ...     NaN      NaN      NaN     NaN        NaN       NaN   \n",
       "\n",
       "name  Zytavious  Zyus  Zyvion  Zzyzx  \n",
       "year                                  \n",
       "1880        NaN   NaN     NaN    NaN  \n",
       "1881        NaN   NaN     NaN    NaN  \n",
       "1882        NaN   NaN     NaN    NaN  \n",
       "1883        NaN   NaN     NaN    NaN  \n",
       "1884        NaN   NaN     NaN    NaN  \n",
       "...         ...   ...     ...    ...  \n",
       "2018        NaN   NaN     NaN    5.0  \n",
       "2019        NaN   NaN     NaN    NaN  \n",
       "2020        NaN   NaN     NaN    NaN  \n",
       "2021        NaN   NaN     NaN    NaN  \n",
       "2022        NaN   NaN     NaN    NaN  \n",
       "\n",
       "[143 rows x 60120 columns]"
      ]
     },
     "execution_count": 70,
     "metadata": {},
     "output_type": "execute_result"
    }
   ],
   "source": [
    "total_births"
   ]
  },
  {
   "cell_type": "code",
   "execution_count": 71,
   "id": "f170283f-6213-4f01-94bc-5161d25b3822",
   "metadata": {},
   "outputs": [],
   "source": [
    "subset = total_births[['Wilma','Aarne','Mary','Marilyn']]"
   ]
  },
  {
   "cell_type": "code",
   "execution_count": 72,
   "id": "184c96a9-33b6-4626-b74d-abe8239bb15f",
   "metadata": {},
   "outputs": [
    {
     "data": {
      "text/plain": [
       "array([<Axes: xlabel='year'>, <Axes: xlabel='year'>,\n",
       "       <Axes: xlabel='year'>, <Axes: xlabel='year'>], dtype=object)"
      ]
     },
     "execution_count": 72,
     "metadata": {},
     "output_type": "execute_result"
    },
    {
     "data": {
      "image/png": "[encoded data removed]",
      "text/plain": [
       "<Figure size 1200x1000 with 4 Axes>"
      ]
     },
     "metadata": {},
     "output_type": "display_data"
    }
   ],
   "source": [
    "subset.plot(subplots=True, figsize=(12, 10), grid=False, title=\"Number of births per year\")"
   ]
  },
  {
   "cell_type": "code",
   "execution_count": 73,
   "id": "b34dc272-3ed9-48c6-aede-c43fe41b2868",
   "metadata": {},
   "outputs": [],
   "source": [
    "subsetw = total_births[['Wayne']]"
   ]
  },
  {
   "cell_type": "code",
   "execution_count": 74,
   "id": "e0443bd2-c536-49c6-a009-3662c72a8987",
   "metadata": {},
   "outputs": [
    {
     "data": {
      "text/plain": [
       "<Axes: title={'center': 'Wayne'}, xlabel='year'>"
      ]
     },
     "execution_count": 74,
     "metadata": {},
     "output_type": "execute_result"
    },
    {
     "data": {
      "image/png": "[encoded data removed]",
      "text/plain": [
       "<Figure size 640x480 with 1 Axes>"
      ]
     },
     "metadata": {},
     "output_type": "display_data"
    }
   ],
   "source": [
    "subsetw.plot(title='Wayne')"
   ]
  },
  {
   "cell_type": "code",
   "execution_count": 75,
   "id": "b4e00596-5cc3-40f6-8c75-0f85339bc59b",
   "metadata": {},
   "outputs": [],
   "source": [
    "table = top1000.pivot_table('prop', index='year', columns='sex', aggfunc=sum)"
   ]
  },
  {
   "cell_type": "code",
   "execution_count": 76,
   "id": "b03838d4-2330-4953-8c16-9c2db99ed5c2",
   "metadata": {},
   "outputs": [
    {
     "data": {
      "text/plain": [
       "<Axes: title={'center': 'Sum of table1000.prop by year and sex'}, xlabel='year'>"
      ]
     },
     "execution_count": 76,
     "metadata": {},
     "output_type": "execute_result"
    },
    {
     "data": {
      "image/png": "[encoded data removed]",
      "text/plain": [
       "<Figure size 640x480 with 1 Axes>"
      ]
     },
     "metadata": {},
     "output_type": "display_data"
    }
   ],
   "source": [
    "table.plot(title='Sum of table1000.prop by year and sex', yticks=np.linspace(0, 1.2, 13), xticks=range(1880, 2022, 10))"
   ]
  },
  {
   "cell_type": "code",
   "execution_count": 77,
   "id": "70795ca9-9109-48bc-8b9e-32b519494a5c",
   "metadata": {},
   "outputs": [],
   "source": [
    "df = boys[boys.year == 2022]"
   ]
  },
  {
   "cell_type": "code",
   "execution_count": 78,
   "id": "e77820f8-5148-4da0-9d36-4f45cb9bbea1",
   "metadata": {},
   "outputs": [
    {
     "data": {
      "text/html": [
       "<div>\n",
       "<style scoped>\n",
       "    .dataframe tbody tr th:only-of-type {\n",
       "        vertical-align: middle;\n",
       "    }\n",
       "\n",
       "    .dataframe tbody tr th {\n",
       "        vertical-align: top;\n",
       "    }\n",
       "\n",
       "    .dataframe thead th {\n",
       "        text-align: right;\n",
       "    }\n",
       "</style>\n",
       "<table border=\"1\" class=\"dataframe\">\n",
       "  <thead>\n",
       "    <tr style=\"text-align: right;\">\n",
       "      <th></th>\n",
       "      <th>name</th>\n",
       "      <th>sex</th>\n",
       "      <th>births</th>\n",
       "      <th>year</th>\n",
       "      <th>prop</th>\n",
       "    </tr>\n",
       "  </thead>\n",
       "  <tbody>\n",
       "    <tr>\n",
       "      <th>284876</th>\n",
       "      <td>Zymeire</td>\n",
       "      <td>M</td>\n",
       "      <td>5</td>\n",
       "      <td>2022</td>\n",
       "      <td>0.000003</td>\n",
       "    </tr>\n",
       "    <tr>\n",
       "      <th>284877</th>\n",
       "      <td>Zymeer</td>\n",
       "      <td>M</td>\n",
       "      <td>5</td>\n",
       "      <td>2022</td>\n",
       "      <td>0.000003</td>\n",
       "    </tr>\n",
       "    <tr>\n",
       "      <th>284878</th>\n",
       "      <td>Zylon</td>\n",
       "      <td>M</td>\n",
       "      <td>5</td>\n",
       "      <td>2022</td>\n",
       "      <td>0.000003</td>\n",
       "    </tr>\n",
       "    <tr>\n",
       "      <th>284879</th>\n",
       "      <td>Zydn</td>\n",
       "      <td>M</td>\n",
       "      <td>5</td>\n",
       "      <td>2022</td>\n",
       "      <td>0.000003</td>\n",
       "    </tr>\n",
       "    <tr>\n",
       "      <th>284880</th>\n",
       "      <td>Zuberi</td>\n",
       "      <td>M</td>\n",
       "      <td>5</td>\n",
       "      <td>2022</td>\n",
       "      <td>0.000003</td>\n",
       "    </tr>\n",
       "    <tr>\n",
       "      <th>...</th>\n",
       "      <td>...</td>\n",
       "      <td>...</td>\n",
       "      <td>...</td>\n",
       "      <td>...</td>\n",
       "      <td>...</td>\n",
       "    </tr>\n",
       "    <tr>\n",
       "      <th>285871</th>\n",
       "      <td>Kaynin</td>\n",
       "      <td>M</td>\n",
       "      <td>5</td>\n",
       "      <td>2022</td>\n",
       "      <td>0.000003</td>\n",
       "    </tr>\n",
       "    <tr>\n",
       "      <th>285872</th>\n",
       "      <td>Kaymon</td>\n",
       "      <td>M</td>\n",
       "      <td>5</td>\n",
       "      <td>2022</td>\n",
       "      <td>0.000003</td>\n",
       "    </tr>\n",
       "    <tr>\n",
       "      <th>285873</th>\n",
       "      <td>Kaymari</td>\n",
       "      <td>M</td>\n",
       "      <td>5</td>\n",
       "      <td>2022</td>\n",
       "      <td>0.000003</td>\n",
       "    </tr>\n",
       "    <tr>\n",
       "      <th>285874</th>\n",
       "      <td>Kaylyn</td>\n",
       "      <td>M</td>\n",
       "      <td>5</td>\n",
       "      <td>2022</td>\n",
       "      <td>0.000003</td>\n",
       "    </tr>\n",
       "    <tr>\n",
       "      <th>285875</th>\n",
       "      <td>Kayl</td>\n",
       "      <td>M</td>\n",
       "      <td>5</td>\n",
       "      <td>2022</td>\n",
       "      <td>0.000003</td>\n",
       "    </tr>\n",
       "  </tbody>\n",
       "</table>\n",
       "<p>1000 rows × 5 columns</p>\n",
       "</div>"
      ],
      "text/plain": [
       "           name sex  births  year      prop\n",
       "284876  Zymeire   M       5  2022  0.000003\n",
       "284877   Zymeer   M       5  2022  0.000003\n",
       "284878    Zylon   M       5  2022  0.000003\n",
       "284879     Zydn   M       5  2022  0.000003\n",
       "284880   Zuberi   M       5  2022  0.000003\n",
       "...         ...  ..     ...   ...       ...\n",
       "285871   Kaynin   M       5  2022  0.000003\n",
       "285872   Kaymon   M       5  2022  0.000003\n",
       "285873  Kaymari   M       5  2022  0.000003\n",
       "285874   Kaylyn   M       5  2022  0.000003\n",
       "285875     Kayl   M       5  2022  0.000003\n",
       "\n",
       "[1000 rows x 5 columns]"
      ]
     },
     "execution_count": 78,
     "metadata": {},
     "output_type": "execute_result"
    }
   ],
   "source": [
    "df"
   ]
  },
  {
   "cell_type": "code",
   "execution_count": 80,
   "id": "51233974-42f3-4dc0-b729-e09648e7c539",
   "metadata": {},
   "outputs": [],
   "source": [
    "prop_cumsum = df.sort_index(ascending=False).prop.cumsum()"
   ]
  },
  {
   "cell_type": "code",
   "execution_count": 81,
   "id": "de82142b-b437-4219-a786-25766a9e0373",
   "metadata": {},
   "outputs": [
    {
     "data": {
      "text/plain": [
       "285875    0.000003\n",
       "285874    0.000006\n",
       "285873    0.000009\n",
       "285872    0.000012\n",
       "285871    0.000014\n",
       "285870    0.000017\n",
       "285869    0.000020\n",
       "285868    0.000023\n",
       "285867    0.000026\n",
       "285866    0.000029\n",
       "Name: prop, dtype: float64"
      ]
     },
     "execution_count": 81,
     "metadata": {},
     "output_type": "execute_result"
    }
   ],
   "source": [
    "prop_cumsum[:10]"
   ]
  },
  {
   "cell_type": "code",
   "execution_count": 82,
   "id": "2b241edd-5874-485e-9a45-0f7d6bcb2f4c",
   "metadata": {},
   "outputs": [
    {
     "data": {
      "text/plain": [
       "1000"
      ]
     },
     "execution_count": 82,
     "metadata": {},
     "output_type": "execute_result"
    }
   ],
   "source": [
    "prop_cumsum.searchsorted(0.5)"
   ]
  },
  {
   "cell_type": "code",
   "execution_count": 83,
   "id": "39e4c9bc-83e5-44b5-b203-fdc4e9558f78",
   "metadata": {},
   "outputs": [],
   "source": [
    "df = boys[boys.year == 1900]"
   ]
  },
  {
   "cell_type": "code",
   "execution_count": 84,
   "id": "7d7af831-b5d3-4482-8b8a-d49f2919b996",
   "metadata": {},
   "outputs": [],
   "source": [
    "in1900 = df.sort_index(ascending=False).prop.cumsum()"
   ]
  },
  {
   "cell_type": "code",
   "execution_count": 85,
   "id": "021942dc-2ca1-4ce7-802d-2a5493e6aa5c",
   "metadata": {},
   "outputs": [
    {
     "data": {
      "text/plain": [
       "1001"
      ]
     },
     "execution_count": 85,
     "metadata": {},
     "output_type": "execute_result"
    }
   ],
   "source": [
    "in1900.searchsorted(0.5) + 1"
   ]
  },
  {
   "cell_type": "code",
   "execution_count": 87,
   "id": "82d0001c-7abb-4e2f-927d-83e1b1cbed34",
   "metadata": {},
   "outputs": [],
   "source": [
    "def get_quantile_count(group, q=0.5):\n",
    "    group = group.sort_index(ascending=False)\n",
    "    return group.prop.cumsum().searchsorted(q) + 1"
   ]
  },
  {
   "cell_type": "code",
   "execution_count": 88,
   "id": "727ad9cd-ea55-49e4-8c8a-dbdc96f074ee",
   "metadata": {},
   "outputs": [],
   "source": [
    "diversity = top1000.groupby(['year', 'sex']).apply(get_quantile_count)\n",
    "diversity = diversity.unstack('sex')"
   ]
  },
  {
   "cell_type": "code",
   "execution_count": 89,
   "id": "ea95681f-426e-4ba7-8814-ad3590d20006",
   "metadata": {},
   "outputs": [
    {
     "data": {
      "text/html": [
       "<div>\n",
       "<style scoped>\n",
       "    .dataframe tbody tr th:only-of-type {\n",
       "        vertical-align: middle;\n",
       "    }\n",
       "\n",
       "    .dataframe tbody tr th {\n",
       "        vertical-align: top;\n",
       "    }\n",
       "\n",
       "    .dataframe thead th {\n",
       "        text-align: right;\n",
       "    }\n",
       "</style>\n",
       "<table border=\"1\" class=\"dataframe\">\n",
       "  <thead>\n",
       "    <tr style=\"text-align: right;\">\n",
       "      <th>sex</th>\n",
       "      <th>F</th>\n",
       "      <th>M</th>\n",
       "    </tr>\n",
       "    <tr>\n",
       "      <th>year</th>\n",
       "      <th></th>\n",
       "      <th></th>\n",
       "    </tr>\n",
       "  </thead>\n",
       "  <tbody>\n",
       "    <tr>\n",
       "      <th>1880</th>\n",
       "      <td>38</td>\n",
       "      <td>1001</td>\n",
       "    </tr>\n",
       "    <tr>\n",
       "      <th>1881</th>\n",
       "      <td>38</td>\n",
       "      <td>14</td>\n",
       "    </tr>\n",
       "    <tr>\n",
       "      <th>1882</th>\n",
       "      <td>289</td>\n",
       "      <td>1001</td>\n",
       "    </tr>\n",
       "    <tr>\n",
       "      <th>1883</th>\n",
       "      <td>1001</td>\n",
       "      <td>1001</td>\n",
       "    </tr>\n",
       "    <tr>\n",
       "      <th>1884</th>\n",
       "      <td>1001</td>\n",
       "      <td>1001</td>\n",
       "    </tr>\n",
       "  </tbody>\n",
       "</table>\n",
       "</div>"
      ],
      "text/plain": [
       "sex      F     M\n",
       "year            \n",
       "1880    38  1001\n",
       "1881    38    14\n",
       "1882   289  1001\n",
       "1883  1001  1001\n",
       "1884  1001  1001"
      ]
     },
     "execution_count": 89,
     "metadata": {},
     "output_type": "execute_result"
    }
   ],
   "source": [
    "diversity.head()"
   ]
  },
  {
   "cell_type": "code",
   "execution_count": 90,
   "id": "c2d8431d-5218-40f2-acf1-fe7bcb03c487",
   "metadata": {},
   "outputs": [
    {
     "data": {
      "text/plain": [
       "<Axes: title={'center': 'Number of popular names in top 50%'}, xlabel='year'>"
      ]
     },
     "execution_count": 90,
     "metadata": {},
     "output_type": "execute_result"
    },
    {
     "data": {
      "image/png": "[encoded data removed]",
      "text/plain": [
       "<Figure size 640x480 with 1 Axes>"
      ]
     },
     "metadata": {},
     "output_type": "display_data"
    }
   ],
   "source": [
    "diversity.plot(title=\"Number of popular names in top 50%\")"
   ]
  },
  {
   "cell_type": "markdown",
   "id": "f2f906fe-559d-4edc-ac5e-1548dd0fb8ce",
   "metadata": {},
   "source": [
    "# The “Last letter” Revolution"
   ]
  },
  {
   "cell_type": "code",
   "execution_count": 91,
   "id": "b8c2557f-66d0-4bb1-bc55-8e16b2401357",
   "metadata": {},
   "outputs": [],
   "source": [
    "# extract last letter from name column\n",
    "get_last_letter = lambda x: x[-1]\n",
    "last_letters = names.name.map(get_last_letter)\n",
    "last_letters.name = 'last_letter'"
   ]
  },
  {
   "cell_type": "code",
   "execution_count": 92,
   "id": "9f68c763-50ac-432c-a331-1ef606f8c62f",
   "metadata": {},
   "outputs": [],
   "source": [
    "table = names.pivot_table('births', index=last_letters, columns=['sex', 'year'], aggfunc=sum)"
   ]
  },
  {
   "cell_type": "code",
   "execution_count": 93,
   "id": "786dd451-acfc-46fa-814d-eea07a812e25",
   "metadata": {},
   "outputs": [],
   "source": [
    "subtable = table.reindex(columns=[1910, 1960, 2010], level='year')"
   ]
  },
  {
   "cell_type": "code",
   "execution_count": 94,
   "id": "eb2781c4-ad9b-459b-abe0-468c56a85804",
   "metadata": {},
   "outputs": [
    {
     "data": {
      "text/html": [
       "<div>\n",
       "<style scoped>\n",
       "    .dataframe tbody tr th:only-of-type {\n",
       "        vertical-align: middle;\n",
       "    }\n",
       "\n",
       "    .dataframe tbody tr th {\n",
       "        vertical-align: top;\n",
       "    }\n",
       "\n",
       "    .dataframe thead tr th {\n",
       "        text-align: left;\n",
       "    }\n",
       "\n",
       "    .dataframe thead tr:last-of-type th {\n",
       "        text-align: right;\n",
       "    }\n",
       "</style>\n",
       "<table border=\"1\" class=\"dataframe\">\n",
       "  <thead>\n",
       "    <tr>\n",
       "      <th>sex</th>\n",
       "      <th colspan=\"3\" halign=\"left\">F</th>\n",
       "      <th colspan=\"3\" halign=\"left\">M</th>\n",
       "    </tr>\n",
       "    <tr>\n",
       "      <th>year</th>\n",
       "      <th>1910</th>\n",
       "      <th>1960</th>\n",
       "      <th>2010</th>\n",
       "      <th>1910</th>\n",
       "      <th>1960</th>\n",
       "      <th>2010</th>\n",
       "    </tr>\n",
       "    <tr>\n",
       "      <th>last_letter</th>\n",
       "      <th></th>\n",
       "      <th></th>\n",
       "      <th></th>\n",
       "      <th></th>\n",
       "      <th></th>\n",
       "      <th></th>\n",
       "    </tr>\n",
       "  </thead>\n",
       "  <tbody>\n",
       "    <tr>\n",
       "      <th>a</th>\n",
       "      <td>108399.0</td>\n",
       "      <td>691323.0</td>\n",
       "      <td>677323.0</td>\n",
       "      <td>977.0</td>\n",
       "      <td>5217.0</td>\n",
       "      <td>28896.0</td>\n",
       "    </tr>\n",
       "    <tr>\n",
       "      <th>b</th>\n",
       "      <td>NaN</td>\n",
       "      <td>694.0</td>\n",
       "      <td>455.0</td>\n",
       "      <td>411.0</td>\n",
       "      <td>3911.0</td>\n",
       "      <td>39304.0</td>\n",
       "    </tr>\n",
       "    <tr>\n",
       "      <th>c</th>\n",
       "      <td>5.0</td>\n",
       "      <td>49.0</td>\n",
       "      <td>958.0</td>\n",
       "      <td>482.0</td>\n",
       "      <td>15458.0</td>\n",
       "      <td>23364.0</td>\n",
       "    </tr>\n",
       "    <tr>\n",
       "      <th>d</th>\n",
       "      <td>6751.0</td>\n",
       "      <td>3731.0</td>\n",
       "      <td>2645.0</td>\n",
       "      <td>22112.0</td>\n",
       "      <td>262131.0</td>\n",
       "      <td>44864.0</td>\n",
       "    </tr>\n",
       "    <tr>\n",
       "      <th>e</th>\n",
       "      <td>133599.0</td>\n",
       "      <td>435008.0</td>\n",
       "      <td>317005.0</td>\n",
       "      <td>28665.0</td>\n",
       "      <td>178762.0</td>\n",
       "      <td>130348.0</td>\n",
       "    </tr>\n",
       "  </tbody>\n",
       "</table>\n",
       "</div>"
      ],
      "text/plain": [
       "sex                 F                            M                    \n",
       "year             1910      1960      2010     1910      1960      2010\n",
       "last_letter                                                           \n",
       "a            108399.0  691323.0  677323.0    977.0    5217.0   28896.0\n",
       "b                 NaN     694.0     455.0    411.0    3911.0   39304.0\n",
       "c                 5.0      49.0     958.0    482.0   15458.0   23364.0\n",
       "d              6751.0    3731.0    2645.0  22112.0  262131.0   44864.0\n",
       "e            133599.0  435008.0  317005.0  28665.0  178762.0  130348.0"
      ]
     },
     "execution_count": 94,
     "metadata": {},
     "output_type": "execute_result"
    }
   ],
   "source": [
    "subtable.head()"
   ]
  },
  {
   "cell_type": "code",
   "execution_count": 95,
   "id": "bbae0ca7-913d-4b2e-a561-9359b125afba",
   "metadata": {},
   "outputs": [
    {
     "data": {
      "text/plain": [
       "sex  year\n",
       "F    1910     396503.0\n",
       "     1960    2022061.0\n",
       "     2010    1776636.0\n",
       "M    1910     194209.0\n",
       "     1960    2132230.0\n",
       "     2010    1917792.0\n",
       "dtype: float64"
      ]
     },
     "execution_count": 95,
     "metadata": {},
     "output_type": "execute_result"
    }
   ],
   "source": [
    "subtable.sum()"
   ]
  },
  {
   "cell_type": "code",
   "execution_count": 96,
   "id": "9ecc133c-938e-4819-a821-b978d3501e75",
   "metadata": {},
   "outputs": [],
   "source": [
    "letter_prop = subtable / subtable.sum().astype(float)"
   ]
  },
  {
   "cell_type": "code",
   "execution_count": 97,
   "id": "fa3878d8-d974-4f34-81d2-5924aa434895",
   "metadata": {},
   "outputs": [],
   "source": [
    "import matplotlib.pyplot as plt"
   ]
  },
  {
   "cell_type": "code",
   "execution_count": 98,
   "id": "2890de34-a0f1-4d74-86b6-b4f2f92e6ca3",
   "metadata": {},
   "outputs": [
    {
     "data": {
      "text/plain": [
       "<Axes: title={'center': 'Female'}, xlabel='last_letter'>"
      ]
     },
     "execution_count": 98,
     "metadata": {},
     "output_type": "execute_result"
    },
    {
     "data": {
      "image/png": "[encoded data removed]",
      "text/plain": [
       "<Figure size 1000x800 with 2 Axes>"
      ]
     },
     "metadata": {},
     "output_type": "display_data"
    }
   ],
   "source": [
    "fig, axes = plt.subplots(2, 1, figsize=(10, 8))\n",
    "letter_prop['M'].plot(kind='bar', rot=0, ax=axes[0], title='Male')\n",
    "letter_prop['F'].plot(kind='bar', rot=0, ax=axes[1], title='Female',\n",
    "legend=False)"
   ]
  },
  {
   "cell_type": "code",
   "execution_count": 99,
   "id": "946517a2-01a3-4145-8c9a-7430883ec5cf",
   "metadata": {},
   "outputs": [],
   "source": [
    "letter_prop = table / table.sum().astype(float)"
   ]
  },
  {
   "cell_type": "code",
   "execution_count": 105,
   "id": "743b7fd3-be32-4505-b1ac-800f916795f3",
   "metadata": {},
   "outputs": [],
   "source": [
    "dny_ts = letter_prop.loc[['d', 'n', 'y'], 'M'].T"
   ]
  },
  {
   "cell_type": "code",
   "execution_count": 106,
   "id": "741de003-addc-4b3a-a10d-be68c9faf8a3",
   "metadata": {},
   "outputs": [
    {
     "data": {
      "text/html": [
       "<div>\n",
       "<style scoped>\n",
       "    .dataframe tbody tr th:only-of-type {\n",
       "        vertical-align: middle;\n",
       "    }\n",
       "\n",
       "    .dataframe tbody tr th {\n",
       "        vertical-align: top;\n",
       "    }\n",
       "\n",
       "    .dataframe thead th {\n",
       "        text-align: right;\n",
       "    }\n",
       "</style>\n",
       "<table border=\"1\" class=\"dataframe\">\n",
       "  <thead>\n",
       "    <tr style=\"text-align: right;\">\n",
       "      <th>last_letter</th>\n",
       "      <th>d</th>\n",
       "      <th>n</th>\n",
       "      <th>y</th>\n",
       "    </tr>\n",
       "    <tr>\n",
       "      <th>year</th>\n",
       "      <th></th>\n",
       "      <th></th>\n",
       "      <th></th>\n",
       "    </tr>\n",
       "  </thead>\n",
       "  <tbody>\n",
       "    <tr>\n",
       "      <th>1880</th>\n",
       "      <td>0.083057</td>\n",
       "      <td>0.153217</td>\n",
       "      <td>0.075763</td>\n",
       "    </tr>\n",
       "    <tr>\n",
       "      <th>1881</th>\n",
       "      <td>0.083246</td>\n",
       "      <td>0.153221</td>\n",
       "      <td>0.077459</td>\n",
       "    </tr>\n",
       "    <tr>\n",
       "      <th>1882</th>\n",
       "      <td>0.085332</td>\n",
       "      <td>0.149561</td>\n",
       "      <td>0.077538</td>\n",
       "    </tr>\n",
       "    <tr>\n",
       "      <th>1883</th>\n",
       "      <td>0.084053</td>\n",
       "      <td>0.151656</td>\n",
       "      <td>0.079149</td>\n",
       "    </tr>\n",
       "    <tr>\n",
       "      <th>1884</th>\n",
       "      <td>0.086122</td>\n",
       "      <td>0.149927</td>\n",
       "      <td>0.080408</td>\n",
       "    </tr>\n",
       "  </tbody>\n",
       "</table>\n",
       "</div>"
      ],
      "text/plain": [
       "last_letter         d         n         y\n",
       "year                                     \n",
       "1880         0.083057  0.153217  0.075763\n",
       "1881         0.083246  0.153221  0.077459\n",
       "1882         0.085332  0.149561  0.077538\n",
       "1883         0.084053  0.151656  0.079149\n",
       "1884         0.086122  0.149927  0.080408"
      ]
     },
     "execution_count": 106,
     "metadata": {},
     "output_type": "execute_result"
    }
   ],
   "source": [
    "dny_ts.head()"
   ]
  },
  {
   "cell_type": "code",
   "execution_count": 107,
   "id": "924a48cc-1b12-444b-878d-5c61aeed2670",
   "metadata": {},
   "outputs": [
    {
     "data": {
      "text/plain": [
       "<Axes: xlabel='year'>"
      ]
     },
     "execution_count": 107,
     "metadata": {},
     "output_type": "execute_result"
    },
    {
     "data": {
      "image/png": "[encoded data removed]",
      "text/plain": [
       "<Figure size 640x480 with 1 Axes>"
      ]
     },
     "metadata": {},
     "output_type": "display_data"
    }
   ],
   "source": [
    "dny_ts.plot()"
   ]
  },
  {
   "cell_type": "markdown",
   "id": "52f149a7-8ff4-4eff-8ee7-227eb0c4fb97",
   "metadata": {},
   "source": [
    "#### Boy names that became girl names (and vice versa)"
   ]
  },
  {
   "cell_type": "code",
   "execution_count": 108,
   "id": "01a542ba-5970-4217-8bed-aeb999cd19e6",
   "metadata": {},
   "outputs": [],
   "source": [
    "all_names = top1000.name.unique()"
   ]
  },
  {
   "cell_type": "code",
   "execution_count": 109,
   "id": "cfc45818-d19c-41bc-ba7f-22754122f5c3",
   "metadata": {},
   "outputs": [],
   "source": [
    "mask = np.array(['lesl' in x.lower() for x in all_names])"
   ]
  },
  {
   "cell_type": "code",
   "execution_count": 110,
   "id": "c5ca7222-ff12-4b90-826d-c891244356d4",
   "metadata": {},
   "outputs": [],
   "source": [
    "lesley_like = all_names[mask]"
   ]
  },
  {
   "cell_type": "code",
   "execution_count": 111,
   "id": "537e3365-9aec-46dd-9451-1fad960099ba",
   "metadata": {},
   "outputs": [
    {
     "data": {
      "text/plain": [
       "array(['Leslie', 'Lesley', 'Boleslaw', 'Boleslaus', 'Lesly', 'Leslye',\n",
       "       'Wellesley', 'Leslee', 'Leslyn', 'Lesle', 'Leslieann', 'Lesleyann',\n",
       "       'Lesleyanne', 'Leslianne', 'Leslea', 'Leslieanne', 'Leslian'],\n",
       "      dtype=object)"
      ]
     },
     "execution_count": 111,
     "metadata": {},
     "output_type": "execute_result"
    }
   ],
   "source": [
    "lesley_like"
   ]
  },
  {
   "cell_type": "code",
   "execution_count": 112,
   "id": "3e60c7ac-764c-4ad0-adcd-159ab95bf1ad",
   "metadata": {},
   "outputs": [],
   "source": [
    "filtered = top1000[top1000.name.isin(lesley_like)]"
   ]
  },
  {
   "cell_type": "code",
   "execution_count": 113,
   "id": "e1fbb5c4-c36c-4f1f-a85c-7453f4da9c38",
   "metadata": {},
   "outputs": [
    {
     "data": {
      "text/plain": [
       "name\n",
       "Boleslaus      20\n",
       "Boleslaw        5\n",
       "Lesle          15\n",
       "Leslea          5\n",
       "Leslee         71\n",
       "Lesley        161\n",
       "Lesleyann      40\n",
       "Lesleyanne     20\n",
       "Leslian         5\n",
       "Leslianne      10\n",
       "Leslie        983\n",
       "Leslieann      20\n",
       "Leslieanne      5\n",
       "Lesly         113\n",
       "Leslye         26\n",
       "Leslyn         40\n",
       "Wellesley      21\n",
       "Name: births, dtype: int64"
      ]
     },
     "execution_count": 113,
     "metadata": {},
     "output_type": "execute_result"
    }
   ],
   "source": [
    "filtered.groupby('name').births.sum()"
   ]
  },
  {
   "cell_type": "code",
   "execution_count": 114,
   "id": "70220a4b-5e0a-4de9-a5b8-219f92e5dcb3",
   "metadata": {},
   "outputs": [],
   "source": [
    "table = filtered.pivot_table('births', index='year', columns='sex', aggfunc='sum')"
   ]
  },
  {
   "cell_type": "code",
   "execution_count": 115,
   "id": "9f40cf8b-9dab-4613-9b34-1908043ba21c",
   "metadata": {},
   "outputs": [],
   "source": [
    "table = table.div(table.sum(1), axis=0)"
   ]
  },
  {
   "cell_type": "code",
   "execution_count": 116,
   "id": "1601dde0-850d-41e8-ab40-7c04be41b667",
   "metadata": {},
   "outputs": [
    {
     "data": {
      "text/html": [
       "<div>\n",
       "<style scoped>\n",
       "    .dataframe tbody tr th:only-of-type {\n",
       "        vertical-align: middle;\n",
       "    }\n",
       "\n",
       "    .dataframe tbody tr th {\n",
       "        vertical-align: top;\n",
       "    }\n",
       "\n",
       "    .dataframe thead th {\n",
       "        text-align: right;\n",
       "    }\n",
       "</style>\n",
       "<table border=\"1\" class=\"dataframe\">\n",
       "  <thead>\n",
       "    <tr style=\"text-align: right;\">\n",
       "      <th>sex</th>\n",
       "      <th>F</th>\n",
       "      <th>M</th>\n",
       "    </tr>\n",
       "    <tr>\n",
       "      <th>year</th>\n",
       "      <th></th>\n",
       "      <th></th>\n",
       "    </tr>\n",
       "  </thead>\n",
       "  <tbody>\n",
       "    <tr>\n",
       "      <th>2008</th>\n",
       "      <td>NaN</td>\n",
       "      <td>1.0</td>\n",
       "    </tr>\n",
       "    <tr>\n",
       "      <th>2012</th>\n",
       "      <td>NaN</td>\n",
       "      <td>1.0</td>\n",
       "    </tr>\n",
       "    <tr>\n",
       "      <th>2017</th>\n",
       "      <td>1.0</td>\n",
       "      <td>NaN</td>\n",
       "    </tr>\n",
       "    <tr>\n",
       "      <th>2018</th>\n",
       "      <td>NaN</td>\n",
       "      <td>1.0</td>\n",
       "    </tr>\n",
       "    <tr>\n",
       "      <th>2020</th>\n",
       "      <td>1.0</td>\n",
       "      <td>NaN</td>\n",
       "    </tr>\n",
       "  </tbody>\n",
       "</table>\n",
       "</div>"
      ],
      "text/plain": [
       "sex     F    M\n",
       "year          \n",
       "2008  NaN  1.0\n",
       "2012  NaN  1.0\n",
       "2017  1.0  NaN\n",
       "2018  NaN  1.0\n",
       "2020  1.0  NaN"
      ]
     },
     "execution_count": 116,
     "metadata": {},
     "output_type": "execute_result"
    }
   ],
   "source": [
    "table.tail()"
   ]
  },
  {
   "cell_type": "code",
   "execution_count": 117,
   "id": "61b826ce-b10b-4922-8f97-4a0d4ce413af",
   "metadata": {},
   "outputs": [
    {
     "data": {
      "text/plain": [
       "<Axes: xlabel='year'>"
      ]
     },
     "execution_count": 117,
     "metadata": {},
     "output_type": "execute_result"
    },
    {
     "data": {
      "image/png": "[encoded data removed]",
      "text/plain": [
       "<Figure size 640x480 with 1 Axes>"
      ]
     },
     "metadata": {},
     "output_type": "display_data"
    }
   ],
   "source": [
    "table.plot(style={'M': 'k-', 'F': 'k--'})"
   ]
  },
  {
   "cell_type": "code",
   "execution_count": null,
   "id": "e013581f-bcab-4291-8848-aa187f25ef1d",
   "metadata": {},
   "outputs": [],
   "source": []
  }
 ],
 "metadata": {
  "kernelspec": {
   "display_name": "DataScience",
   "language": "python",
   "name": "datascience"
  },
  "language_info": {
   "codemirror_mode": {
    "name": "ipython",
    "version": 3
   },
   "file_extension": ".py",
   "mimetype": "text/x-python",
   "name": "python",
   "nbconvert_exporter": "python",
   "pygments_lexer": "ipython3",
   "version": "3.11.4"
  }
 },
 "nbformat": 4,
 "nbformat_minor": 5
}
