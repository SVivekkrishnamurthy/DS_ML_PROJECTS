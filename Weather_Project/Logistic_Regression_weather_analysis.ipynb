{
 "cells": [
  {
   "cell_type": "code",
   "execution_count": 727,
   "metadata": {},
   "outputs": [],
   "source": [
    "# Import library\n",
    "import pandas  as pd #Data manipulation\n",
    "import numpy as np #Data manipulation\n",
    "import matplotlib.pyplot as plt # Visualization\n",
    "import seaborn as sns #Visualization\n",
    "plt.rcParams['figure.figsize'] = [8,5]\n",
    "plt.rcParams['font.size'] =14\n",
    "plt.rcParams['font.weight']= 'bold'\n",
    "sns.set_style('whitegrid')"
   ]
  },
  {
   "cell_type": "code",
   "execution_count": 728,
   "metadata": {},
   "outputs": [
    {
     "name": "stdout",
     "output_type": "stream",
     "text": [
      "\n",
      "Number of rows and columns in the data set:  (14001, 21)\n",
      "\n"
     ]
    },
    {
     "data": {
      "text/html": [
       "<div>\n",
       "<style scoped>\n",
       "    .dataframe tbody tr th:only-of-type {\n",
       "        vertical-align: middle;\n",
       "    }\n",
       "\n",
       "    .dataframe tbody tr th {\n",
       "        vertical-align: top;\n",
       "    }\n",
       "\n",
       "    .dataframe thead th {\n",
       "        text-align: right;\n",
       "    }\n",
       "</style>\n",
       "<table border=\"1\" class=\"dataframe\">\n",
       "  <thead>\n",
       "    <tr style=\"text-align: right;\">\n",
       "      <th></th>\n",
       "      <th>SEASON</th>\n",
       "      <th>BASIN</th>\n",
       "      <th>SUBBASIN</th>\n",
       "      <th>NAME</th>\n",
       "      <th>ISO_TIME</th>\n",
       "      <th>LAT</th>\n",
       "      <th>LON</th>\n",
       "      <th>DIST2LAND</th>\n",
       "      <th>LANDFALL</th>\n",
       "      <th>WMO_WIND</th>\n",
       "      <th>...</th>\n",
       "      <th>NEWDELHI_WIND</th>\n",
       "      <th>NEWDELHI_PRES</th>\n",
       "      <th>NEWDELHI_DP</th>\n",
       "      <th>NEWDELHI_GRADE</th>\n",
       "      <th>REUNION_TYPE</th>\n",
       "      <th>REUNION_WIND</th>\n",
       "      <th>REUNION_PRES</th>\n",
       "      <th>REUNION_RMW</th>\n",
       "      <th>STORM_SPEED</th>\n",
       "      <th>STORM_DIR</th>\n",
       "    </tr>\n",
       "  </thead>\n",
       "  <tbody>\n",
       "    <tr>\n",
       "      <th>0</th>\n",
       "      <td>2015</td>\n",
       "      <td>NI</td>\n",
       "      <td>AS</td>\n",
       "      <td>ASHOBAA</td>\n",
       "      <td>2015-06-06 06:00:00</td>\n",
       "      <td>13.10</td>\n",
       "      <td>68.5000</td>\n",
       "      <td>624</td>\n",
       "      <td>601.0</td>\n",
       "      <td>41.300746</td>\n",
       "      <td>...</td>\n",
       "      <td>40.558118</td>\n",
       "      <td>991.873412</td>\n",
       "      <td>991.873412</td>\n",
       "      <td>CS</td>\n",
       "      <td>UNK</td>\n",
       "      <td>43.471802</td>\n",
       "      <td>989.403054</td>\n",
       "      <td>21.626368</td>\n",
       "      <td>7</td>\n",
       "      <td>8</td>\n",
       "    </tr>\n",
       "    <tr>\n",
       "      <th>1</th>\n",
       "      <td>2015</td>\n",
       "      <td>NI</td>\n",
       "      <td>AS</td>\n",
       "      <td>ASHOBAA</td>\n",
       "      <td>2015-06-06 09:00:00</td>\n",
       "      <td>13.45</td>\n",
       "      <td>68.5599</td>\n",
       "      <td>597</td>\n",
       "      <td>584.0</td>\n",
       "      <td>41.300746</td>\n",
       "      <td>...</td>\n",
       "      <td>40.558118</td>\n",
       "      <td>991.873412</td>\n",
       "      <td>991.873412</td>\n",
       "      <td>CS</td>\n",
       "      <td>UNK</td>\n",
       "      <td>43.471802</td>\n",
       "      <td>989.403054</td>\n",
       "      <td>21.626368</td>\n",
       "      <td>7</td>\n",
       "      <td>8</td>\n",
       "    </tr>\n",
       "    <tr>\n",
       "      <th>2</th>\n",
       "      <td>2015</td>\n",
       "      <td>NI</td>\n",
       "      <td>AS</td>\n",
       "      <td>ASHOBAA</td>\n",
       "      <td>2015-06-06 12:00:00</td>\n",
       "      <td>13.80</td>\n",
       "      <td>68.6000</td>\n",
       "      <td>584</td>\n",
       "      <td>571.0</td>\n",
       "      <td>41.300746</td>\n",
       "      <td>...</td>\n",
       "      <td>40.558118</td>\n",
       "      <td>991.873412</td>\n",
       "      <td>991.873412</td>\n",
       "      <td>CS</td>\n",
       "      <td>UNK</td>\n",
       "      <td>43.471802</td>\n",
       "      <td>989.403054</td>\n",
       "      <td>21.626368</td>\n",
       "      <td>7</td>\n",
       "      <td>3</td>\n",
       "    </tr>\n",
       "    <tr>\n",
       "      <th>3</th>\n",
       "      <td>2015</td>\n",
       "      <td>NI</td>\n",
       "      <td>AS</td>\n",
       "      <td>ASHOBAA</td>\n",
       "      <td>2015-06-06 15:00:00</td>\n",
       "      <td>14.15</td>\n",
       "      <td>68.6075</td>\n",
       "      <td>566</td>\n",
       "      <td>551.0</td>\n",
       "      <td>41.300746</td>\n",
       "      <td>...</td>\n",
       "      <td>40.558118</td>\n",
       "      <td>991.873412</td>\n",
       "      <td>991.873412</td>\n",
       "      <td>CS</td>\n",
       "      <td>UNK</td>\n",
       "      <td>43.471802</td>\n",
       "      <td>989.403054</td>\n",
       "      <td>21.626368</td>\n",
       "      <td>7</td>\n",
       "      <td>0</td>\n",
       "    </tr>\n",
       "    <tr>\n",
       "      <th>4</th>\n",
       "      <td>2015</td>\n",
       "      <td>NI</td>\n",
       "      <td>AS</td>\n",
       "      <td>ASHOBAA</td>\n",
       "      <td>2015-06-06 18:00:00</td>\n",
       "      <td>14.50</td>\n",
       "      <td>68.6000</td>\n",
       "      <td>551</td>\n",
       "      <td>538.0</td>\n",
       "      <td>41.300746</td>\n",
       "      <td>...</td>\n",
       "      <td>40.558118</td>\n",
       "      <td>991.873412</td>\n",
       "      <td>991.873412</td>\n",
       "      <td>CS</td>\n",
       "      <td>UNK</td>\n",
       "      <td>43.471802</td>\n",
       "      <td>989.403054</td>\n",
       "      <td>21.626368</td>\n",
       "      <td>7</td>\n",
       "      <td>358</td>\n",
       "    </tr>\n",
       "  </tbody>\n",
       "</table>\n",
       "<p>5 rows × 21 columns</p>\n",
       "</div>"
      ],
      "text/plain": [
       "   SEASON BASIN SUBBASIN     NAME             ISO_TIME    LAT      LON  \\\n",
       "0    2015    NI       AS  ASHOBAA  2015-06-06 06:00:00  13.10  68.5000   \n",
       "1    2015    NI       AS  ASHOBAA  2015-06-06 09:00:00  13.45  68.5599   \n",
       "2    2015    NI       AS  ASHOBAA  2015-06-06 12:00:00  13.80  68.6000   \n",
       "3    2015    NI       AS  ASHOBAA  2015-06-06 15:00:00  14.15  68.6075   \n",
       "4    2015    NI       AS  ASHOBAA  2015-06-06 18:00:00  14.50  68.6000   \n",
       "\n",
       "   DIST2LAND  LANDFALL   WMO_WIND  ...  NEWDELHI_WIND  NEWDELHI_PRES  \\\n",
       "0        624     601.0  41.300746  ...      40.558118     991.873412   \n",
       "1        597     584.0  41.300746  ...      40.558118     991.873412   \n",
       "2        584     571.0  41.300746  ...      40.558118     991.873412   \n",
       "3        566     551.0  41.300746  ...      40.558118     991.873412   \n",
       "4        551     538.0  41.300746  ...      40.558118     991.873412   \n",
       "\n",
       "   NEWDELHI_DP  NEWDELHI_GRADE REUNION_TYPE REUNION_WIND  REUNION_PRES  \\\n",
       "0   991.873412              CS          UNK    43.471802    989.403054   \n",
       "1   991.873412              CS          UNK    43.471802    989.403054   \n",
       "2   991.873412              CS          UNK    43.471802    989.403054   \n",
       "3   991.873412              CS          UNK    43.471802    989.403054   \n",
       "4   991.873412              CS          UNK    43.471802    989.403054   \n",
       "\n",
       "   REUNION_RMW  STORM_SPEED  STORM_DIR  \n",
       "0    21.626368            7          8  \n",
       "1    21.626368            7          8  \n",
       "2    21.626368            7          3  \n",
       "3    21.626368            7          0  \n",
       "4    21.626368            7        358  \n",
       "\n",
       "[5 rows x 21 columns]"
      ]
     },
     "execution_count": 728,
     "metadata": {},
     "output_type": "execute_result"
    }
   ],
   "source": [
    "df = pd.read_csv('input/weather.csv')\n",
    "print('\\nNumber of rows and columns in the data set: ',df.shape)\n",
    "print('')\n",
    "\n",
    "#Lets look into top few rows and columns in the dataset\n",
    "df.head()"
   ]
  },
  {
   "cell_type": "code",
   "execution_count": 729,
   "metadata": {},
   "outputs": [],
   "source": [
    "import warnings\n",
    "\n",
    "warnings.filterwarnings('ignore')"
   ]
  },
  {
   "cell_type": "code",
   "execution_count": 730,
   "metadata": {},
   "outputs": [
    {
     "data": {
      "text/plain": [
       "(14001, 21)"
      ]
     },
     "execution_count": 730,
     "metadata": {},
     "output_type": "execute_result"
    }
   ],
   "source": [
    "df.shape"
   ]
  },
  {
   "cell_type": "code",
   "execution_count": 731,
   "metadata": {},
   "outputs": [
    {
     "data": {
      "text/plain": [
       "Index(['SEASON', 'BASIN', 'SUBBASIN', 'NAME', 'ISO_TIME', 'LAT', 'LON',\n",
       "       'DIST2LAND', 'LANDFALL', 'WMO_WIND', 'WMO_PRES', 'NEWDELHI_WIND',\n",
       "       'NEWDELHI_PRES', 'NEWDELHI_DP', 'NEWDELHI_GRADE', 'REUNION_TYPE',\n",
       "       'REUNION_WIND', 'REUNION_PRES', 'REUNION_RMW', 'STORM_SPEED',\n",
       "       'STORM_DIR'],\n",
       "      dtype='object')"
      ]
     },
     "execution_count": 731,
     "metadata": {},
     "output_type": "execute_result"
    }
   ],
   "source": [
    "col_names = df.columns\n",
    "\n",
    "col_names"
   ]
  },
  {
   "cell_type": "code",
   "execution_count": 732,
   "metadata": {},
   "outputs": [
    {
     "name": "stdout",
     "output_type": "stream",
     "text": [
      "There are 6 categorical variables\n",
      "\n",
      "The categorical variables are : ['BASIN', 'SUBBASIN', 'NAME', 'ISO_TIME', 'NEWDELHI_GRADE', 'REUNION_TYPE']\n"
     ]
    }
   ],
   "source": [
    "categorical = [var for var in df.columns if df[var].dtype=='O']\n",
    "\n",
    "print('There are {} categorical variables\\n'.format(len(categorical)))\n",
    "\n",
    "print('The categorical variables are :', categorical)"
   ]
  },
  {
   "cell_type": "code",
   "execution_count": 733,
   "metadata": {},
   "outputs": [
    {
     "data": {
      "text/html": [
       "<div>\n",
       "<style scoped>\n",
       "    .dataframe tbody tr th:only-of-type {\n",
       "        vertical-align: middle;\n",
       "    }\n",
       "\n",
       "    .dataframe tbody tr th {\n",
       "        vertical-align: top;\n",
       "    }\n",
       "\n",
       "    .dataframe thead th {\n",
       "        text-align: right;\n",
       "    }\n",
       "</style>\n",
       "<table border=\"1\" class=\"dataframe\">\n",
       "  <thead>\n",
       "    <tr style=\"text-align: right;\">\n",
       "      <th></th>\n",
       "      <th>BASIN</th>\n",
       "      <th>SUBBASIN</th>\n",
       "      <th>NAME</th>\n",
       "      <th>ISO_TIME</th>\n",
       "      <th>NEWDELHI_GRADE</th>\n",
       "      <th>REUNION_TYPE</th>\n",
       "    </tr>\n",
       "  </thead>\n",
       "  <tbody>\n",
       "    <tr>\n",
       "      <th>0</th>\n",
       "      <td>NI</td>\n",
       "      <td>AS</td>\n",
       "      <td>ASHOBAA</td>\n",
       "      <td>2015-06-06 06:00:00</td>\n",
       "      <td>CS</td>\n",
       "      <td>UNK</td>\n",
       "    </tr>\n",
       "    <tr>\n",
       "      <th>1</th>\n",
       "      <td>NI</td>\n",
       "      <td>AS</td>\n",
       "      <td>ASHOBAA</td>\n",
       "      <td>2015-06-06 09:00:00</td>\n",
       "      <td>CS</td>\n",
       "      <td>UNK</td>\n",
       "    </tr>\n",
       "    <tr>\n",
       "      <th>2</th>\n",
       "      <td>NI</td>\n",
       "      <td>AS</td>\n",
       "      <td>ASHOBAA</td>\n",
       "      <td>2015-06-06 12:00:00</td>\n",
       "      <td>CS</td>\n",
       "      <td>UNK</td>\n",
       "    </tr>\n",
       "    <tr>\n",
       "      <th>3</th>\n",
       "      <td>NI</td>\n",
       "      <td>AS</td>\n",
       "      <td>ASHOBAA</td>\n",
       "      <td>2015-06-06 15:00:00</td>\n",
       "      <td>CS</td>\n",
       "      <td>UNK</td>\n",
       "    </tr>\n",
       "    <tr>\n",
       "      <th>4</th>\n",
       "      <td>NI</td>\n",
       "      <td>AS</td>\n",
       "      <td>ASHOBAA</td>\n",
       "      <td>2015-06-06 18:00:00</td>\n",
       "      <td>CS</td>\n",
       "      <td>UNK</td>\n",
       "    </tr>\n",
       "  </tbody>\n",
       "</table>\n",
       "</div>"
      ],
      "text/plain": [
       "  BASIN SUBBASIN     NAME             ISO_TIME NEWDELHI_GRADE REUNION_TYPE\n",
       "0    NI       AS  ASHOBAA  2015-06-06 06:00:00             CS          UNK\n",
       "1    NI       AS  ASHOBAA  2015-06-06 09:00:00             CS          UNK\n",
       "2    NI       AS  ASHOBAA  2015-06-06 12:00:00             CS          UNK\n",
       "3    NI       AS  ASHOBAA  2015-06-06 15:00:00             CS          UNK\n",
       "4    NI       AS  ASHOBAA  2015-06-06 18:00:00             CS          UNK"
      ]
     },
     "execution_count": 733,
     "metadata": {},
     "output_type": "execute_result"
    }
   ],
   "source": [
    "df[categorical].head()"
   ]
  },
  {
   "cell_type": "code",
   "execution_count": 734,
   "metadata": {},
   "outputs": [
    {
     "data": {
      "text/plain": [
       "BASIN             0\n",
       "SUBBASIN          0\n",
       "NAME              0\n",
       "ISO_TIME          0\n",
       "NEWDELHI_GRADE    0\n",
       "REUNION_TYPE      0\n",
       "dtype: int64"
      ]
     },
     "execution_count": 734,
     "metadata": {},
     "output_type": "execute_result"
    }
   ],
   "source": [
    "# check missing values in categorical variables\n",
    "\n",
    "df[categorical].isnull().sum()"
   ]
  },
  {
   "cell_type": "code",
   "execution_count": 735,
   "metadata": {},
   "outputs": [
    {
     "name": "stdout",
     "output_type": "stream",
     "text": [
      "Series([], dtype: float64)\n"
     ]
    }
   ],
   "source": [
    "cat1 = [var for var in categorical if df[var].isnull().sum()!=0]\n",
    "\n",
    "print(df[cat1].isnull().sum())"
   ]
  },
  {
   "cell_type": "code",
   "execution_count": 736,
   "metadata": {},
   "outputs": [
    {
     "name": "stdout",
     "output_type": "stream",
     "text": [
      "SI    10326\n",
      "NI     2916\n",
      "SP      502\n",
      "WP      257\n",
      "Name: BASIN, dtype: int64\n",
      "MM    6655\n",
      "WA    3942\n",
      "BB    1516\n",
      "AS    1400\n",
      "EA     488\n",
      "Name: SUBBASIN, dtype: int64\n",
      "NOT_NAMED    2013\n",
      "FREDDY        240\n",
      "NATHAN        181\n",
      "CALVINIA      139\n",
      "URIAH         131\n",
      "             ... \n",
      "GREG           15\n",
      "HAMOON         15\n",
      "ASHLEY         13\n",
      "SITRANG        11\n",
      "MIDHILI         7\n",
      "Name: NAME, Length: 174, dtype: int64\n",
      "21-01-2021 09:00    4\n",
      "20-01-2021 00:00    4\n",
      "20-01-2021 03:00    4\n",
      "20-01-2021 12:00    4\n",
      "20-01-2021 15:00    4\n",
      "                   ..\n",
      "11-04-2015 21:00    1\n",
      "12-04-2015 00:00    1\n",
      "12-04-2015 03:00    1\n",
      "12-04-2015 06:00    1\n",
      "22-05-2023 18:00    1\n",
      "Name: ISO_TIME, Length: 10917, dtype: int64\n",
      "CS      12300\n",
      "D         830\n",
      "DD        375\n",
      "VSCS      316\n",
      "SVCS      154\n",
      "SCS        25\n",
      "LPA         1\n",
      "Name: NEWDELHI_GRADE, dtype: int64\n",
      "UNK    8795\n",
      "CS     1459\n",
      "DD      970\n",
      "SCS     816\n",
      "DP      686\n",
      "EXT     591\n",
      "D       405\n",
      "OL      233\n",
      "STC      46\n",
      "Name: REUNION_TYPE, dtype: int64\n"
     ]
    }
   ],
   "source": [
    "for var in categorical: \n",
    "    \n",
    "    print(df[var].value_counts())"
   ]
  },
  {
   "cell_type": "code",
   "execution_count": 737,
   "metadata": {},
   "outputs": [
    {
     "name": "stdout",
     "output_type": "stream",
     "text": [
      "SI    0.737519\n",
      "NI    0.208271\n",
      "SP    0.035855\n",
      "WP    0.018356\n",
      "Name: BASIN, dtype: float64\n",
      "MM    0.475323\n",
      "WA    0.281551\n",
      "BB    0.108278\n",
      "AS    0.099993\n",
      "EA    0.034855\n",
      "Name: SUBBASIN, dtype: float64\n",
      "NOT_NAMED    0.143775\n",
      "FREDDY       0.017142\n",
      "NATHAN       0.012928\n",
      "CALVINIA     0.009928\n",
      "URIAH        0.009356\n",
      "               ...   \n",
      "GREG         0.001071\n",
      "HAMOON       0.001071\n",
      "ASHLEY       0.000929\n",
      "SITRANG      0.000786\n",
      "MIDHILI      0.000500\n",
      "Name: NAME, Length: 174, dtype: float64\n",
      "21-01-2021 09:00    0.000286\n",
      "20-01-2021 00:00    0.000286\n",
      "20-01-2021 03:00    0.000286\n",
      "20-01-2021 12:00    0.000286\n",
      "20-01-2021 15:00    0.000286\n",
      "                      ...   \n",
      "11-04-2015 21:00    0.000071\n",
      "12-04-2015 00:00    0.000071\n",
      "12-04-2015 03:00    0.000071\n",
      "12-04-2015 06:00    0.000071\n",
      "22-05-2023 18:00    0.000071\n",
      "Name: ISO_TIME, Length: 10917, dtype: float64\n",
      "CS      0.878509\n",
      "D       0.059281\n",
      "DD      0.026784\n",
      "VSCS    0.022570\n",
      "SVCS    0.010999\n",
      "SCS     0.001786\n",
      "LPA     0.000071\n",
      "Name: NEWDELHI_GRADE, dtype: float64\n",
      "UNK    0.628169\n",
      "CS     0.104207\n",
      "DD     0.069281\n",
      "SCS    0.058282\n",
      "DP     0.048997\n",
      "EXT    0.042211\n",
      "D      0.028927\n",
      "OL     0.016642\n",
      "STC    0.003285\n",
      "Name: REUNION_TYPE, dtype: float64\n"
     ]
    }
   ],
   "source": [
    "for var in categorical: \n",
    "    \n",
    "    print(df[var].value_counts()/np.float64(len(df)))"
   ]
  },
  {
   "cell_type": "code",
   "execution_count": 738,
   "metadata": {},
   "outputs": [
    {
     "name": "stdout",
     "output_type": "stream",
     "text": [
      "BASIN  contains  4  labels\n",
      "SUBBASIN  contains  5  labels\n",
      "NAME  contains  174  labels\n",
      "ISO_TIME  contains  10917  labels\n",
      "NEWDELHI_GRADE  contains  7  labels\n",
      "REUNION_TYPE  contains  9  labels\n"
     ]
    }
   ],
   "source": [
    "for var in categorical:\n",
    "    \n",
    "    print(var, ' contains ', len(df[var].unique()), ' labels')"
   ]
  },
  {
   "cell_type": "code",
   "execution_count": 739,
   "metadata": {},
   "outputs": [
    {
     "data": {
      "text/plain": [
       "dtype('O')"
      ]
     },
     "execution_count": 739,
     "metadata": {},
     "output_type": "execute_result"
    }
   ],
   "source": [
    "df['ISO_TIME'].dtypes"
   ]
  },
  {
   "cell_type": "code",
   "execution_count": 740,
   "metadata": {},
   "outputs": [],
   "source": [
    "df['ISO_TIME'] = pd.to_datetime(df['ISO_TIME'], errors='coerce')"
   ]
  },
  {
   "cell_type": "code",
   "execution_count": 741,
   "metadata": {},
   "outputs": [
    {
     "data": {
      "text/plain": [
       "0    2015\n",
       "1    2015\n",
       "2    2015\n",
       "3    2015\n",
       "4    2015\n",
       "Name: Year, dtype: int64"
      ]
     },
     "execution_count": 741,
     "metadata": {},
     "output_type": "execute_result"
    }
   ],
   "source": [
    "# extract year from date\n",
    "\n",
    "df['Year'] = df['ISO_TIME'].dt.year\n",
    "\n",
    "df['Year'].head()"
   ]
  },
  {
   "cell_type": "code",
   "execution_count": 742,
   "metadata": {},
   "outputs": [
    {
     "data": {
      "text/plain": [
       "0    2015\n",
       "1    2015\n",
       "2    2015\n",
       "3    2015\n",
       "4    2015\n",
       "Name: Year, dtype: int64"
      ]
     },
     "execution_count": 742,
     "metadata": {},
     "output_type": "execute_result"
    }
   ],
   "source": [
    "df['Year'] = df['ISO_TIME'].dt.year\n",
    "\n",
    "df['Year'].head()"
   ]
  },
  {
   "cell_type": "code",
   "execution_count": 743,
   "metadata": {},
   "outputs": [
    {
     "data": {
      "text/plain": [
       "0    6\n",
       "1    6\n",
       "2    6\n",
       "3    6\n",
       "4    6\n",
       "Name: Month, dtype: int64"
      ]
     },
     "execution_count": 743,
     "metadata": {},
     "output_type": "execute_result"
    }
   ],
   "source": [
    "df['Month'] = df['ISO_TIME'].dt.month\n",
    "\n",
    "df['Month'].head()"
   ]
  },
  {
   "cell_type": "code",
   "execution_count": 744,
   "metadata": {},
   "outputs": [
    {
     "data": {
      "text/plain": [
       "0    6\n",
       "1    6\n",
       "2    6\n",
       "3    6\n",
       "4    6\n",
       "Name: Day, dtype: int64"
      ]
     },
     "execution_count": 744,
     "metadata": {},
     "output_type": "execute_result"
    }
   ],
   "source": [
    "df['Day'] = df['ISO_TIME'].dt.day\n",
    "\n",
    "df['Day'].head()"
   ]
  },
  {
   "cell_type": "code",
   "execution_count": 745,
   "metadata": {},
   "outputs": [
    {
     "name": "stdout",
     "output_type": "stream",
     "text": [
      "<class 'pandas.core.frame.DataFrame'>\n",
      "RangeIndex: 14001 entries, 0 to 14000\n",
      "Data columns (total 24 columns):\n",
      " #   Column          Non-Null Count  Dtype         \n",
      "---  ------          --------------  -----         \n",
      " 0   SEASON          14001 non-null  int64         \n",
      " 1   BASIN           14001 non-null  object        \n",
      " 2   SUBBASIN        14001 non-null  object        \n",
      " 3   NAME            14001 non-null  object        \n",
      " 4   ISO_TIME        14001 non-null  datetime64[ns]\n",
      " 5   LAT             14001 non-null  float64       \n",
      " 6   LON             14001 non-null  float64       \n",
      " 7   DIST2LAND       14001 non-null  int64         \n",
      " 8   LANDFALL        14001 non-null  float64       \n",
      " 9   WMO_WIND        14001 non-null  float64       \n",
      " 10  WMO_PRES        14001 non-null  float64       \n",
      " 11  NEWDELHI_WIND   14001 non-null  float64       \n",
      " 12  NEWDELHI_PRES   14001 non-null  float64       \n",
      " 13  NEWDELHI_DP     14001 non-null  float64       \n",
      " 14  NEWDELHI_GRADE  14001 non-null  object        \n",
      " 15  REUNION_TYPE    14001 non-null  object        \n",
      " 16  REUNION_WIND    14001 non-null  float64       \n",
      " 17  REUNION_PRES    14001 non-null  float64       \n",
      " 18  REUNION_RMW     14001 non-null  float64       \n",
      " 19  STORM_SPEED     14001 non-null  int64         \n",
      " 20  STORM_DIR       14001 non-null  int64         \n",
      " 21  Year            14001 non-null  int64         \n",
      " 22  Month           14001 non-null  int64         \n",
      " 23  Day             14001 non-null  int64         \n",
      "dtypes: datetime64[ns](1), float64(11), int64(7), object(5)\n",
      "memory usage: 2.6+ MB\n"
     ]
    }
   ],
   "source": [
    "df.info()"
   ]
  },
  {
   "cell_type": "code",
   "execution_count": 746,
   "metadata": {},
   "outputs": [],
   "source": [
    "# drop the original Date variable\n",
    "\n",
    "df.drop('ISO_TIME', axis=1, inplace = True)"
   ]
  },
  {
   "cell_type": "code",
   "execution_count": 747,
   "metadata": {},
   "outputs": [
    {
     "data": {
      "text/html": [
       "<div>\n",
       "<style scoped>\n",
       "    .dataframe tbody tr th:only-of-type {\n",
       "        vertical-align: middle;\n",
       "    }\n",
       "\n",
       "    .dataframe tbody tr th {\n",
       "        vertical-align: top;\n",
       "    }\n",
       "\n",
       "    .dataframe thead th {\n",
       "        text-align: right;\n",
       "    }\n",
       "</style>\n",
       "<table border=\"1\" class=\"dataframe\">\n",
       "  <thead>\n",
       "    <tr style=\"text-align: right;\">\n",
       "      <th></th>\n",
       "      <th>SEASON</th>\n",
       "      <th>BASIN</th>\n",
       "      <th>SUBBASIN</th>\n",
       "      <th>NAME</th>\n",
       "      <th>LAT</th>\n",
       "      <th>LON</th>\n",
       "      <th>DIST2LAND</th>\n",
       "      <th>LANDFALL</th>\n",
       "      <th>WMO_WIND</th>\n",
       "      <th>WMO_PRES</th>\n",
       "      <th>...</th>\n",
       "      <th>NEWDELHI_GRADE</th>\n",
       "      <th>REUNION_TYPE</th>\n",
       "      <th>REUNION_WIND</th>\n",
       "      <th>REUNION_PRES</th>\n",
       "      <th>REUNION_RMW</th>\n",
       "      <th>STORM_SPEED</th>\n",
       "      <th>STORM_DIR</th>\n",
       "      <th>Year</th>\n",
       "      <th>Month</th>\n",
       "      <th>Day</th>\n",
       "    </tr>\n",
       "  </thead>\n",
       "  <tbody>\n",
       "    <tr>\n",
       "      <th>0</th>\n",
       "      <td>2015</td>\n",
       "      <td>NI</td>\n",
       "      <td>AS</td>\n",
       "      <td>ASHOBAA</td>\n",
       "      <td>13.10</td>\n",
       "      <td>68.5000</td>\n",
       "      <td>624</td>\n",
       "      <td>601.0</td>\n",
       "      <td>41.300746</td>\n",
       "      <td>991.222042</td>\n",
       "      <td>...</td>\n",
       "      <td>CS</td>\n",
       "      <td>UNK</td>\n",
       "      <td>43.471802</td>\n",
       "      <td>989.403054</td>\n",
       "      <td>21.626368</td>\n",
       "      <td>7</td>\n",
       "      <td>8</td>\n",
       "      <td>2015</td>\n",
       "      <td>6</td>\n",
       "      <td>6</td>\n",
       "    </tr>\n",
       "    <tr>\n",
       "      <th>1</th>\n",
       "      <td>2015</td>\n",
       "      <td>NI</td>\n",
       "      <td>AS</td>\n",
       "      <td>ASHOBAA</td>\n",
       "      <td>13.45</td>\n",
       "      <td>68.5599</td>\n",
       "      <td>597</td>\n",
       "      <td>584.0</td>\n",
       "      <td>41.300746</td>\n",
       "      <td>991.222042</td>\n",
       "      <td>...</td>\n",
       "      <td>CS</td>\n",
       "      <td>UNK</td>\n",
       "      <td>43.471802</td>\n",
       "      <td>989.403054</td>\n",
       "      <td>21.626368</td>\n",
       "      <td>7</td>\n",
       "      <td>8</td>\n",
       "      <td>2015</td>\n",
       "      <td>6</td>\n",
       "      <td>6</td>\n",
       "    </tr>\n",
       "    <tr>\n",
       "      <th>2</th>\n",
       "      <td>2015</td>\n",
       "      <td>NI</td>\n",
       "      <td>AS</td>\n",
       "      <td>ASHOBAA</td>\n",
       "      <td>13.80</td>\n",
       "      <td>68.6000</td>\n",
       "      <td>584</td>\n",
       "      <td>571.0</td>\n",
       "      <td>41.300746</td>\n",
       "      <td>991.222042</td>\n",
       "      <td>...</td>\n",
       "      <td>CS</td>\n",
       "      <td>UNK</td>\n",
       "      <td>43.471802</td>\n",
       "      <td>989.403054</td>\n",
       "      <td>21.626368</td>\n",
       "      <td>7</td>\n",
       "      <td>3</td>\n",
       "      <td>2015</td>\n",
       "      <td>6</td>\n",
       "      <td>6</td>\n",
       "    </tr>\n",
       "    <tr>\n",
       "      <th>3</th>\n",
       "      <td>2015</td>\n",
       "      <td>NI</td>\n",
       "      <td>AS</td>\n",
       "      <td>ASHOBAA</td>\n",
       "      <td>14.15</td>\n",
       "      <td>68.6075</td>\n",
       "      <td>566</td>\n",
       "      <td>551.0</td>\n",
       "      <td>41.300746</td>\n",
       "      <td>991.222042</td>\n",
       "      <td>...</td>\n",
       "      <td>CS</td>\n",
       "      <td>UNK</td>\n",
       "      <td>43.471802</td>\n",
       "      <td>989.403054</td>\n",
       "      <td>21.626368</td>\n",
       "      <td>7</td>\n",
       "      <td>0</td>\n",
       "      <td>2015</td>\n",
       "      <td>6</td>\n",
       "      <td>6</td>\n",
       "    </tr>\n",
       "    <tr>\n",
       "      <th>4</th>\n",
       "      <td>2015</td>\n",
       "      <td>NI</td>\n",
       "      <td>AS</td>\n",
       "      <td>ASHOBAA</td>\n",
       "      <td>14.50</td>\n",
       "      <td>68.6000</td>\n",
       "      <td>551</td>\n",
       "      <td>538.0</td>\n",
       "      <td>41.300746</td>\n",
       "      <td>991.222042</td>\n",
       "      <td>...</td>\n",
       "      <td>CS</td>\n",
       "      <td>UNK</td>\n",
       "      <td>43.471802</td>\n",
       "      <td>989.403054</td>\n",
       "      <td>21.626368</td>\n",
       "      <td>7</td>\n",
       "      <td>358</td>\n",
       "      <td>2015</td>\n",
       "      <td>6</td>\n",
       "      <td>6</td>\n",
       "    </tr>\n",
       "  </tbody>\n",
       "</table>\n",
       "<p>5 rows × 23 columns</p>\n",
       "</div>"
      ],
      "text/plain": [
       "   SEASON BASIN SUBBASIN     NAME    LAT      LON  DIST2LAND  LANDFALL  \\\n",
       "0    2015    NI       AS  ASHOBAA  13.10  68.5000        624     601.0   \n",
       "1    2015    NI       AS  ASHOBAA  13.45  68.5599        597     584.0   \n",
       "2    2015    NI       AS  ASHOBAA  13.80  68.6000        584     571.0   \n",
       "3    2015    NI       AS  ASHOBAA  14.15  68.6075        566     551.0   \n",
       "4    2015    NI       AS  ASHOBAA  14.50  68.6000        551     538.0   \n",
       "\n",
       "    WMO_WIND    WMO_PRES  ...  NEWDELHI_GRADE  REUNION_TYPE  REUNION_WIND  \\\n",
       "0  41.300746  991.222042  ...              CS           UNK     43.471802   \n",
       "1  41.300746  991.222042  ...              CS           UNK     43.471802   \n",
       "2  41.300746  991.222042  ...              CS           UNK     43.471802   \n",
       "3  41.300746  991.222042  ...              CS           UNK     43.471802   \n",
       "4  41.300746  991.222042  ...              CS           UNK     43.471802   \n",
       "\n",
       "  REUNION_PRES REUNION_RMW  STORM_SPEED  STORM_DIR  Year  Month  Day  \n",
       "0   989.403054   21.626368            7          8  2015      6    6  \n",
       "1   989.403054   21.626368            7          8  2015      6    6  \n",
       "2   989.403054   21.626368            7          3  2015      6    6  \n",
       "3   989.403054   21.626368            7          0  2015      6    6  \n",
       "4   989.403054   21.626368            7        358  2015      6    6  \n",
       "\n",
       "[5 rows x 23 columns]"
      ]
     },
     "execution_count": 747,
     "metadata": {},
     "output_type": "execute_result"
    }
   ],
   "source": [
    "df.head()"
   ]
  },
  {
   "cell_type": "code",
   "execution_count": 748,
   "metadata": {},
   "outputs": [
    {
     "name": "stdout",
     "output_type": "stream",
     "text": [
      "There are 5 categorical variables\n",
      "\n",
      "The categorical variables are : ['BASIN', 'SUBBASIN', 'NAME', 'NEWDELHI_GRADE', 'REUNION_TYPE']\n"
     ]
    }
   ],
   "source": [
    "# find categorical variables\n",
    "\n",
    "categorical = [var for var in df.columns if df[var].dtype=='O']\n",
    "\n",
    "print('There are {} categorical variables\\n'.format(len(categorical)))\n",
    "\n",
    "print('The categorical variables are :', categorical)"
   ]
  },
  {
   "cell_type": "code",
   "execution_count": 749,
   "metadata": {},
   "outputs": [
    {
     "data": {
      "text/plain": [
       "BASIN             0\n",
       "SUBBASIN          0\n",
       "NAME              0\n",
       "NEWDELHI_GRADE    0\n",
       "REUNION_TYPE      0\n",
       "dtype: int64"
      ]
     },
     "execution_count": 749,
     "metadata": {},
     "output_type": "execute_result"
    }
   ],
   "source": [
    "# check for missing values in categorical variables \n",
    "\n",
    "df[categorical].isnull().sum()"
   ]
  },
  {
   "cell_type": "code",
   "execution_count": 750,
   "metadata": {},
   "outputs": [
    {
     "name": "stdout",
     "output_type": "stream",
     "text": [
      "Cyclone Names 174 labels\n"
     ]
    }
   ],
   "source": [
    "# print number of labels in Location variable\n",
    "\n",
    "print('Cyclone Names', len(df.NAME.unique()), 'labels')"
   ]
  },
  {
   "cell_type": "code",
   "execution_count": 751,
   "metadata": {},
   "outputs": [
    {
     "data": {
      "text/plain": [
       "array(['ASHOBAA', 'NOT_NAMED', 'KOMEN', 'CHAPALA', 'MEGH', 'ROANU',\n",
       "       'KYANT', 'NADA', 'VARDAH', 'MAARUTHA', 'MORA', 'HATO', 'OCKHI',\n",
       "       'MEKUNU:SAGAR', 'DAYE', 'LUBAN', 'TITLI', 'GAJA', 'PHETHAI',\n",
       "       'PABUK', 'FANI', 'VAYU', 'HIKAA:HIKKA', 'KYAAR:KYARR', 'MAHA',\n",
       "       'BULBUL:MATMO', 'PAWAN', 'AMPHAN', 'NISARGA', 'GATI', 'NIVAR',\n",
       "       'BUREVI', 'KROVANH', 'TAUKTAE', 'YAAS', 'DIANMU',\n",
       "       'GULAB:SHAHEEN-GU', 'JAWAD', 'ASANI', 'SITRANG', 'MANDOUG',\n",
       "       'MOCHA', 'BIPARJOY', 'TEJ', 'HAMOON', 'MIDHILI', 'MICHAUNG',\n",
       "       'ADJALI', 'BAKUNG', 'KATE', 'BANSI', 'CHEDZA', 'DIAMONDRA',\n",
       "       'EUNICE', 'FUNDI', 'LAM', 'GLENDA', 'HALIBA', 'NATHAN', 'OLWYN',\n",
       "       'JOALANE', 'IKOLA', 'QUANG', 'ANNABELLE', 'BOHALE', 'CORENTIN',\n",
       "       'STAN', 'DAYA', 'URIAH', 'EMERAUDE', 'FANTALA', 'ABELA', 'BRANSBY',\n",
       "       'YVETTE', 'CARLOS', 'DINEO', 'BLANCHE', 'ENAWO', 'FERNANDO',\n",
       "       'CALEB', 'ERNIE', 'FRANCES', 'GREG', 'CEMPAKA', 'DAHLIA', 'HILDA',\n",
       "       'AVA', 'IRVING', 'JOYCE', 'BERGUITTA', 'CEBILE', 'KELVIN',\n",
       "       'DUMAZILE', 'MARCUS', 'ELIAKIM', 'FAKIR', 'FLAMBOYAN', 'ALCIDE',\n",
       "       'BOUCHRA', 'KENANGA', 'CILIDA', 'DESMOND', 'RILEY', 'EKETSANG',\n",
       "       'GELENA', 'FUNANI', 'HALEH', 'IDAI', 'SAVANNAH', 'VERONICA',\n",
       "       'JOANINHA', 'WALLACE', 'LORNA', 'KENNETH', 'LILI', 'ANN', 'BELNA',\n",
       "       'AMBALI', 'CALVINIA', 'BLAKE', 'CLAUDIA', 'DIANE', 'ESAMI',\n",
       "       'FRANCISCO', 'DAMIEN', 'GABEKILE', 'ESTHER', 'FERDINAND', 'HEROLD',\n",
       "       'IRONDRO', 'JERUTO', 'MANGGA', 'ALICIA', 'BONGOYO', 'CHALANE',\n",
       "       'DANILO', 'ELOISE', 'JOSHUA', 'FARAJI', 'GUAMBE', 'MARIAN',\n",
       "       'HABANA', 'IMAN', 'ODETTE', 'SEROJA', 'JOBO', 'PADDY', 'TERATAI',\n",
       "       'SETH', 'TIFFANY', 'ANA', 'BATSIRAI', 'CLIFF', 'DUMAKO', 'EMNATI',\n",
       "       'VERNON', 'ANIKA', 'GOMBE', 'BILLY', 'CHARLOTTE', 'HALIMA',\n",
       "       'JASMINE', 'KARIM', 'ASHLEY', 'BALITA', 'DARIAN', 'ELLIE',\n",
       "       'CHENESO', 'FREDDY', 'DINGANI', 'ENALA', 'HERMAN', 'ILSA',\n",
       "       'FABIEN'], dtype=object)"
      ]
     },
     "execution_count": 751,
     "metadata": {},
     "output_type": "execute_result"
    }
   ],
   "source": [
    "# check labels in location variable\n",
    "\n",
    "df.NAME.unique()"
   ]
  },
  {
   "cell_type": "code",
   "execution_count": 752,
   "metadata": {},
   "outputs": [
    {
     "data": {
      "text/plain": [
       "NOT_NAMED    2013\n",
       "FREDDY        240\n",
       "NATHAN        181\n",
       "CALVINIA      139\n",
       "URIAH         131\n",
       "             ... \n",
       "GREG           15\n",
       "HAMOON         15\n",
       "ASHLEY         13\n",
       "SITRANG        11\n",
       "MIDHILI         7\n",
       "Name: NAME, Length: 174, dtype: int64"
      ]
     },
     "execution_count": 752,
     "metadata": {},
     "output_type": "execute_result"
    }
   ],
   "source": [
    "# check frequency distribution of values in Location variable\n",
    "\n",
    "df.NAME.value_counts()"
   ]
  },
  {
   "cell_type": "code",
   "execution_count": 753,
   "metadata": {},
   "outputs": [
    {
     "data": {
      "text/html": [
       "<div>\n",
       "<style scoped>\n",
       "    .dataframe tbody tr th:only-of-type {\n",
       "        vertical-align: middle;\n",
       "    }\n",
       "\n",
       "    .dataframe tbody tr th {\n",
       "        vertical-align: top;\n",
       "    }\n",
       "\n",
       "    .dataframe thead th {\n",
       "        text-align: right;\n",
       "    }\n",
       "</style>\n",
       "<table border=\"1\" class=\"dataframe\">\n",
       "  <thead>\n",
       "    <tr style=\"text-align: right;\">\n",
       "      <th></th>\n",
       "      <th>ADJALI</th>\n",
       "      <th>ALCIDE</th>\n",
       "      <th>ALICIA</th>\n",
       "      <th>AMBALI</th>\n",
       "      <th>AMPHAN</th>\n",
       "      <th>ANA</th>\n",
       "      <th>ANIKA</th>\n",
       "      <th>ANN</th>\n",
       "      <th>ANNABELLE</th>\n",
       "      <th>ASANI</th>\n",
       "      <th>...</th>\n",
       "      <th>TIFFANY</th>\n",
       "      <th>TITLI</th>\n",
       "      <th>URIAH</th>\n",
       "      <th>VARDAH</th>\n",
       "      <th>VAYU</th>\n",
       "      <th>VERNON</th>\n",
       "      <th>VERONICA</th>\n",
       "      <th>WALLACE</th>\n",
       "      <th>YAAS</th>\n",
       "      <th>YVETTE</th>\n",
       "    </tr>\n",
       "  </thead>\n",
       "  <tbody>\n",
       "    <tr>\n",
       "      <th>0</th>\n",
       "      <td>0</td>\n",
       "      <td>0</td>\n",
       "      <td>0</td>\n",
       "      <td>0</td>\n",
       "      <td>0</td>\n",
       "      <td>0</td>\n",
       "      <td>0</td>\n",
       "      <td>0</td>\n",
       "      <td>0</td>\n",
       "      <td>0</td>\n",
       "      <td>...</td>\n",
       "      <td>0</td>\n",
       "      <td>0</td>\n",
       "      <td>0</td>\n",
       "      <td>0</td>\n",
       "      <td>0</td>\n",
       "      <td>0</td>\n",
       "      <td>0</td>\n",
       "      <td>0</td>\n",
       "      <td>0</td>\n",
       "      <td>0</td>\n",
       "    </tr>\n",
       "    <tr>\n",
       "      <th>1</th>\n",
       "      <td>0</td>\n",
       "      <td>0</td>\n",
       "      <td>0</td>\n",
       "      <td>0</td>\n",
       "      <td>0</td>\n",
       "      <td>0</td>\n",
       "      <td>0</td>\n",
       "      <td>0</td>\n",
       "      <td>0</td>\n",
       "      <td>0</td>\n",
       "      <td>...</td>\n",
       "      <td>0</td>\n",
       "      <td>0</td>\n",
       "      <td>0</td>\n",
       "      <td>0</td>\n",
       "      <td>0</td>\n",
       "      <td>0</td>\n",
       "      <td>0</td>\n",
       "      <td>0</td>\n",
       "      <td>0</td>\n",
       "      <td>0</td>\n",
       "    </tr>\n",
       "    <tr>\n",
       "      <th>2</th>\n",
       "      <td>0</td>\n",
       "      <td>0</td>\n",
       "      <td>0</td>\n",
       "      <td>0</td>\n",
       "      <td>0</td>\n",
       "      <td>0</td>\n",
       "      <td>0</td>\n",
       "      <td>0</td>\n",
       "      <td>0</td>\n",
       "      <td>0</td>\n",
       "      <td>...</td>\n",
       "      <td>0</td>\n",
       "      <td>0</td>\n",
       "      <td>0</td>\n",
       "      <td>0</td>\n",
       "      <td>0</td>\n",
       "      <td>0</td>\n",
       "      <td>0</td>\n",
       "      <td>0</td>\n",
       "      <td>0</td>\n",
       "      <td>0</td>\n",
       "    </tr>\n",
       "    <tr>\n",
       "      <th>3</th>\n",
       "      <td>0</td>\n",
       "      <td>0</td>\n",
       "      <td>0</td>\n",
       "      <td>0</td>\n",
       "      <td>0</td>\n",
       "      <td>0</td>\n",
       "      <td>0</td>\n",
       "      <td>0</td>\n",
       "      <td>0</td>\n",
       "      <td>0</td>\n",
       "      <td>...</td>\n",
       "      <td>0</td>\n",
       "      <td>0</td>\n",
       "      <td>0</td>\n",
       "      <td>0</td>\n",
       "      <td>0</td>\n",
       "      <td>0</td>\n",
       "      <td>0</td>\n",
       "      <td>0</td>\n",
       "      <td>0</td>\n",
       "      <td>0</td>\n",
       "    </tr>\n",
       "    <tr>\n",
       "      <th>4</th>\n",
       "      <td>0</td>\n",
       "      <td>0</td>\n",
       "      <td>0</td>\n",
       "      <td>0</td>\n",
       "      <td>0</td>\n",
       "      <td>0</td>\n",
       "      <td>0</td>\n",
       "      <td>0</td>\n",
       "      <td>0</td>\n",
       "      <td>0</td>\n",
       "      <td>...</td>\n",
       "      <td>0</td>\n",
       "      <td>0</td>\n",
       "      <td>0</td>\n",
       "      <td>0</td>\n",
       "      <td>0</td>\n",
       "      <td>0</td>\n",
       "      <td>0</td>\n",
       "      <td>0</td>\n",
       "      <td>0</td>\n",
       "      <td>0</td>\n",
       "    </tr>\n",
       "  </tbody>\n",
       "</table>\n",
       "<p>5 rows × 173 columns</p>\n",
       "</div>"
      ],
      "text/plain": [
       "   ADJALI  ALCIDE  ALICIA  AMBALI  AMPHAN  ANA  ANIKA  ANN  ANNABELLE  ASANI  \\\n",
       "0       0       0       0       0       0    0      0    0          0      0   \n",
       "1       0       0       0       0       0    0      0    0          0      0   \n",
       "2       0       0       0       0       0    0      0    0          0      0   \n",
       "3       0       0       0       0       0    0      0    0          0      0   \n",
       "4       0       0       0       0       0    0      0    0          0      0   \n",
       "\n",
       "   ...  TIFFANY  TITLI  URIAH  VARDAH  VAYU  VERNON  VERONICA  WALLACE  YAAS  \\\n",
       "0  ...        0      0      0       0     0       0         0        0     0   \n",
       "1  ...        0      0      0       0     0       0         0        0     0   \n",
       "2  ...        0      0      0       0     0       0         0        0     0   \n",
       "3  ...        0      0      0       0     0       0         0        0     0   \n",
       "4  ...        0      0      0       0     0       0         0        0     0   \n",
       "\n",
       "   YVETTE  \n",
       "0       0  \n",
       "1       0  \n",
       "2       0  \n",
       "3       0  \n",
       "4       0  \n",
       "\n",
       "[5 rows x 173 columns]"
      ]
     },
     "execution_count": 753,
     "metadata": {},
     "output_type": "execute_result"
    }
   ],
   "source": [
    "# let's do One Hot Encoding of Location variable\n",
    "# get k-1 dummy variables after One Hot Encoding \n",
    "# preview the dataset with head() method\n",
    "\n",
    "pd.get_dummies(df.NAME, drop_first=True).head()"
   ]
  },
  {
   "cell_type": "code",
   "execution_count": 754,
   "metadata": {},
   "outputs": [
    {
     "name": "stdout",
     "output_type": "stream",
     "text": [
      "Cyclone Type contains 7 labels\n"
     ]
    }
   ],
   "source": [
    "# print number of labels in WindGustDir variable\n",
    "\n",
    "print('Cyclone Type contains', len(df['NEWDELHI_GRADE'].unique()), 'labels')"
   ]
  },
  {
   "cell_type": "code",
   "execution_count": 755,
   "metadata": {},
   "outputs": [
    {
     "name": "stdout",
     "output_type": "stream",
     "text": [
      "Cyclone Type contains 9 labels\n"
     ]
    }
   ],
   "source": [
    "print('Cyclone Type contains', len(df['REUNION_TYPE'].unique()), 'labels')"
   ]
  },
  {
   "cell_type": "code",
   "execution_count": 756,
   "metadata": {},
   "outputs": [
    {
     "name": "stdout",
     "output_type": "stream",
     "text": [
      "Cyclone Type contains 4 labels\n"
     ]
    }
   ],
   "source": [
    "print('Cyclone Type contains', len(df['BASIN'].unique()), 'labels')"
   ]
  },
  {
   "cell_type": "code",
   "execution_count": 757,
   "metadata": {},
   "outputs": [
    {
     "name": "stdout",
     "output_type": "stream",
     "text": [
      "Cyclone Type contains 5 labels\n"
     ]
    }
   ],
   "source": [
    "print('Cyclone Type contains', len(df['SUBBASIN'].unique()), 'labels')"
   ]
  },
  {
   "cell_type": "code",
   "execution_count": 758,
   "metadata": {},
   "outputs": [
    {
     "data": {
      "text/plain": [
       "UNK    8795\n",
       "CS     1459\n",
       "DD      970\n",
       "SCS     816\n",
       "DP      686\n",
       "EXT     591\n",
       "D       405\n",
       "OL      233\n",
       "STC      46\n",
       "Name: REUNION_TYPE, dtype: int64"
      ]
     },
     "execution_count": 758,
     "metadata": {},
     "output_type": "execute_result"
    }
   ],
   "source": [
    "df.REUNION_TYPE.value_counts()"
   ]
  },
  {
   "cell_type": "code",
   "execution_count": 759,
   "metadata": {},
   "outputs": [
    {
     "data": {
      "text/plain": [
       "CS      12300\n",
       "D         830\n",
       "DD        375\n",
       "VSCS      316\n",
       "SVCS      154\n",
       "SCS        25\n",
       "LPA         1\n",
       "Name: NEWDELHI_GRADE, dtype: int64"
      ]
     },
     "execution_count": 759,
     "metadata": {},
     "output_type": "execute_result"
    }
   ],
   "source": [
    "df.NEWDELHI_GRADE.value_counts()"
   ]
  },
  {
   "cell_type": "code",
   "execution_count": 760,
   "metadata": {},
   "outputs": [
    {
     "data": {
      "text/plain": [
       "SI    10326\n",
       "NI     2916\n",
       "SP      502\n",
       "WP      257\n",
       "Name: BASIN, dtype: int64"
      ]
     },
     "execution_count": 760,
     "metadata": {},
     "output_type": "execute_result"
    }
   ],
   "source": [
    "df.BASIN.value_counts()"
   ]
  },
  {
   "cell_type": "code",
   "execution_count": 761,
   "metadata": {},
   "outputs": [
    {
     "data": {
      "text/plain": [
       "MM    6655\n",
       "WA    3942\n",
       "BB    1516\n",
       "AS    1400\n",
       "EA     488\n",
       "Name: SUBBASIN, dtype: int64"
      ]
     },
     "execution_count": 761,
     "metadata": {},
     "output_type": "execute_result"
    }
   ],
   "source": [
    "df.SUBBASIN.value_counts()"
   ]
  },
  {
   "cell_type": "code",
   "execution_count": 762,
   "metadata": {},
   "outputs": [
    {
     "data": {
      "text/html": [
       "<div>\n",
       "<style scoped>\n",
       "    .dataframe tbody tr th:only-of-type {\n",
       "        vertical-align: middle;\n",
       "    }\n",
       "\n",
       "    .dataframe tbody tr th {\n",
       "        vertical-align: top;\n",
       "    }\n",
       "\n",
       "    .dataframe thead th {\n",
       "        text-align: right;\n",
       "    }\n",
       "</style>\n",
       "<table border=\"1\" class=\"dataframe\">\n",
       "  <thead>\n",
       "    <tr style=\"text-align: right;\">\n",
       "      <th></th>\n",
       "      <th>D</th>\n",
       "      <th>DD</th>\n",
       "      <th>DP</th>\n",
       "      <th>EXT</th>\n",
       "      <th>OL</th>\n",
       "      <th>SCS</th>\n",
       "      <th>STC</th>\n",
       "      <th>UNK</th>\n",
       "      <th>NaN</th>\n",
       "    </tr>\n",
       "  </thead>\n",
       "  <tbody>\n",
       "    <tr>\n",
       "      <th>0</th>\n",
       "      <td>0</td>\n",
       "      <td>0</td>\n",
       "      <td>0</td>\n",
       "      <td>0</td>\n",
       "      <td>0</td>\n",
       "      <td>0</td>\n",
       "      <td>0</td>\n",
       "      <td>1</td>\n",
       "      <td>0</td>\n",
       "    </tr>\n",
       "    <tr>\n",
       "      <th>1</th>\n",
       "      <td>0</td>\n",
       "      <td>0</td>\n",
       "      <td>0</td>\n",
       "      <td>0</td>\n",
       "      <td>0</td>\n",
       "      <td>0</td>\n",
       "      <td>0</td>\n",
       "      <td>1</td>\n",
       "      <td>0</td>\n",
       "    </tr>\n",
       "    <tr>\n",
       "      <th>2</th>\n",
       "      <td>0</td>\n",
       "      <td>0</td>\n",
       "      <td>0</td>\n",
       "      <td>0</td>\n",
       "      <td>0</td>\n",
       "      <td>0</td>\n",
       "      <td>0</td>\n",
       "      <td>1</td>\n",
       "      <td>0</td>\n",
       "    </tr>\n",
       "    <tr>\n",
       "      <th>3</th>\n",
       "      <td>0</td>\n",
       "      <td>0</td>\n",
       "      <td>0</td>\n",
       "      <td>0</td>\n",
       "      <td>0</td>\n",
       "      <td>0</td>\n",
       "      <td>0</td>\n",
       "      <td>1</td>\n",
       "      <td>0</td>\n",
       "    </tr>\n",
       "    <tr>\n",
       "      <th>4</th>\n",
       "      <td>0</td>\n",
       "      <td>0</td>\n",
       "      <td>0</td>\n",
       "      <td>0</td>\n",
       "      <td>0</td>\n",
       "      <td>0</td>\n",
       "      <td>0</td>\n",
       "      <td>1</td>\n",
       "      <td>0</td>\n",
       "    </tr>\n",
       "  </tbody>\n",
       "</table>\n",
       "</div>"
      ],
      "text/plain": [
       "   D  DD  DP  EXT  OL  SCS  STC  UNK  NaN\n",
       "0  0   0   0    0   0    0    0    1    0\n",
       "1  0   0   0    0   0    0    0    1    0\n",
       "2  0   0   0    0   0    0    0    1    0\n",
       "3  0   0   0    0   0    0    0    1    0\n",
       "4  0   0   0    0   0    0    0    1    0"
      ]
     },
     "execution_count": 762,
     "metadata": {},
     "output_type": "execute_result"
    }
   ],
   "source": [
    "pd.get_dummies(df.REUNION_TYPE, drop_first=True, dummy_na=True).head()"
   ]
  },
  {
   "cell_type": "code",
   "execution_count": 763,
   "metadata": {},
   "outputs": [
    {
     "data": {
      "text/html": [
       "<div>\n",
       "<style scoped>\n",
       "    .dataframe tbody tr th:only-of-type {\n",
       "        vertical-align: middle;\n",
       "    }\n",
       "\n",
       "    .dataframe tbody tr th {\n",
       "        vertical-align: top;\n",
       "    }\n",
       "\n",
       "    .dataframe thead th {\n",
       "        text-align: right;\n",
       "    }\n",
       "</style>\n",
       "<table border=\"1\" class=\"dataframe\">\n",
       "  <thead>\n",
       "    <tr style=\"text-align: right;\">\n",
       "      <th></th>\n",
       "      <th>D</th>\n",
       "      <th>DD</th>\n",
       "      <th>LPA</th>\n",
       "      <th>SCS</th>\n",
       "      <th>SVCS</th>\n",
       "      <th>VSCS</th>\n",
       "      <th>NaN</th>\n",
       "    </tr>\n",
       "  </thead>\n",
       "  <tbody>\n",
       "    <tr>\n",
       "      <th>0</th>\n",
       "      <td>0</td>\n",
       "      <td>0</td>\n",
       "      <td>0</td>\n",
       "      <td>0</td>\n",
       "      <td>0</td>\n",
       "      <td>0</td>\n",
       "      <td>0</td>\n",
       "    </tr>\n",
       "    <tr>\n",
       "      <th>1</th>\n",
       "      <td>0</td>\n",
       "      <td>0</td>\n",
       "      <td>0</td>\n",
       "      <td>0</td>\n",
       "      <td>0</td>\n",
       "      <td>0</td>\n",
       "      <td>0</td>\n",
       "    </tr>\n",
       "    <tr>\n",
       "      <th>2</th>\n",
       "      <td>0</td>\n",
       "      <td>0</td>\n",
       "      <td>0</td>\n",
       "      <td>0</td>\n",
       "      <td>0</td>\n",
       "      <td>0</td>\n",
       "      <td>0</td>\n",
       "    </tr>\n",
       "    <tr>\n",
       "      <th>3</th>\n",
       "      <td>0</td>\n",
       "      <td>0</td>\n",
       "      <td>0</td>\n",
       "      <td>0</td>\n",
       "      <td>0</td>\n",
       "      <td>0</td>\n",
       "      <td>0</td>\n",
       "    </tr>\n",
       "    <tr>\n",
       "      <th>4</th>\n",
       "      <td>0</td>\n",
       "      <td>0</td>\n",
       "      <td>0</td>\n",
       "      <td>0</td>\n",
       "      <td>0</td>\n",
       "      <td>0</td>\n",
       "      <td>0</td>\n",
       "    </tr>\n",
       "  </tbody>\n",
       "</table>\n",
       "</div>"
      ],
      "text/plain": [
       "   D  DD  LPA  SCS  SVCS  VSCS  NaN\n",
       "0  0   0    0    0     0     0    0\n",
       "1  0   0    0    0     0     0    0\n",
       "2  0   0    0    0     0     0    0\n",
       "3  0   0    0    0     0     0    0\n",
       "4  0   0    0    0     0     0    0"
      ]
     },
     "execution_count": 763,
     "metadata": {},
     "output_type": "execute_result"
    }
   ],
   "source": [
    "pd.get_dummies(df.NEWDELHI_GRADE, drop_first=True, dummy_na=True).head()"
   ]
  },
  {
   "cell_type": "code",
   "execution_count": 764,
   "metadata": {},
   "outputs": [
    {
     "data": {
      "text/html": [
       "<div>\n",
       "<style scoped>\n",
       "    .dataframe tbody tr th:only-of-type {\n",
       "        vertical-align: middle;\n",
       "    }\n",
       "\n",
       "    .dataframe tbody tr th {\n",
       "        vertical-align: top;\n",
       "    }\n",
       "\n",
       "    .dataframe thead th {\n",
       "        text-align: right;\n",
       "    }\n",
       "</style>\n",
       "<table border=\"1\" class=\"dataframe\">\n",
       "  <thead>\n",
       "    <tr style=\"text-align: right;\">\n",
       "      <th></th>\n",
       "      <th>SI</th>\n",
       "      <th>SP</th>\n",
       "      <th>WP</th>\n",
       "      <th>NaN</th>\n",
       "    </tr>\n",
       "  </thead>\n",
       "  <tbody>\n",
       "    <tr>\n",
       "      <th>0</th>\n",
       "      <td>0</td>\n",
       "      <td>0</td>\n",
       "      <td>0</td>\n",
       "      <td>0</td>\n",
       "    </tr>\n",
       "    <tr>\n",
       "      <th>1</th>\n",
       "      <td>0</td>\n",
       "      <td>0</td>\n",
       "      <td>0</td>\n",
       "      <td>0</td>\n",
       "    </tr>\n",
       "    <tr>\n",
       "      <th>2</th>\n",
       "      <td>0</td>\n",
       "      <td>0</td>\n",
       "      <td>0</td>\n",
       "      <td>0</td>\n",
       "    </tr>\n",
       "    <tr>\n",
       "      <th>3</th>\n",
       "      <td>0</td>\n",
       "      <td>0</td>\n",
       "      <td>0</td>\n",
       "      <td>0</td>\n",
       "    </tr>\n",
       "    <tr>\n",
       "      <th>4</th>\n",
       "      <td>0</td>\n",
       "      <td>0</td>\n",
       "      <td>0</td>\n",
       "      <td>0</td>\n",
       "    </tr>\n",
       "  </tbody>\n",
       "</table>\n",
       "</div>"
      ],
      "text/plain": [
       "   SI  SP  WP  NaN\n",
       "0   0   0   0    0\n",
       "1   0   0   0    0\n",
       "2   0   0   0    0\n",
       "3   0   0   0    0\n",
       "4   0   0   0    0"
      ]
     },
     "execution_count": 764,
     "metadata": {},
     "output_type": "execute_result"
    }
   ],
   "source": [
    "pd.get_dummies(df.BASIN, drop_first=True, dummy_na=True).head()"
   ]
  },
  {
   "cell_type": "code",
   "execution_count": 765,
   "metadata": {},
   "outputs": [
    {
     "data": {
      "text/html": [
       "<div>\n",
       "<style scoped>\n",
       "    .dataframe tbody tr th:only-of-type {\n",
       "        vertical-align: middle;\n",
       "    }\n",
       "\n",
       "    .dataframe tbody tr th {\n",
       "        vertical-align: top;\n",
       "    }\n",
       "\n",
       "    .dataframe thead th {\n",
       "        text-align: right;\n",
       "    }\n",
       "</style>\n",
       "<table border=\"1\" class=\"dataframe\">\n",
       "  <thead>\n",
       "    <tr style=\"text-align: right;\">\n",
       "      <th></th>\n",
       "      <th>BB</th>\n",
       "      <th>EA</th>\n",
       "      <th>MM</th>\n",
       "      <th>WA</th>\n",
       "      <th>NaN</th>\n",
       "    </tr>\n",
       "  </thead>\n",
       "  <tbody>\n",
       "    <tr>\n",
       "      <th>0</th>\n",
       "      <td>0</td>\n",
       "      <td>0</td>\n",
       "      <td>0</td>\n",
       "      <td>0</td>\n",
       "      <td>0</td>\n",
       "    </tr>\n",
       "    <tr>\n",
       "      <th>1</th>\n",
       "      <td>0</td>\n",
       "      <td>0</td>\n",
       "      <td>0</td>\n",
       "      <td>0</td>\n",
       "      <td>0</td>\n",
       "    </tr>\n",
       "    <tr>\n",
       "      <th>2</th>\n",
       "      <td>0</td>\n",
       "      <td>0</td>\n",
       "      <td>0</td>\n",
       "      <td>0</td>\n",
       "      <td>0</td>\n",
       "    </tr>\n",
       "    <tr>\n",
       "      <th>3</th>\n",
       "      <td>0</td>\n",
       "      <td>0</td>\n",
       "      <td>0</td>\n",
       "      <td>0</td>\n",
       "      <td>0</td>\n",
       "    </tr>\n",
       "    <tr>\n",
       "      <th>4</th>\n",
       "      <td>0</td>\n",
       "      <td>0</td>\n",
       "      <td>0</td>\n",
       "      <td>0</td>\n",
       "      <td>0</td>\n",
       "    </tr>\n",
       "  </tbody>\n",
       "</table>\n",
       "</div>"
      ],
      "text/plain": [
       "   BB  EA  MM  WA  NaN\n",
       "0   0   0   0   0    0\n",
       "1   0   0   0   0    0\n",
       "2   0   0   0   0    0\n",
       "3   0   0   0   0    0\n",
       "4   0   0   0   0    0"
      ]
     },
     "execution_count": 765,
     "metadata": {},
     "output_type": "execute_result"
    }
   ],
   "source": [
    "pd.get_dummies(df.SUBBASIN, drop_first=True, dummy_na=True).head()"
   ]
  },
  {
   "cell_type": "code",
   "execution_count": 766,
   "metadata": {},
   "outputs": [
    {
     "data": {
      "text/plain": [
       "D       405\n",
       "DD      970\n",
       "DP      686\n",
       "EXT     591\n",
       "OL      233\n",
       "SCS     816\n",
       "STC      46\n",
       "UNK    8795\n",
       "NaN       0\n",
       "dtype: int64"
      ]
     },
     "execution_count": 766,
     "metadata": {},
     "output_type": "execute_result"
    }
   ],
   "source": [
    "pd.get_dummies(df.REUNION_TYPE, drop_first=True, dummy_na=True).sum(axis=0)"
   ]
  },
  {
   "cell_type": "code",
   "execution_count": 767,
   "metadata": {},
   "outputs": [
    {
     "data": {
      "text/plain": [
       "D       830\n",
       "DD      375\n",
       "LPA       1\n",
       "SCS      25\n",
       "SVCS    154\n",
       "VSCS    316\n",
       "NaN       0\n",
       "dtype: int64"
      ]
     },
     "execution_count": 767,
     "metadata": {},
     "output_type": "execute_result"
    }
   ],
   "source": [
    "pd.get_dummies(df.NEWDELHI_GRADE, drop_first=True, dummy_na=True).sum(axis=0)"
   ]
  },
  {
   "cell_type": "code",
   "execution_count": 768,
   "metadata": {},
   "outputs": [
    {
     "data": {
      "text/plain": [
       "SI     10326\n",
       "SP       502\n",
       "WP       257\n",
       "NaN        0\n",
       "dtype: int64"
      ]
     },
     "execution_count": 768,
     "metadata": {},
     "output_type": "execute_result"
    }
   ],
   "source": [
    "pd.get_dummies(df.BASIN, drop_first=True, dummy_na=True).sum(axis=0)"
   ]
  },
  {
   "cell_type": "code",
   "execution_count": 769,
   "metadata": {},
   "outputs": [
    {
     "data": {
      "text/plain": [
       "BB     1516\n",
       "EA      488\n",
       "MM     6655\n",
       "WA     3942\n",
       "NaN       0\n",
       "dtype: int64"
      ]
     },
     "execution_count": 769,
     "metadata": {},
     "output_type": "execute_result"
    }
   ],
   "source": [
    "pd.get_dummies(df.SUBBASIN, drop_first=True, dummy_na=True).sum(axis=0)"
   ]
  },
  {
   "cell_type": "code",
   "execution_count": 770,
   "metadata": {},
   "outputs": [
    {
     "name": "stdout",
     "output_type": "stream",
     "text": [
      "There are 18 numerical variables\n",
      "\n",
      "The numerical variables are : ['SEASON', 'LAT', 'LON', 'DIST2LAND', 'LANDFALL', 'WMO_WIND', 'WMO_PRES', 'NEWDELHI_WIND', 'NEWDELHI_PRES', 'NEWDELHI_DP', 'REUNION_WIND', 'REUNION_PRES', 'REUNION_RMW', 'STORM_SPEED', 'STORM_DIR', 'Year', 'Month', 'Day']\n"
     ]
    }
   ],
   "source": [
    "numerical = [var for var in df.columns if df[var].dtype!='O']\n",
    "\n",
    "print('There are {} numerical variables\\n'.format(len(numerical)))\n",
    "\n",
    "print('The numerical variables are :', numerical)"
   ]
  },
  {
   "cell_type": "code",
   "execution_count": 771,
   "metadata": {},
   "outputs": [
    {
     "data": {
      "text/html": [
       "<div>\n",
       "<style scoped>\n",
       "    .dataframe tbody tr th:only-of-type {\n",
       "        vertical-align: middle;\n",
       "    }\n",
       "\n",
       "    .dataframe tbody tr th {\n",
       "        vertical-align: top;\n",
       "    }\n",
       "\n",
       "    .dataframe thead th {\n",
       "        text-align: right;\n",
       "    }\n",
       "</style>\n",
       "<table border=\"1\" class=\"dataframe\">\n",
       "  <thead>\n",
       "    <tr style=\"text-align: right;\">\n",
       "      <th></th>\n",
       "      <th>SEASON</th>\n",
       "      <th>LAT</th>\n",
       "      <th>LON</th>\n",
       "      <th>DIST2LAND</th>\n",
       "      <th>LANDFALL</th>\n",
       "      <th>WMO_WIND</th>\n",
       "      <th>WMO_PRES</th>\n",
       "      <th>NEWDELHI_WIND</th>\n",
       "      <th>NEWDELHI_PRES</th>\n",
       "      <th>NEWDELHI_DP</th>\n",
       "      <th>REUNION_WIND</th>\n",
       "      <th>REUNION_PRES</th>\n",
       "      <th>REUNION_RMW</th>\n",
       "      <th>STORM_SPEED</th>\n",
       "      <th>STORM_DIR</th>\n",
       "      <th>Year</th>\n",
       "      <th>Month</th>\n",
       "      <th>Day</th>\n",
       "    </tr>\n",
       "  </thead>\n",
       "  <tbody>\n",
       "    <tr>\n",
       "      <th>0</th>\n",
       "      <td>2015</td>\n",
       "      <td>13.10</td>\n",
       "      <td>68.5000</td>\n",
       "      <td>624</td>\n",
       "      <td>601.0</td>\n",
       "      <td>41.300746</td>\n",
       "      <td>991.222042</td>\n",
       "      <td>40.558118</td>\n",
       "      <td>991.873412</td>\n",
       "      <td>991.873412</td>\n",
       "      <td>43.471802</td>\n",
       "      <td>989.403054</td>\n",
       "      <td>21.626368</td>\n",
       "      <td>7</td>\n",
       "      <td>8</td>\n",
       "      <td>2015</td>\n",
       "      <td>6</td>\n",
       "      <td>6</td>\n",
       "    </tr>\n",
       "    <tr>\n",
       "      <th>1</th>\n",
       "      <td>2015</td>\n",
       "      <td>13.45</td>\n",
       "      <td>68.5599</td>\n",
       "      <td>597</td>\n",
       "      <td>584.0</td>\n",
       "      <td>41.300746</td>\n",
       "      <td>991.222042</td>\n",
       "      <td>40.558118</td>\n",
       "      <td>991.873412</td>\n",
       "      <td>991.873412</td>\n",
       "      <td>43.471802</td>\n",
       "      <td>989.403054</td>\n",
       "      <td>21.626368</td>\n",
       "      <td>7</td>\n",
       "      <td>8</td>\n",
       "      <td>2015</td>\n",
       "      <td>6</td>\n",
       "      <td>6</td>\n",
       "    </tr>\n",
       "    <tr>\n",
       "      <th>2</th>\n",
       "      <td>2015</td>\n",
       "      <td>13.80</td>\n",
       "      <td>68.6000</td>\n",
       "      <td>584</td>\n",
       "      <td>571.0</td>\n",
       "      <td>41.300746</td>\n",
       "      <td>991.222042</td>\n",
       "      <td>40.558118</td>\n",
       "      <td>991.873412</td>\n",
       "      <td>991.873412</td>\n",
       "      <td>43.471802</td>\n",
       "      <td>989.403054</td>\n",
       "      <td>21.626368</td>\n",
       "      <td>7</td>\n",
       "      <td>3</td>\n",
       "      <td>2015</td>\n",
       "      <td>6</td>\n",
       "      <td>6</td>\n",
       "    </tr>\n",
       "    <tr>\n",
       "      <th>3</th>\n",
       "      <td>2015</td>\n",
       "      <td>14.15</td>\n",
       "      <td>68.6075</td>\n",
       "      <td>566</td>\n",
       "      <td>551.0</td>\n",
       "      <td>41.300746</td>\n",
       "      <td>991.222042</td>\n",
       "      <td>40.558118</td>\n",
       "      <td>991.873412</td>\n",
       "      <td>991.873412</td>\n",
       "      <td>43.471802</td>\n",
       "      <td>989.403054</td>\n",
       "      <td>21.626368</td>\n",
       "      <td>7</td>\n",
       "      <td>0</td>\n",
       "      <td>2015</td>\n",
       "      <td>6</td>\n",
       "      <td>6</td>\n",
       "    </tr>\n",
       "    <tr>\n",
       "      <th>4</th>\n",
       "      <td>2015</td>\n",
       "      <td>14.50</td>\n",
       "      <td>68.6000</td>\n",
       "      <td>551</td>\n",
       "      <td>538.0</td>\n",
       "      <td>41.300746</td>\n",
       "      <td>991.222042</td>\n",
       "      <td>40.558118</td>\n",
       "      <td>991.873412</td>\n",
       "      <td>991.873412</td>\n",
       "      <td>43.471802</td>\n",
       "      <td>989.403054</td>\n",
       "      <td>21.626368</td>\n",
       "      <td>7</td>\n",
       "      <td>358</td>\n",
       "      <td>2015</td>\n",
       "      <td>6</td>\n",
       "      <td>6</td>\n",
       "    </tr>\n",
       "  </tbody>\n",
       "</table>\n",
       "</div>"
      ],
      "text/plain": [
       "   SEASON    LAT      LON  DIST2LAND  LANDFALL   WMO_WIND    WMO_PRES  \\\n",
       "0    2015  13.10  68.5000        624     601.0  41.300746  991.222042   \n",
       "1    2015  13.45  68.5599        597     584.0  41.300746  991.222042   \n",
       "2    2015  13.80  68.6000        584     571.0  41.300746  991.222042   \n",
       "3    2015  14.15  68.6075        566     551.0  41.300746  991.222042   \n",
       "4    2015  14.50  68.6000        551     538.0  41.300746  991.222042   \n",
       "\n",
       "   NEWDELHI_WIND  NEWDELHI_PRES  NEWDELHI_DP  REUNION_WIND  REUNION_PRES  \\\n",
       "0      40.558118     991.873412   991.873412     43.471802    989.403054   \n",
       "1      40.558118     991.873412   991.873412     43.471802    989.403054   \n",
       "2      40.558118     991.873412   991.873412     43.471802    989.403054   \n",
       "3      40.558118     991.873412   991.873412     43.471802    989.403054   \n",
       "4      40.558118     991.873412   991.873412     43.471802    989.403054   \n",
       "\n",
       "   REUNION_RMW  STORM_SPEED  STORM_DIR  Year  Month  Day  \n",
       "0    21.626368            7          8  2015      6    6  \n",
       "1    21.626368            7          8  2015      6    6  \n",
       "2    21.626368            7          3  2015      6    6  \n",
       "3    21.626368            7          0  2015      6    6  \n",
       "4    21.626368            7        358  2015      6    6  "
      ]
     },
     "execution_count": 771,
     "metadata": {},
     "output_type": "execute_result"
    }
   ],
   "source": [
    "df[numerical].head()"
   ]
  },
  {
   "cell_type": "code",
   "execution_count": 772,
   "metadata": {},
   "outputs": [
    {
     "data": {
      "text/plain": [
       "SEASON           0\n",
       "LAT              0\n",
       "LON              0\n",
       "DIST2LAND        0\n",
       "LANDFALL         0\n",
       "WMO_WIND         0\n",
       "WMO_PRES         0\n",
       "NEWDELHI_WIND    0\n",
       "NEWDELHI_PRES    0\n",
       "NEWDELHI_DP      0\n",
       "REUNION_WIND     0\n",
       "REUNION_PRES     0\n",
       "REUNION_RMW      0\n",
       "STORM_SPEED      0\n",
       "STORM_DIR        0\n",
       "Year             0\n",
       "Month            0\n",
       "Day              0\n",
       "dtype: int64"
      ]
     },
     "execution_count": 772,
     "metadata": {},
     "output_type": "execute_result"
    }
   ],
   "source": [
    "df[numerical].isnull().sum()"
   ]
  },
  {
   "cell_type": "code",
   "execution_count": 773,
   "metadata": {},
   "outputs": [
    {
     "data": {
      "text/plain": [
       "Text(0, 0.5, 'Storm direction')"
      ]
     },
     "execution_count": 773,
     "metadata": {},
     "output_type": "execute_result"
    },
    {
     "data": {
      "image/png": "[encoded data removed]",
      "text/plain": [
       "<Figure size 1500x1000 with 4 Axes>"
      ]
     },
     "metadata": {},
     "output_type": "display_data"
    }
   ],
   "source": [
    "# draw boxplots to visualize outliers\n",
    "\n",
    "plt.figure(figsize=(15,10))\n",
    "\n",
    "\n",
    "plt.subplot(2, 2, 1)\n",
    "fig = df.boxplot(column='NEWDELHI_WIND')\n",
    "fig.set_title('')\n",
    "fig.set_ylabel('NI')\n",
    "\n",
    "\n",
    "plt.subplot(2, 2, 2)\n",
    "fig = df.boxplot(column='REUNION_WIND')\n",
    "fig.set_title('')\n",
    "fig.set_ylabel('SI')\n",
    "\n",
    "plt.subplot(2, 2, 3)\n",
    "fig = df.boxplot(column='STORM_SPEED')\n",
    "fig.set_title('')\n",
    "fig.set_ylabel('storm speed')\n",
    "\n",
    "\n",
    "plt.subplot(2, 2, 4)\n",
    "fig = df.boxplot(column='STORM_DIR')\n",
    "fig.set_title('')\n",
    "fig.set_ylabel('Storm direction')"
   ]
  },
  {
   "cell_type": "code",
   "execution_count": 774,
   "metadata": {},
   "outputs": [
    {
     "data": {
      "text/plain": [
       "Text(0, 0.5, 'REUNION_TYPE')"
      ]
     },
     "execution_count": 774,
     "metadata": {},
     "output_type": "execute_result"
    },
    {
     "data": {
      "image/png": "[encoded data removed]",
      "text/plain": [
       "<Figure size 1500x1000 with 4 Axes>"
      ]
     },
     "metadata": {},
     "output_type": "display_data"
    }
   ],
   "source": [
    "# plot histogram to check distribution\n",
    "\n",
    "plt.figure(figsize=(15,10))\n",
    "\n",
    "\n",
    "plt.subplot(2, 2, 1)\n",
    "fig = df.NEWDELHI_WIND.hist(bins=10)\n",
    "fig.set_xlabel('NEWDELHI_WIND')\n",
    "fig.set_ylabel('NEWDELHI_GRADE')\n",
    "\n",
    "\n",
    "plt.subplot(2, 2, 2)\n",
    "fig = df.REUNION_WIND.hist(bins=10)\n",
    "fig.set_xlabel('REUNION_WIND')\n",
    "fig.set_ylabel('REUNION_TYPE')\n",
    "\n",
    "plt.subplot(2, 2, 3)\n",
    "fig = df.STORM_SPEED.hist(bins=10)\n",
    "fig.set_xlabel('STORM_SPEED')\n",
    "fig.set_ylabel('NEWDELHI_GRADE')\n",
    "\n",
    "\n",
    "plt.subplot(2, 2, 4)\n",
    "fig = df.STORM_SPEED.hist(bins=10)\n",
    "fig.set_xlabel('STORM_SPEED')\n",
    "fig.set_ylabel('REUNION_TYPE')"
   ]
  },
  {
   "cell_type": "code",
   "execution_count": 775,
   "metadata": {},
   "outputs": [
    {
     "name": "stdout",
     "output_type": "stream",
     "text": [
      "Cyclone Speed are values < 43.47180192572215 or > 43.47180192572215\n"
     ]
    }
   ],
   "source": [
    "# find outliers for Rainfall variable\n",
    "\n",
    "IQR = df.REUNION_WIND.quantile(0.75) - df.REUNION_WIND.quantile(0.25)\n",
    "Lower_fence = df.REUNION_WIND.quantile(0.25) - (IQR * 3)\n",
    "Upper_fence = df.REUNION_WIND.quantile(0.75) + (IQR * 3)\n",
    "print('Cyclone Speed are values < {lowerboundary} or > {upperboundary}'.format(lowerboundary=Lower_fence, upperboundary=Upper_fence))"
   ]
  },
  {
   "cell_type": "code",
   "execution_count": 776,
   "metadata": {},
   "outputs": [
    {
     "name": "stdout",
     "output_type": "stream",
     "text": [
      "Cyclone Speed are values < 40.55811764705882 or > 40.55811764705882\n"
     ]
    }
   ],
   "source": [
    "IQR = df.NEWDELHI_WIND.quantile(0.75) - df.NEWDELHI_WIND.quantile(0.25)\n",
    "Lower_fence = df.NEWDELHI_WIND.quantile(0.25) - (IQR * 3)\n",
    "Upper_fence = df.NEWDELHI_WIND.quantile(0.75) + (IQR * 3)\n",
    "print('Cyclone Speed are values < {lowerboundary} or > {upperboundary}'.format(lowerboundary=Lower_fence, upperboundary=Upper_fence))"
   ]
  },
  {
   "cell_type": "code",
   "execution_count": 778,
   "metadata": {},
   "outputs": [
    {
     "name": "stdout",
     "output_type": "stream",
     "text": [
      "Cyclone Speed are values < -13.0 or > 29.0\n"
     ]
    }
   ],
   "source": [
    "IQR = df.STORM_SPEED.quantile(0.75) - df.STORM_SPEED.quantile(0.25)\n",
    "Lower_fence = df.STORM_SPEED.quantile(0.25) - (IQR * 3)\n",
    "Upper_fence = df.STORM_SPEED.quantile(0.75) + (IQR * 3)\n",
    "print('Cyclone Speed are values < {lowerboundary} or > {upperboundary}'.format(lowerboundary=Lower_fence, upperboundary=Upper_fence))"
   ]
  },
  {
   "cell_type": "code",
   "execution_count": 781,
   "metadata": {},
   "outputs": [
    {
     "name": "stdout",
     "output_type": "stream",
     "text": [
      "Index(['BASIN', 'SUBBASIN', 'NAME', 'NEWDELHI_GRADE', 'REUNION_TYPE'], dtype='object')\n"
     ]
    }
   ],
   "source": [
    "#Categorical variables:\n",
    "categorical = df.select_dtypes(include = [\"object\"]).keys()\n",
    "print(categorical)"
   ]
  },
  {
   "cell_type": "code",
   "execution_count": 782,
   "metadata": {},
   "outputs": [
    {
     "name": "stdout",
     "output_type": "stream",
     "text": [
      "Index(['SEASON', 'LAT', 'LON', 'DIST2LAND', 'LANDFALL', 'WMO_WIND', 'WMO_PRES',\n",
      "       'NEWDELHI_WIND', 'NEWDELHI_PRES', 'NEWDELHI_DP', 'REUNION_WIND',\n",
      "       'REUNION_PRES', 'REUNION_RMW', 'STORM_SPEED', 'STORM_DIR', 'Year',\n",
      "       'Month', 'Day'],\n",
      "      dtype='object')\n"
     ]
    }
   ],
   "source": [
    "#Quantitative variables:\n",
    "quantitative = df.select_dtypes(include = [\"int64\",\"float64\"]).keys()\n",
    "print(quantitative)"
   ]
  },
  {
   "cell_type": "code",
   "execution_count": 783,
   "metadata": {},
   "outputs": [],
   "source": [
    "from sklearn.model_selection import train_test_split\n",
    "from sklearn.preprocessing import StandardScaler\n",
    "from sklearn.linear_model import LogisticRegression\n",
    "from sklearn.metrics import accuracy_score, classification_report, confusion_matrix, roc_curve, auc,log_loss"
   ]
  },
  {
   "cell_type": "code",
   "execution_count": 815,
   "metadata": {},
   "outputs": [],
   "source": [
    "df['Results'] = np.where(df['STORM_DIR'] > 100 , 1,0 )"
   ]
  },
  {
   "cell_type": "code",
   "execution_count": 816,
   "metadata": {},
   "outputs": [
    {
     "data": {
      "text/html": [
       "<div>\n",
       "<style scoped>\n",
       "    .dataframe tbody tr th:only-of-type {\n",
       "        vertical-align: middle;\n",
       "    }\n",
       "\n",
       "    .dataframe tbody tr th {\n",
       "        vertical-align: top;\n",
       "    }\n",
       "\n",
       "    .dataframe thead th {\n",
       "        text-align: right;\n",
       "    }\n",
       "</style>\n",
       "<table border=\"1\" class=\"dataframe\">\n",
       "  <thead>\n",
       "    <tr style=\"text-align: right;\">\n",
       "      <th></th>\n",
       "      <th>SEASON</th>\n",
       "      <th>BASIN</th>\n",
       "      <th>SUBBASIN</th>\n",
       "      <th>NAME</th>\n",
       "      <th>LAT</th>\n",
       "      <th>LON</th>\n",
       "      <th>DIST2LAND</th>\n",
       "      <th>LANDFALL</th>\n",
       "      <th>WMO_WIND</th>\n",
       "      <th>WMO_PRES</th>\n",
       "      <th>...</th>\n",
       "      <th>REUNION_TYPE</th>\n",
       "      <th>REUNION_WIND</th>\n",
       "      <th>REUNION_PRES</th>\n",
       "      <th>REUNION_RMW</th>\n",
       "      <th>STORM_SPEED</th>\n",
       "      <th>STORM_DIR</th>\n",
       "      <th>Year</th>\n",
       "      <th>Month</th>\n",
       "      <th>Day</th>\n",
       "      <th>Results</th>\n",
       "    </tr>\n",
       "  </thead>\n",
       "  <tbody>\n",
       "    <tr>\n",
       "      <th>0</th>\n",
       "      <td>2015</td>\n",
       "      <td>NI</td>\n",
       "      <td>AS</td>\n",
       "      <td>ASHOBAA</td>\n",
       "      <td>13.10</td>\n",
       "      <td>68.5000</td>\n",
       "      <td>624</td>\n",
       "      <td>601.0</td>\n",
       "      <td>41.300746</td>\n",
       "      <td>991.222042</td>\n",
       "      <td>...</td>\n",
       "      <td>UNK</td>\n",
       "      <td>43.471802</td>\n",
       "      <td>989.403054</td>\n",
       "      <td>21.626368</td>\n",
       "      <td>7</td>\n",
       "      <td>8</td>\n",
       "      <td>2015</td>\n",
       "      <td>6</td>\n",
       "      <td>6</td>\n",
       "      <td>0</td>\n",
       "    </tr>\n",
       "    <tr>\n",
       "      <th>1</th>\n",
       "      <td>2015</td>\n",
       "      <td>NI</td>\n",
       "      <td>AS</td>\n",
       "      <td>ASHOBAA</td>\n",
       "      <td>13.45</td>\n",
       "      <td>68.5599</td>\n",
       "      <td>597</td>\n",
       "      <td>584.0</td>\n",
       "      <td>41.300746</td>\n",
       "      <td>991.222042</td>\n",
       "      <td>...</td>\n",
       "      <td>UNK</td>\n",
       "      <td>43.471802</td>\n",
       "      <td>989.403054</td>\n",
       "      <td>21.626368</td>\n",
       "      <td>7</td>\n",
       "      <td>8</td>\n",
       "      <td>2015</td>\n",
       "      <td>6</td>\n",
       "      <td>6</td>\n",
       "      <td>0</td>\n",
       "    </tr>\n",
       "    <tr>\n",
       "      <th>2</th>\n",
       "      <td>2015</td>\n",
       "      <td>NI</td>\n",
       "      <td>AS</td>\n",
       "      <td>ASHOBAA</td>\n",
       "      <td>13.80</td>\n",
       "      <td>68.6000</td>\n",
       "      <td>584</td>\n",
       "      <td>571.0</td>\n",
       "      <td>41.300746</td>\n",
       "      <td>991.222042</td>\n",
       "      <td>...</td>\n",
       "      <td>UNK</td>\n",
       "      <td>43.471802</td>\n",
       "      <td>989.403054</td>\n",
       "      <td>21.626368</td>\n",
       "      <td>7</td>\n",
       "      <td>3</td>\n",
       "      <td>2015</td>\n",
       "      <td>6</td>\n",
       "      <td>6</td>\n",
       "      <td>0</td>\n",
       "    </tr>\n",
       "    <tr>\n",
       "      <th>3</th>\n",
       "      <td>2015</td>\n",
       "      <td>NI</td>\n",
       "      <td>AS</td>\n",
       "      <td>ASHOBAA</td>\n",
       "      <td>14.15</td>\n",
       "      <td>68.6075</td>\n",
       "      <td>566</td>\n",
       "      <td>551.0</td>\n",
       "      <td>41.300746</td>\n",
       "      <td>991.222042</td>\n",
       "      <td>...</td>\n",
       "      <td>UNK</td>\n",
       "      <td>43.471802</td>\n",
       "      <td>989.403054</td>\n",
       "      <td>21.626368</td>\n",
       "      <td>7</td>\n",
       "      <td>0</td>\n",
       "      <td>2015</td>\n",
       "      <td>6</td>\n",
       "      <td>6</td>\n",
       "      <td>0</td>\n",
       "    </tr>\n",
       "    <tr>\n",
       "      <th>4</th>\n",
       "      <td>2015</td>\n",
       "      <td>NI</td>\n",
       "      <td>AS</td>\n",
       "      <td>ASHOBAA</td>\n",
       "      <td>14.50</td>\n",
       "      <td>68.6000</td>\n",
       "      <td>551</td>\n",
       "      <td>538.0</td>\n",
       "      <td>41.300746</td>\n",
       "      <td>991.222042</td>\n",
       "      <td>...</td>\n",
       "      <td>UNK</td>\n",
       "      <td>43.471802</td>\n",
       "      <td>989.403054</td>\n",
       "      <td>21.626368</td>\n",
       "      <td>7</td>\n",
       "      <td>358</td>\n",
       "      <td>2015</td>\n",
       "      <td>6</td>\n",
       "      <td>6</td>\n",
       "      <td>1</td>\n",
       "    </tr>\n",
       "  </tbody>\n",
       "</table>\n",
       "<p>5 rows × 24 columns</p>\n",
       "</div>"
      ],
      "text/plain": [
       "   SEASON BASIN SUBBASIN     NAME    LAT      LON  DIST2LAND  LANDFALL  \\\n",
       "0    2015    NI       AS  ASHOBAA  13.10  68.5000        624     601.0   \n",
       "1    2015    NI       AS  ASHOBAA  13.45  68.5599        597     584.0   \n",
       "2    2015    NI       AS  ASHOBAA  13.80  68.6000        584     571.0   \n",
       "3    2015    NI       AS  ASHOBAA  14.15  68.6075        566     551.0   \n",
       "4    2015    NI       AS  ASHOBAA  14.50  68.6000        551     538.0   \n",
       "\n",
       "    WMO_WIND    WMO_PRES  ...  REUNION_TYPE  REUNION_WIND  REUNION_PRES  \\\n",
       "0  41.300746  991.222042  ...           UNK     43.471802    989.403054   \n",
       "1  41.300746  991.222042  ...           UNK     43.471802    989.403054   \n",
       "2  41.300746  991.222042  ...           UNK     43.471802    989.403054   \n",
       "3  41.300746  991.222042  ...           UNK     43.471802    989.403054   \n",
       "4  41.300746  991.222042  ...           UNK     43.471802    989.403054   \n",
       "\n",
       "  REUNION_RMW STORM_SPEED  STORM_DIR  Year  Month  Day  Results  \n",
       "0   21.626368           7          8  2015      6    6        0  \n",
       "1   21.626368           7          8  2015      6    6        0  \n",
       "2   21.626368           7          3  2015      6    6        0  \n",
       "3   21.626368           7          0  2015      6    6        0  \n",
       "4   21.626368           7        358  2015      6    6        1  \n",
       "\n",
       "[5 rows x 24 columns]"
      ]
     },
     "execution_count": 816,
     "metadata": {},
     "output_type": "execute_result"
    }
   ],
   "source": [
    "df.head()"
   ]
  },
  {
   "cell_type": "code",
   "execution_count": 817,
   "metadata": {},
   "outputs": [],
   "source": [
    "X = df[quantitative]\n",
    "y = df['Results']\n",
    "\n",
    "X_train, X_test, y_train, y_test = train_test_split(X, y, test_size=0.2, random_state=42)"
   ]
  },
  {
   "cell_type": "code",
   "execution_count": 818,
   "metadata": {},
   "outputs": [],
   "source": [
    "scaler = StandardScaler()\n",
    "X_train = scaler.fit_transform(X_train)\n",
    "X_test = scaler.transform(X_test)"
   ]
  },
  {
   "cell_type": "code",
   "execution_count": 819,
   "metadata": {},
   "outputs": [
    {
     "data": {
      "text/html": [
       "<style>#sk-container-id-4 {color: black;}#sk-container-id-4 pre{padding: 0;}#sk-container-id-4 div.sk-toggleable {background-color: white;}#sk-container-id-4 label.sk-toggleable__label {cursor: pointer;display: block;width: 100%;margin-bottom: 0;padding: 0.3em;box-sizing: border-box;text-align: center;}#sk-container-id-4 label.sk-toggleable__label-arrow:before {content: \"▸\";float: left;margin-right: 0.25em;color: #696969;}#sk-container-id-4 label.sk-toggleable__label-arrow:hover:before {color: black;}#sk-container-id-4 div.sk-estimator:hover label.sk-toggleable__label-arrow:before {color: black;}#sk-container-id-4 div.sk-toggleable__content {max-height: 0;max-width: 0;overflow: hidden;text-align: left;background-color: #f0f8ff;}#sk-container-id-4 div.sk-toggleable__content pre {margin: 0.2em;color: black;border-radius: 0.25em;background-color: #f0f8ff;}#sk-container-id-4 input.sk-toggleable__control:checked~div.sk-toggleable__content {max-height: 200px;max-width: 100%;overflow: auto;}#sk-container-id-4 input.sk-toggleable__control:checked~label.sk-toggleable__label-arrow:before {content: \"▾\";}#sk-container-id-4 div.sk-estimator input.sk-toggleable__control:checked~label.sk-toggleable__label {background-color: #d4ebff;}#sk-container-id-4 div.sk-label input.sk-toggleable__control:checked~label.sk-toggleable__label {background-color: #d4ebff;}#sk-container-id-4 input.sk-hidden--visually {border: 0;clip: rect(1px 1px 1px 1px);clip: rect(1px, 1px, 1px, 1px);height: 1px;margin: -1px;overflow: hidden;padding: 0;position: absolute;width: 1px;}#sk-container-id-4 div.sk-estimator {font-family: monospace;background-color: #f0f8ff;border: 1px dotted black;border-radius: 0.25em;box-sizing: border-box;margin-bottom: 0.5em;}#sk-container-id-4 div.sk-estimator:hover {background-color: #d4ebff;}#sk-container-id-4 div.sk-parallel-item::after {content: \"\";width: 100%;border-bottom: 1px solid gray;flex-grow: 1;}#sk-container-id-4 div.sk-label:hover label.sk-toggleable__label {background-color: #d4ebff;}#sk-container-id-4 div.sk-serial::before {content: \"\";position: absolute;border-left: 1px solid gray;box-sizing: border-box;top: 0;bottom: 0;left: 50%;z-index: 0;}#sk-container-id-4 div.sk-serial {display: flex;flex-direction: column;align-items: center;background-color: white;padding-right: 0.2em;padding-left: 0.2em;position: relative;}#sk-container-id-4 div.sk-item {position: relative;z-index: 1;}#sk-container-id-4 div.sk-parallel {display: flex;align-items: stretch;justify-content: center;background-color: white;position: relative;}#sk-container-id-4 div.sk-item::before, #sk-container-id-4 div.sk-parallel-item::before {content: \"\";position: absolute;border-left: 1px solid gray;box-sizing: border-box;top: 0;bottom: 0;left: 50%;z-index: -1;}#sk-container-id-4 div.sk-parallel-item {display: flex;flex-direction: column;z-index: 1;position: relative;background-color: white;}#sk-container-id-4 div.sk-parallel-item:first-child::after {align-self: flex-end;width: 50%;}#sk-container-id-4 div.sk-parallel-item:last-child::after {align-self: flex-start;width: 50%;}#sk-container-id-4 div.sk-parallel-item:only-child::after {width: 0;}#sk-container-id-4 div.sk-dashed-wrapped {border: 1px dashed gray;margin: 0 0.4em 0.5em 0.4em;box-sizing: border-box;padding-bottom: 0.4em;background-color: white;}#sk-container-id-4 div.sk-label label {font-family: monospace;font-weight: bold;display: inline-block;line-height: 1.2em;}#sk-container-id-4 div.sk-label-container {text-align: center;}#sk-container-id-4 div.sk-container {/* jupyter's `normalize.less` sets `[hidden] { display: none; }` but bootstrap.min.css set `[hidden] { display: none !important; }` so we also need the `!important` here to be able to override the default hidden behavior on the sphinx rendered scikit-learn.org. See: https://github.com/scikit-learn/scikit-learn/issues/21755 */display: inline-block !important;position: relative;}#sk-container-id-4 div.sk-text-repr-fallback {display: none;}</style><div id=\"sk-container-id-4\" class=\"sk-top-container\"><div class=\"sk-text-repr-fallback\"><pre>LogisticRegression()</pre><b>In a Jupyter environment, please rerun this cell to show the HTML representation or trust the notebook. <br />On GitHub, the HTML representation is unable to render, please try loading this page with nbviewer.org.</b></div><div class=\"sk-container\" hidden><div class=\"sk-item\"><div class=\"sk-estimator sk-toggleable\"><input class=\"sk-toggleable__control sk-hidden--visually\" id=\"sk-estimator-id-4\" type=\"checkbox\" checked><label for=\"sk-estimator-id-4\" class=\"sk-toggleable__label sk-toggleable__label-arrow\">LogisticRegression</label><div class=\"sk-toggleable__content\"><pre>LogisticRegression()</pre></div></div></div></div></div>"
      ],
      "text/plain": [
       "LogisticRegression()"
      ]
     },
     "execution_count": 819,
     "metadata": {},
     "output_type": "execute_result"
    }
   ],
   "source": [
    "# Train the Logistic Regression model\n",
    "model = LogisticRegression()\n",
    "model.fit(X_train, y_train)"
   ]
  },
  {
   "cell_type": "code",
   "execution_count": 820,
   "metadata": {},
   "outputs": [],
   "source": [
    "# Evaluate the model\n",
    "y_pred = model.predict(X_test)\n",
    "y_pred_proba = model.predict_proba(X_test)[:, 1]\n",
    "fprate, tprate, thresholds = roc_curve(y_test, y_pred, pos_label=1)"
   ]
  },
  {
   "cell_type": "code",
   "execution_count": 821,
   "metadata": {},
   "outputs": [
    {
     "name": "stdout",
     "output_type": "stream",
     "text": [
      "LogisticRegression accuracy is 0.99429\n"
     ]
    }
   ],
   "source": [
    "print(model.__class__.__name__+\" accuracy is %2.5f\" % accuracy_score(y_test, y_pred))"
   ]
  },
  {
   "cell_type": "code",
   "execution_count": 822,
   "metadata": {},
   "outputs": [
    {
     "name": "stdout",
     "output_type": "stream",
     "text": [
      "Confusion Matrix:\n",
      " [[ 376   12]\n",
      " [   4 2409]]\n",
      "\n",
      "Classification Report:\n",
      "               precision    recall  f1-score   support\n",
      "\n",
      "           0       0.99      0.97      0.98       388\n",
      "           1       1.00      1.00      1.00      2413\n",
      "\n",
      "    accuracy                           0.99      2801\n",
      "   macro avg       0.99      0.98      0.99      2801\n",
      "weighted avg       0.99      0.99      0.99      2801\n",
      "\n"
     ]
    }
   ],
   "source": [
    "# evaluate the model\n",
    "print(\"Confusion Matrix:\\n\", confusion_matrix(y_test, y_pred))\n",
    "print(\"\\nClassification Report:\\n\", classification_report(y_test, y_pred))"
   ]
  },
  {
   "cell_type": "code",
   "execution_count": 823,
   "metadata": {},
   "outputs": [
    {
     "data": {
      "image/png": "[encoded data removed]",
      "text/plain": [
       "<Figure size 900x900 with 2 Axes>"
      ]
     },
     "metadata": {},
     "output_type": "display_data"
    }
   ],
   "source": [
    "lscore = model.score(X_test, y_test)\n",
    "cm = confusion_matrix(y_test, y_pred)\n",
    "\n",
    "plt.figure(figsize=(9,9))\n",
    "sns.heatmap(cm, annot=True,\n",
    "            fmt=\".0f\",\n",
    "            linewidths=.5,\n",
    "            square = True,\n",
    "            cmap = 'Blues');\n",
    "plt.ylabel('Actual label', fontsize = 17);\n",
    "plt.xlabel('Predicted label', fontsize = 17);\n",
    "plt.title('Confusion Matrix for Logistic Regression'.format(lscore), size = 17);\n",
    "plt.tick_params(labelsize= 15)"
   ]
  },
  {
   "cell_type": "code",
   "execution_count": 824,
   "metadata": {},
   "outputs": [
    {
     "data": {
      "text/plain": [
       "array([[9.11629879e-01, 8.83701214e-02],\n",
       "       [9.98960142e-01, 1.03985842e-03],\n",
       "       [1.81407216e-07, 9.99999819e-01],\n",
       "       [1.14996901e-12, 1.00000000e+00],\n",
       "       [3.21388219e-01, 6.78611781e-01],\n",
       "       [2.55351296e-14, 1.00000000e+00],\n",
       "       [1.09837061e-04, 9.99890163e-01],\n",
       "       [8.07551803e-10, 9.99999999e-01],\n",
       "       [1.95384584e-05, 9.99980462e-01],\n",
       "       [1.59011027e-10, 1.00000000e+00]])"
      ]
     },
     "execution_count": 824,
     "metadata": {},
     "output_type": "execute_result"
    }
   ],
   "source": [
    "y_pred_prob = model.predict_proba(X_test)[0:10]\n",
    "\n",
    "y_pred_prob"
   ]
  },
  {
   "cell_type": "code",
   "execution_count": 825,
   "metadata": {},
   "outputs": [
    {
     "data": {
      "text/html": [
       "<div>\n",
       "<style scoped>\n",
       "    .dataframe tbody tr th:only-of-type {\n",
       "        vertical-align: middle;\n",
       "    }\n",
       "\n",
       "    .dataframe tbody tr th {\n",
       "        vertical-align: top;\n",
       "    }\n",
       "\n",
       "    .dataframe thead th {\n",
       "        text-align: right;\n",
       "    }\n",
       "</style>\n",
       "<table border=\"1\" class=\"dataframe\">\n",
       "  <thead>\n",
       "    <tr style=\"text-align: right;\">\n",
       "      <th></th>\n",
       "      <th>Prob of - No Storm Direction (0)</th>\n",
       "      <th>Prob of - Storm Direction (1)</th>\n",
       "    </tr>\n",
       "  </thead>\n",
       "  <tbody>\n",
       "    <tr>\n",
       "      <th>0</th>\n",
       "      <td>9.116299e-01</td>\n",
       "      <td>0.088370</td>\n",
       "    </tr>\n",
       "    <tr>\n",
       "      <th>1</th>\n",
       "      <td>9.989601e-01</td>\n",
       "      <td>0.001040</td>\n",
       "    </tr>\n",
       "    <tr>\n",
       "      <th>2</th>\n",
       "      <td>1.814072e-07</td>\n",
       "      <td>1.000000</td>\n",
       "    </tr>\n",
       "    <tr>\n",
       "      <th>3</th>\n",
       "      <td>1.149969e-12</td>\n",
       "      <td>1.000000</td>\n",
       "    </tr>\n",
       "    <tr>\n",
       "      <th>4</th>\n",
       "      <td>3.213882e-01</td>\n",
       "      <td>0.678612</td>\n",
       "    </tr>\n",
       "    <tr>\n",
       "      <th>5</th>\n",
       "      <td>2.553513e-14</td>\n",
       "      <td>1.000000</td>\n",
       "    </tr>\n",
       "    <tr>\n",
       "      <th>6</th>\n",
       "      <td>1.098371e-04</td>\n",
       "      <td>0.999890</td>\n",
       "    </tr>\n",
       "    <tr>\n",
       "      <th>7</th>\n",
       "      <td>8.075518e-10</td>\n",
       "      <td>1.000000</td>\n",
       "    </tr>\n",
       "    <tr>\n",
       "      <th>8</th>\n",
       "      <td>1.953846e-05</td>\n",
       "      <td>0.999980</td>\n",
       "    </tr>\n",
       "    <tr>\n",
       "      <th>9</th>\n",
       "      <td>1.590110e-10</td>\n",
       "      <td>1.000000</td>\n",
       "    </tr>\n",
       "  </tbody>\n",
       "</table>\n",
       "</div>"
      ],
      "text/plain": [
       "   Prob of - No Storm Direction (0)  Prob of - Storm Direction (1)\n",
       "0                      9.116299e-01                       0.088370\n",
       "1                      9.989601e-01                       0.001040\n",
       "2                      1.814072e-07                       1.000000\n",
       "3                      1.149969e-12                       1.000000\n",
       "4                      3.213882e-01                       0.678612\n",
       "5                      2.553513e-14                       1.000000\n",
       "6                      1.098371e-04                       0.999890\n",
       "7                      8.075518e-10                       1.000000\n",
       "8                      1.953846e-05                       0.999980\n",
       "9                      1.590110e-10                       1.000000"
      ]
     },
     "execution_count": 825,
     "metadata": {},
     "output_type": "execute_result"
    }
   ],
   "source": [
    "# store the probabilities in dataframe\n",
    "\n",
    "y_pred_prob_df = pd.DataFrame(data=y_pred_prob, columns=['Prob of - No Storm Direction (0)', 'Prob of - Storm Direction (1)'])\n",
    "\n",
    "y_pred_prob_df"
   ]
  },
  {
   "cell_type": "code",
   "execution_count": 826,
   "metadata": {},
   "outputs": [
    {
     "data": {
      "text/plain": [
       "array([0.08837012, 0.00103986, 0.99999982, 1.        , 0.67861178,\n",
       "       1.        , 0.99989016, 1.        , 0.99998046, 1.        ])"
      ]
     },
     "execution_count": 826,
     "metadata": {},
     "output_type": "execute_result"
    }
   ],
   "source": [
    "# print the first 10 predicted probabilities for class 1 - Probability of rain\n",
    "\n",
    "model.predict_proba(X_test)[0:10, 1]"
   ]
  },
  {
   "cell_type": "code",
   "execution_count": 827,
   "metadata": {},
   "outputs": [],
   "source": [
    "# store the predicted probabilities for class 1 - Probability of rain\n",
    "\n",
    "y_pred1 = model.predict_proba(X_test)[:, 1]"
   ]
  },
  {
   "cell_type": "code",
   "execution_count": 828,
   "metadata": {},
   "outputs": [
    {
     "data": {
      "text/plain": [
       "Text(0, 0.5, 'Frequency')"
      ]
     },
     "execution_count": 828,
     "metadata": {},
     "output_type": "execute_result"
    },
    {
     "data": {
      "image/png": "[encoded data removed]",
      "text/plain": [
       "<Figure size 800x500 with 1 Axes>"
      ]
     },
     "metadata": {},
     "output_type": "display_data"
    }
   ],
   "source": [
    "# plot histogram of predicted probabilities\n",
    "\n",
    "\n",
    "# adjust the font size \n",
    "plt.rcParams['font.size'] = 12\n",
    "\n",
    "\n",
    "# plot histogram with 10 bins\n",
    "plt.hist(y_pred1, bins = 10)\n",
    "\n",
    "\n",
    "# set the title of predicted probabilities\n",
    "plt.title('Histogram of predicted probabilities of Storm Direction')\n",
    "\n",
    "\n",
    "# set the x-axis limit\n",
    "plt.xlim(0,1)\n",
    "\n",
    "\n",
    "# set the title\n",
    "plt.xlabel('Predicted probabilities of Storm Direction')\n",
    "plt.ylabel('Frequency')"
   ]
  },
  {
   "cell_type": "code",
   "execution_count": 831,
   "metadata": {},
   "outputs": [
    {
     "data": {
      "image/png": "[encoded data removed]",
      "text/plain": [
       "<Figure size 600x400 with 1 Axes>"
      ]
     },
     "metadata": {},
     "output_type": "display_data"
    }
   ],
   "source": [
    "from sklearn.metrics import roc_curve\n",
    "\n",
    "fpr, tpr, thresholds = roc_curve(y_test, y_pred1, pos_label = 'Yes')\n",
    "\n",
    "plt.figure(figsize=(6,4))\n",
    "\n",
    "plt.plot(fpr, tpr, linewidth=2)\n",
    "\n",
    "plt.plot([0,1], [0,1], 'k--' )\n",
    "\n",
    "plt.rcParams['font.size'] = 12\n",
    "\n",
    "plt.title('ROC curve for Storm Direction classifier')\n",
    "\n",
    "plt.xlabel('False Positive Rate (1 - Specificity)')\n",
    "\n",
    "plt.ylabel('True Positive Rate (Sensitivity)')\n",
    "\n",
    "plt.show()"
   ]
  },
  {
   "cell_type": "code",
   "execution_count": 832,
   "metadata": {},
   "outputs": [
    {
     "name": "stdout",
     "output_type": "stream",
     "text": [
      "ROC AUC : 0.9999\n"
     ]
    }
   ],
   "source": [
    "# compute ROC AUC\n",
    "\n",
    "from sklearn.metrics import roc_auc_score\n",
    "\n",
    "ROC_AUC = roc_auc_score(y_test, y_pred1)\n",
    "\n",
    "print('ROC AUC : {:.4f}'.format(ROC_AUC))"
   ]
  },
  {
   "cell_type": "code",
   "execution_count": 833,
   "metadata": {},
   "outputs": [
    {
     "name": "stdout",
     "output_type": "stream",
     "text": [
      "Cross validated ROC AUC : 0.9999\n"
     ]
    }
   ],
   "source": [
    "from sklearn.model_selection import cross_val_score\n",
    "\n",
    "Cross_validated_ROC_AUC = cross_val_score(model, X_train, y_train, cv=5, scoring='roc_auc').mean()\n",
    "\n",
    "print('Cross validated ROC AUC : {:.4f}'.format(Cross_validated_ROC_AUC))"
   ]
  },
  {
   "cell_type": "code",
   "execution_count": 834,
   "metadata": {},
   "outputs": [
    {
     "name": "stdout",
     "output_type": "stream",
     "text": [
      "Cross-validation scores:[0.99598214 0.99732143 0.99508929 0.99553571 0.99285714]\n"
     ]
    }
   ],
   "source": [
    "# Applying 5-Fold Cross Validation\n",
    "\n",
    "from sklearn.model_selection import cross_val_score\n",
    "\n",
    "scores = cross_val_score(model, X_train, y_train, cv = 5, scoring='accuracy')\n",
    "\n",
    "print('Cross-validation scores:{}'.format(scores))"
   ]
  },
  {
   "cell_type": "code",
   "execution_count": 835,
   "metadata": {},
   "outputs": [
    {
     "name": "stdout",
     "output_type": "stream",
     "text": [
      "Average cross-validation score: 0.9954\n"
     ]
    }
   ],
   "source": [
    "# compute Average cross-validation score\n",
    "\n",
    "print('Average cross-validation score: {:.4f}'.format(scores.mean()))"
   ]
  },
  {
   "cell_type": "code",
   "execution_count": 839,
   "metadata": {},
   "outputs": [
    {
     "data": {
      "text/html": [
       "<style>#sk-container-id-6 {color: black;}#sk-container-id-6 pre{padding: 0;}#sk-container-id-6 div.sk-toggleable {background-color: white;}#sk-container-id-6 label.sk-toggleable__label {cursor: pointer;display: block;width: 100%;margin-bottom: 0;padding: 0.3em;box-sizing: border-box;text-align: center;}#sk-container-id-6 label.sk-toggleable__label-arrow:before {content: \"▸\";float: left;margin-right: 0.25em;color: #696969;}#sk-container-id-6 label.sk-toggleable__label-arrow:hover:before {color: black;}#sk-container-id-6 div.sk-estimator:hover label.sk-toggleable__label-arrow:before {color: black;}#sk-container-id-6 div.sk-toggleable__content {max-height: 0;max-width: 0;overflow: hidden;text-align: left;background-color: #f0f8ff;}#sk-container-id-6 div.sk-toggleable__content pre {margin: 0.2em;color: black;border-radius: 0.25em;background-color: #f0f8ff;}#sk-container-id-6 input.sk-toggleable__control:checked~div.sk-toggleable__content {max-height: 200px;max-width: 100%;overflow: auto;}#sk-container-id-6 input.sk-toggleable__control:checked~label.sk-toggleable__label-arrow:before {content: \"▾\";}#sk-container-id-6 div.sk-estimator input.sk-toggleable__control:checked~label.sk-toggleable__label {background-color: #d4ebff;}#sk-container-id-6 div.sk-label input.sk-toggleable__control:checked~label.sk-toggleable__label {background-color: #d4ebff;}#sk-container-id-6 input.sk-hidden--visually {border: 0;clip: rect(1px 1px 1px 1px);clip: rect(1px, 1px, 1px, 1px);height: 1px;margin: -1px;overflow: hidden;padding: 0;position: absolute;width: 1px;}#sk-container-id-6 div.sk-estimator {font-family: monospace;background-color: #f0f8ff;border: 1px dotted black;border-radius: 0.25em;box-sizing: border-box;margin-bottom: 0.5em;}#sk-container-id-6 div.sk-estimator:hover {background-color: #d4ebff;}#sk-container-id-6 div.sk-parallel-item::after {content: \"\";width: 100%;border-bottom: 1px solid gray;flex-grow: 1;}#sk-container-id-6 div.sk-label:hover label.sk-toggleable__label {background-color: #d4ebff;}#sk-container-id-6 div.sk-serial::before {content: \"\";position: absolute;border-left: 1px solid gray;box-sizing: border-box;top: 0;bottom: 0;left: 50%;z-index: 0;}#sk-container-id-6 div.sk-serial {display: flex;flex-direction: column;align-items: center;background-color: white;padding-right: 0.2em;padding-left: 0.2em;position: relative;}#sk-container-id-6 div.sk-item {position: relative;z-index: 1;}#sk-container-id-6 div.sk-parallel {display: flex;align-items: stretch;justify-content: center;background-color: white;position: relative;}#sk-container-id-6 div.sk-item::before, #sk-container-id-6 div.sk-parallel-item::before {content: \"\";position: absolute;border-left: 1px solid gray;box-sizing: border-box;top: 0;bottom: 0;left: 50%;z-index: -1;}#sk-container-id-6 div.sk-parallel-item {display: flex;flex-direction: column;z-index: 1;position: relative;background-color: white;}#sk-container-id-6 div.sk-parallel-item:first-child::after {align-self: flex-end;width: 50%;}#sk-container-id-6 div.sk-parallel-item:last-child::after {align-self: flex-start;width: 50%;}#sk-container-id-6 div.sk-parallel-item:only-child::after {width: 0;}#sk-container-id-6 div.sk-dashed-wrapped {border: 1px dashed gray;margin: 0 0.4em 0.5em 0.4em;box-sizing: border-box;padding-bottom: 0.4em;background-color: white;}#sk-container-id-6 div.sk-label label {font-family: monospace;font-weight: bold;display: inline-block;line-height: 1.2em;}#sk-container-id-6 div.sk-label-container {text-align: center;}#sk-container-id-6 div.sk-container {/* jupyter's `normalize.less` sets `[hidden] { display: none; }` but bootstrap.min.css set `[hidden] { display: none !important; }` so we also need the `!important` here to be able to override the default hidden behavior on the sphinx rendered scikit-learn.org. See: https://github.com/scikit-learn/scikit-learn/issues/21755 */display: inline-block !important;position: relative;}#sk-container-id-6 div.sk-text-repr-fallback {display: none;}</style><div id=\"sk-container-id-6\" class=\"sk-top-container\"><div class=\"sk-text-repr-fallback\"><pre>GridSearchCV(cv=5, estimator=LogisticRegression(),\n",
       "             param_grid=[{&#x27;penalty&#x27;: [&#x27;l1&#x27;, &#x27;l2&#x27;]}, {&#x27;C&#x27;: [1, 10, 100, 1000]}],\n",
       "             scoring=&#x27;accuracy&#x27;)</pre><b>In a Jupyter environment, please rerun this cell to show the HTML representation or trust the notebook. <br />On GitHub, the HTML representation is unable to render, please try loading this page with nbviewer.org.</b></div><div class=\"sk-container\" hidden><div class=\"sk-item sk-dashed-wrapped\"><div class=\"sk-label-container\"><div class=\"sk-label sk-toggleable\"><input class=\"sk-toggleable__control sk-hidden--visually\" id=\"sk-estimator-id-8\" type=\"checkbox\" ><label for=\"sk-estimator-id-8\" class=\"sk-toggleable__label sk-toggleable__label-arrow\">GridSearchCV</label><div class=\"sk-toggleable__content\"><pre>GridSearchCV(cv=5, estimator=LogisticRegression(),\n",
       "             param_grid=[{&#x27;penalty&#x27;: [&#x27;l1&#x27;, &#x27;l2&#x27;]}, {&#x27;C&#x27;: [1, 10, 100, 1000]}],\n",
       "             scoring=&#x27;accuracy&#x27;)</pre></div></div></div><div class=\"sk-parallel\"><div class=\"sk-parallel-item\"><div class=\"sk-item\"><div class=\"sk-label-container\"><div class=\"sk-label sk-toggleable\"><input class=\"sk-toggleable__control sk-hidden--visually\" id=\"sk-estimator-id-9\" type=\"checkbox\" ><label for=\"sk-estimator-id-9\" class=\"sk-toggleable__label sk-toggleable__label-arrow\">estimator: LogisticRegression</label><div class=\"sk-toggleable__content\"><pre>LogisticRegression()</pre></div></div></div><div class=\"sk-serial\"><div class=\"sk-item\"><div class=\"sk-estimator sk-toggleable\"><input class=\"sk-toggleable__control sk-hidden--visually\" id=\"sk-estimator-id-10\" type=\"checkbox\" ><label for=\"sk-estimator-id-10\" class=\"sk-toggleable__label sk-toggleable__label-arrow\">LogisticRegression</label><div class=\"sk-toggleable__content\"><pre>LogisticRegression()</pre></div></div></div></div></div></div></div></div></div></div>"
      ],
      "text/plain": [
       "GridSearchCV(cv=5, estimator=LogisticRegression(),\n",
       "             param_grid=[{'penalty': ['l1', 'l2']}, {'C': [1, 10, 100, 1000]}],\n",
       "             scoring='accuracy')"
      ]
     },
     "execution_count": 839,
     "metadata": {},
     "output_type": "execute_result"
    }
   ],
   "source": [
    "from sklearn.model_selection import GridSearchCV\n",
    "\n",
    "\n",
    "parameters = [{'penalty':['l1','l2']}, \n",
    "              {'C':[1, 10, 100, 1000]}]\n",
    "\n",
    "\n",
    "\n",
    "grid_search = GridSearchCV(estimator = model,  \n",
    "                           param_grid = parameters,\n",
    "                           scoring = 'accuracy',\n",
    "                           cv = 5,\n",
    "                           verbose=0)\n",
    "\n",
    "\n",
    "grid_search.fit(X_train, y_train)"
   ]
  },
  {
   "cell_type": "code",
   "execution_count": 842,
   "metadata": {},
   "outputs": [
    {
     "name": "stdout",
     "output_type": "stream",
     "text": [
      "GridSearch best score : 0.9991\n",
      "\n",
      "\n",
      "Parameters that give the best results : \n",
      "\n",
      " {'C': 1000}\n",
      "\n",
      "\n",
      "Estimator that was chosen by the search : \n",
      "\n",
      " LogisticRegression(C=1000)\n"
     ]
    }
   ],
   "source": [
    "# examine the best model\n",
    "\n",
    "# best score achieved during the GridSearchCV\n",
    "print('GridSearch best score : {:.4f}\\n\\n'.format(grid_search.best_score_))\n",
    "\n",
    "# print parameters that give the best results\n",
    "print('Parameters that give the best results :','\\n\\n', (grid_search.best_params_))\n",
    "\n",
    "# print estimator that was chosen by the GridSearch\n",
    "print('\\n\\nEstimator that was chosen by the search :','\\n\\n', (grid_search.best_estimator_))"
   ]
  },
  {
   "cell_type": "code",
   "execution_count": 843,
   "metadata": {},
   "outputs": [
    {
     "name": "stdout",
     "output_type": "stream",
     "text": [
      "GridSearch CV score on test set: 0.9993\n"
     ]
    }
   ],
   "source": [
    "# calculate GridSearch CV score on test set\n",
    "\n",
    "print('GridSearch CV score on test set: {0:0.4f}'.format(grid_search.score(X_test, y_test)))"
   ]
  }
 ],
 "metadata": {
  "kernelspec": {
   "display_name": "DataScience",
   "language": "python",
   "name": "python3"
  },
  "language_info": {
   "codemirror_mode": {
    "name": "ipython",
    "version": 3
   },
   "file_extension": ".py",
   "mimetype": "text/x-python",
   "name": "python",
   "nbconvert_exporter": "python",
   "pygments_lexer": "ipython3",
   "version": "3.11.7"
  }
 },
 "nbformat": 4,
 "nbformat_minor": 2
}
